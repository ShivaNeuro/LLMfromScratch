{
  "nbformat": 4,
  "nbformat_minor": 0,
  "metadata": {
    "colab": {
      "provenance": []
    },
    "kernelspec": {
      "name": "python3",
      "display_name": "Python 3"
    },
    "language_info": {
      "name": "python"
    }
  },
  "cells": [
    {
      "cell_type": "markdown",
      "source": [
        "IMPLEMENTING SELF ATTENTION WITH TRAINABLE WEIGHTS"
      ],
      "metadata": {
        "id": "JsuTA0RTpWmk"
      }
    },
    {
      "cell_type": "code",
      "source": [
        "pip install torch"
      ],
      "metadata": {
        "colab": {
          "base_uri": "https://localhost:8080/"
        },
        "id": "jsZsqNZ4p630",
        "outputId": "627ee7b0-c15d-49e9-9dc1-7595978526b7"
      },
      "execution_count": 4,
      "outputs": [
        {
          "output_type": "stream",
          "name": "stdout",
          "text": [
            "Requirement already satisfied: torch in /usr/local/lib/python3.12/dist-packages (2.8.0+cu126)\n",
            "Requirement already satisfied: filelock in /usr/local/lib/python3.12/dist-packages (from torch) (3.19.1)\n",
            "Requirement already satisfied: typing-extensions>=4.10.0 in /usr/local/lib/python3.12/dist-packages (from torch) (4.15.0)\n",
            "Requirement already satisfied: setuptools in /usr/local/lib/python3.12/dist-packages (from torch) (75.2.0)\n",
            "Requirement already satisfied: sympy>=1.13.3 in /usr/local/lib/python3.12/dist-packages (from torch) (1.13.3)\n",
            "Requirement already satisfied: networkx in /usr/local/lib/python3.12/dist-packages (from torch) (3.5)\n",
            "Requirement already satisfied: jinja2 in /usr/local/lib/python3.12/dist-packages (from torch) (3.1.6)\n",
            "Requirement already satisfied: fsspec in /usr/local/lib/python3.12/dist-packages (from torch) (2025.3.0)\n",
            "Requirement already satisfied: nvidia-cuda-nvrtc-cu12==12.6.77 in /usr/local/lib/python3.12/dist-packages (from torch) (12.6.77)\n",
            "Requirement already satisfied: nvidia-cuda-runtime-cu12==12.6.77 in /usr/local/lib/python3.12/dist-packages (from torch) (12.6.77)\n",
            "Requirement already satisfied: nvidia-cuda-cupti-cu12==12.6.80 in /usr/local/lib/python3.12/dist-packages (from torch) (12.6.80)\n",
            "Requirement already satisfied: nvidia-cudnn-cu12==9.10.2.21 in /usr/local/lib/python3.12/dist-packages (from torch) (9.10.2.21)\n",
            "Requirement already satisfied: nvidia-cublas-cu12==12.6.4.1 in /usr/local/lib/python3.12/dist-packages (from torch) (12.6.4.1)\n",
            "Requirement already satisfied: nvidia-cufft-cu12==11.3.0.4 in /usr/local/lib/python3.12/dist-packages (from torch) (11.3.0.4)\n",
            "Requirement already satisfied: nvidia-curand-cu12==10.3.7.77 in /usr/local/lib/python3.12/dist-packages (from torch) (10.3.7.77)\n",
            "Requirement already satisfied: nvidia-cusolver-cu12==11.7.1.2 in /usr/local/lib/python3.12/dist-packages (from torch) (11.7.1.2)\n",
            "Requirement already satisfied: nvidia-cusparse-cu12==12.5.4.2 in /usr/local/lib/python3.12/dist-packages (from torch) (12.5.4.2)\n",
            "Requirement already satisfied: nvidia-cusparselt-cu12==0.7.1 in /usr/local/lib/python3.12/dist-packages (from torch) (0.7.1)\n",
            "Requirement already satisfied: nvidia-nccl-cu12==2.27.3 in /usr/local/lib/python3.12/dist-packages (from torch) (2.27.3)\n",
            "Requirement already satisfied: nvidia-nvtx-cu12==12.6.77 in /usr/local/lib/python3.12/dist-packages (from torch) (12.6.77)\n",
            "Requirement already satisfied: nvidia-nvjitlink-cu12==12.6.85 in /usr/local/lib/python3.12/dist-packages (from torch) (12.6.85)\n",
            "Requirement already satisfied: nvidia-cufile-cu12==1.11.1.6 in /usr/local/lib/python3.12/dist-packages (from torch) (1.11.1.6)\n",
            "Requirement already satisfied: triton==3.4.0 in /usr/local/lib/python3.12/dist-packages (from torch) (3.4.0)\n",
            "Requirement already satisfied: mpmath<1.4,>=1.1.0 in /usr/local/lib/python3.12/dist-packages (from sympy>=1.13.3->torch) (1.3.0)\n",
            "Requirement already satisfied: MarkupSafe>=2.0 in /usr/local/lib/python3.12/dist-packages (from jinja2->torch) (3.0.2)\n"
          ]
        }
      ]
    },
    {
      "cell_type": "code",
      "execution_count": 5,
      "metadata": {
        "id": "XCGpC8lJSYtJ"
      },
      "outputs": [],
      "source": [
        "import torch\n",
        "inputs = torch.tensor([\n",
        "    [0.43,0.15,0.89], #Your\n",
        "    [0.55,0.87,0.66], #Journey\n",
        "    [0.57,0.85,0.64], #starts\n",
        "    [0.22,0.58,0.33], #with\n",
        "    [0.77,0.25,0.10], #one\n",
        "    [0.05,0.80,0.55]]) #step"
      ]
    },
    {
      "cell_type": "code",
      "source": [
        "x_2 = inputs[1]\n",
        "d_in = inputs.shape[1]\n",
        "d_out = 2\n",
        "torch.manual_seed(123)\n",
        "\n",
        "#Weight matrices\n",
        "w_query = torch.nn.Parameter(torch.rand(d_in,d_out),requires_grad=False)\n",
        "w_key = torch.nn.Parameter(torch.rand(d_in,d_out),requires_grad=False)\n",
        "w_value = torch.nn.Parameter(torch.rand(d_in,d_out),requires_grad=False)\n",
        "\n",
        "print(w_query)\n",
        "print(w_key)\n",
        "print(w_value)"
      ],
      "metadata": {
        "colab": {
          "base_uri": "https://localhost:8080/"
        },
        "id": "83RDviC8qTFH",
        "outputId": "a302a828-d5f0-44a4-9b91-f41e7d17f8fd"
      },
      "execution_count": 6,
      "outputs": [
        {
          "output_type": "stream",
          "name": "stdout",
          "text": [
            "Parameter containing:\n",
            "tensor([[0.2961, 0.5166],\n",
            "        [0.2517, 0.6886],\n",
            "        [0.0740, 0.8665]])\n",
            "Parameter containing:\n",
            "tensor([[0.1366, 0.1025],\n",
            "        [0.1841, 0.7264],\n",
            "        [0.3153, 0.6871]])\n",
            "Parameter containing:\n",
            "tensor([[0.0756, 0.1966],\n",
            "        [0.3164, 0.4017],\n",
            "        [0.1186, 0.8274]])\n"
          ]
        }
      ]
    },
    {
      "cell_type": "markdown",
      "source": [
        "Note that we are setting requires_grad=False to reduce clutter in the outputs for illustration purposes.\n",
        "If we were to use the weight matrices for model training, we would set require_grad = True to update these matrices during training."
      ],
      "metadata": {
        "id": "MhNwBEAxrQpy"
      }
    },
    {
      "cell_type": "markdown",
      "source": [
        "Next , we compute the query, key and value vectors as shown earlier."
      ],
      "metadata": {
        "id": "SjJDZ0pqrfN6"
      }
    },
    {
      "cell_type": "code",
      "source": [
        "query_2 = x_2 @ w_query\n",
        "key_2 = x_2 @ w_key\n",
        "value_2 = x_2 @ w_value\n",
        "\n",
        "print(query_2)\n",
        "print(key_2)\n",
        "print(value_2)"
      ],
      "metadata": {
        "colab": {
          "base_uri": "https://localhost:8080/"
        },
        "id": "ht2zCxwNreMV",
        "outputId": "eadf8988-f269-4f42-8334-906ed5e44826"
      },
      "execution_count": 7,
      "outputs": [
        {
          "output_type": "stream",
          "name": "stdout",
          "text": [
            "tensor([0.4306, 1.4551])\n",
            "tensor([0.4433, 1.1419])\n",
            "tensor([0.3951, 1.0037])\n"
          ]
        }
      ]
    },
    {
      "cell_type": "markdown",
      "source": [
        "We can obtain all keys and values via matrix multiplication\n",
        "\n"
      ],
      "metadata": {
        "id": "wrlw7t2KtTBO"
      }
    },
    {
      "cell_type": "code",
      "source": [
        "keys = inputs @ w_key\n",
        "values = inputs @ w_value\n",
        "queries = inputs @ w_query\n",
        "\n",
        "print(\"keys.shape\",keys.shape)\n",
        "print(\"values.shape\",values.shape)\n",
        "print(\"queries.shape\",queries.shape)\n"
      ],
      "metadata": {
        "colab": {
          "base_uri": "https://localhost:8080/"
        },
        "id": "7Qaw3SKGthuz",
        "outputId": "6f5a60bb-fe47-43d3-a373-edd18056b298"
      },
      "execution_count": 8,
      "outputs": [
        {
          "output_type": "stream",
          "name": "stdout",
          "text": [
            "keys.shape torch.Size([6, 2])\n",
            "values.shape torch.Size([6, 2])\n",
            "queries.shape torch.Size([6, 2])\n"
          ]
        }
      ]
    },
    {
      "cell_type": "code",
      "source": [
        "keys_2 = keys[1]\n",
        "attn_score_22 = query_2.dot(keys_2)\n",
        "print(attn_score_22)"
      ],
      "metadata": {
        "colab": {
          "base_uri": "https://localhost:8080/"
        },
        "id": "urQdRhixz5Sr",
        "outputId": "a77fe387-b393-4bb7-939f-e6bf291e7a53"
      },
      "execution_count": 9,
      "outputs": [
        {
          "output_type": "stream",
          "name": "stdout",
          "text": [
            "tensor(1.8524)\n"
          ]
        }
      ]
    },
    {
      "cell_type": "markdown",
      "source": [
        "Again, we can generalize this computation to all attention scores via matrix multiplicaiton"
      ],
      "metadata": {
        "id": "5JDfvk562rPm"
      }
    },
    {
      "cell_type": "code",
      "source": [
        "attn_scores_2 = query_2 @ keys.T #All attention scores for given query\n",
        "print(attn_scores_2)"
      ],
      "metadata": {
        "colab": {
          "base_uri": "https://localhost:8080/"
        },
        "id": "1j47GnVs2wiz",
        "outputId": "53da67cf-0538-474f-ac27-23d951ceae09"
      },
      "execution_count": 10,
      "outputs": [
        {
          "output_type": "stream",
          "name": "stdout",
          "text": [
            "tensor([1.2705, 1.8524, 1.8111, 1.0795, 0.5577, 1.5440])\n"
          ]
        }
      ]
    },
    {
      "cell_type": "code",
      "source": [
        "attn_scores = queries @ keys.T\n",
        "print(attn_scores)"
      ],
      "metadata": {
        "colab": {
          "base_uri": "https://localhost:8080/"
        },
        "id": "UMlCK9Ql282X",
        "outputId": "d6f56d22-917c-4230-81b2-bbdf6d8b3703"
      },
      "execution_count": 11,
      "outputs": [
        {
          "output_type": "stream",
          "name": "stdout",
          "text": [
            "tensor([[0.9231, 1.3545, 1.3241, 0.7910, 0.4032, 1.1330],\n",
            "        [1.2705, 1.8524, 1.8111, 1.0795, 0.5577, 1.5440],\n",
            "        [1.2544, 1.8284, 1.7877, 1.0654, 0.5508, 1.5238],\n",
            "        [0.6973, 1.0167, 0.9941, 0.5925, 0.3061, 0.8475],\n",
            "        [0.6114, 0.8819, 0.8626, 0.5121, 0.2707, 0.7307],\n",
            "        [0.8995, 1.3165, 1.2871, 0.7682, 0.3937, 1.0996]])\n"
          ]
        }
      ]
    },
    {
      "cell_type": "markdown",
      "source": [
        "Scaling by square root of keys dimension before applying softmax."
      ],
      "metadata": {
        "id": "j5BNkd455-PY"
      }
    },
    {
      "cell_type": "code",
      "source": [
        "d_k = keys.shape[-1]\n",
        "attn_weights_2 = torch.softmax(attn_scores_2/d_k**0.5,dim=-1)\n",
        "print(attn_weights_2)\n",
        "print(d_k)"
      ],
      "metadata": {
        "colab": {
          "base_uri": "https://localhost:8080/"
        },
        "id": "I4jlFcrG6DJ1",
        "outputId": "49147f0a-01f2-4541-8b22-43a0be234ef5"
      },
      "execution_count": 12,
      "outputs": [
        {
          "output_type": "stream",
          "name": "stdout",
          "text": [
            "tensor([0.1500, 0.2264, 0.2199, 0.1311, 0.0906, 0.1820])\n",
            "2\n"
          ]
        }
      ]
    },
    {
      "cell_type": "markdown",
      "source": [
        "WHY DIVIDE BY SQRT (DIMENSION)"
      ],
      "metadata": {
        "id": "pp7FqKLh7PWF"
      }
    },
    {
      "cell_type": "markdown",
      "source": [
        "\n",
        "Reason 1: For stability in learning\n",
        "\n",
        "The softmax function is sensitive to the magnitudes of its inputs. When the inputs are large, the differences between the exponential values of each input become much more pronounced. This causes the softmax output to become \"peaky,\" where the highest value receives almost all the probability mass, and the rest receive very little.\n",
        "\n",
        "In attention mechanisms, particularly in transformers, if the dot products between query and key vectors become too large (like multiplying by 8 in this example), the attention scores can become very large. This results in a very sharp softmax distribution, making the model overly confident in one particular \"key.\" Such sharp distributions can make learning unstable,"
      ],
      "metadata": {
        "id": "Q5sa-dA_7Sb9"
      }
    },
    {
      "cell_type": "code",
      "source": [
        "import torch\n",
        "\n",
        "# Define the tensor\n",
        "tensor = torch.tensor([0.1, -0.2, 0.3, -0.2, 0.5])\n",
        "\n",
        "# Apply softmax without scaling\n",
        "softmax_result = torch.softmax(tensor, dim=-1)\n",
        "print(\"Softmax without scaling:\", softmax_result)\n",
        "\n",
        "# Multiply the tensor by 8 and then apply softmax\n",
        "scaled_tensor = tensor * 8\n",
        "softmax_scaled_result = torch.softmax(scaled_tensor, dim=-1)\n",
        "print(\"Softmax after scaling (tensor * 8):\", softmax_scaled_result)"
      ],
      "metadata": {
        "colab": {
          "base_uri": "https://localhost:8080/"
        },
        "id": "owzDizjM7Xne",
        "outputId": "231ca1b9-99fd-4643-bb6a-b1b3e2435f05"
      },
      "execution_count": 13,
      "outputs": [
        {
          "output_type": "stream",
          "name": "stdout",
          "text": [
            "Softmax without scaling: tensor([0.1925, 0.1426, 0.2351, 0.1426, 0.2872])\n",
            "Softmax after scaling (tensor * 8): tensor([0.0326, 0.0030, 0.1615, 0.0030, 0.8000])\n"
          ]
        }
      ]
    },
    {
      "cell_type": "markdown",
      "source": [
        "WHY SQRT ?\n",
        "Reason 2: To make the variance of the dot product stable\n",
        "\n",
        "The dot product of  Q and K increases the variance because multiplying two random numbers increases the variance.\n",
        "\n",
        "The increase in variance grows with the dimension.\n",
        "\n",
        "Dividing by sqrt (dimension) keeps the variance close to 1"
      ],
      "metadata": {
        "id": "wWjypbn87kzA"
      }
    },
    {
      "cell_type": "code",
      "source": [
        "import numpy as np\n",
        "# Function to compute variance before and after scaling\n",
        "def compute_variance(dim, num_trials=1000):\n",
        "    dot_products = []\n",
        "    scaled_dot_products = []\n",
        "\n",
        "    # Generate multiple random vectors and compute dot products\n",
        "    for _ in range(num_trials):\n",
        "        q = np.random.randn(dim)\n",
        "        k = np.random.randn(dim)\n",
        "\n",
        "        # Compute dot product\n",
        "        dot_product = np.dot(q, k)\n",
        "        dot_products.append(dot_product)\n",
        "\n",
        "        # Scale the dot product by sqrt(dim)\n",
        "        scaled_dot_product = dot_product / np.sqrt(dim)\n",
        "        scaled_dot_products.append(scaled_dot_product)\n",
        "\n",
        "    # Calculate variance of the dot products\n",
        "    variance_before_scaling = np.var(dot_products)\n",
        "    variance_after_scaling = np.var(scaled_dot_products)\n",
        "\n",
        "    return variance_before_scaling, variance_after_scaling\n",
        "\n",
        "# For dimension 5\n",
        "variance_before_5, variance_after_5 = compute_variance(5)\n",
        "print(f\"Variance before scaling (dim=5): {variance_before_5}\")\n",
        "print(f\"Variance after scaling (dim=5): {variance_after_5}\")\n",
        "\n",
        "# For dimension 20\n",
        "variance_before_100, variance_after_100 = compute_variance(100)\n",
        "print(f\"Variance before scaling (dim=100): {variance_before_100}\")\n",
        "print(f\"Variance after scaling (dim=100): {variance_after_100}\")\n",
        "\n"
      ],
      "metadata": {
        "colab": {
          "base_uri": "https://localhost:8080/"
        },
        "id": "1jby9K627RzV",
        "outputId": "3d9f4a5c-ab06-4447-aa13-7f91f755f4d0"
      },
      "execution_count": 14,
      "outputs": [
        {
          "output_type": "stream",
          "name": "stdout",
          "text": [
            "Variance before scaling (dim=5): 5.265040115409276\n",
            "Variance after scaling (dim=5): 1.0530080230818553\n",
            "Variance before scaling (dim=100): 92.70069475714222\n",
            "Variance after scaling (dim=100): 0.9270069475714222\n"
          ]
        }
      ]
    },
    {
      "cell_type": "code",
      "source": [
        "context_vec_2 = attn_weights_2 @ values\n",
        "print(context_vec_2)"
      ],
      "metadata": {
        "colab": {
          "base_uri": "https://localhost:8080/"
        },
        "id": "jvKk8oUOwxrt",
        "outputId": "32f2eabc-2fd9-4db0-ce4b-5c70c91fa678"
      },
      "execution_count": 15,
      "outputs": [
        {
          "output_type": "stream",
          "name": "stdout",
          "text": [
            "tensor([0.3061, 0.8210])\n"
          ]
        }
      ]
    },
    {
      "cell_type": "markdown",
      "source": [
        "IMPLEMENTING A COMPACT SELF ATTENTION PYTHONC LASS"
      ],
      "metadata": {
        "id": "Z4REV3H-xGxC"
      }
    },
    {
      "cell_type": "code",
      "source": [
        "import torch.nn as nn\n",
        "\n",
        "class SelfAttention_v1(nn.Module):\n",
        "  def __init__(self,d_in,d_out):\n",
        "    super().__init__()\n",
        "    self.w_query = nn.Parameter(torch.rand(d_in,d_out))\n",
        "    self.w_key = nn.Parameter(torch.rand(d_in,d_out))\n",
        "    self.w_value = nn.Parameter(torch.rand(d_in,d_out))\n",
        "\n",
        "  def forward(self,x):\n",
        "    keys = x @ self.w_key\n",
        "    values = x @ self.w_value\n",
        "    queries = x @ self.w_query\n",
        "\n",
        "    attn_scores = queries @ keys.T\n",
        "    attn_weights = torch.softmax(attn_scores/keys.shape[-1]**0.5,dim=-1)\n",
        "    context_vec = attn_weights @ values\n",
        "    return context_vec\n",
        "\n",
        "torch.manual_seed(123)\n",
        "self_attn = SelfAttention_v1(d_in,d_out)\n",
        "print(self_attn(inputs))\n"
      ],
      "metadata": {
        "colab": {
          "base_uri": "https://localhost:8080/"
        },
        "id": "VlKeJXqUw-u7",
        "outputId": "8119d493-449c-40a4-e4a1-0f429bd09e75"
      },
      "execution_count": 16,
      "outputs": [
        {
          "output_type": "stream",
          "name": "stdout",
          "text": [
            "tensor([[0.2996, 0.8053],\n",
            "        [0.3061, 0.8210],\n",
            "        [0.3058, 0.8203],\n",
            "        [0.2948, 0.7939],\n",
            "        [0.2927, 0.7891],\n",
            "        [0.2990, 0.8040]], grad_fn=<MmBackward0>)\n"
          ]
        }
      ]
    },
    {
      "cell_type": "markdown",
      "source": [
        "Using nn.Linear instead of random vector for key ,, query value as nn.Linear has optimized weight initialization scheme, contributing to more stable and effective model training."
      ],
      "metadata": {
        "id": "17ODfbNL0AWK"
      }
    },
    {
      "cell_type": "code",
      "source": [
        "class SelfAttention_v2(nn.Module):\n",
        "  def __init__(self, d_in, d_out, qkv_bias = False):\n",
        "    super().__init__()\n",
        "    self.w_query = nn.Linear(d_in,d_out,bias=qkv_bias)\n",
        "    self.w_key = nn.Linear(d_in,d_out,bias=qkv_bias)\n",
        "    self.w_value = nn.Linear(d_in,d_out,bias=qkv_bias)\n",
        "\n",
        "  def forward(self,x):\n",
        "    keys = self.w_key(x)\n",
        "    queries = self.w_query(x)\n",
        "    values = self.w_value(x)\n",
        "\n",
        "    attn_scores = queries @ keys.T\n",
        "    attn_weights = torch.softmax(attn_scores/keys.shape[-1]**0.5,dim=-1)\n",
        "    context_vec = attn_weights @ values\n",
        "    return context_vec\n",
        "\n",
        "torch.manual_seed(789)\n",
        "self_attn_v2 = SelfAttention_v2(d_in,d_out)\n",
        "print(self_attn_v2(inputs))\n",
        "\n"
      ],
      "metadata": {
        "colab": {
          "base_uri": "https://localhost:8080/"
        },
        "id": "n1sIGa-w0Qcs",
        "outputId": "d28af1d8-7f93-46ec-a764-6301404a280d"
      },
      "execution_count": 17,
      "outputs": [
        {
          "output_type": "stream",
          "name": "stdout",
          "text": [
            "tensor([[-0.0739,  0.0713],\n",
            "        [-0.0748,  0.0703],\n",
            "        [-0.0749,  0.0702],\n",
            "        [-0.0760,  0.0685],\n",
            "        [-0.0763,  0.0679],\n",
            "        [-0.0754,  0.0693]], grad_fn=<MmBackward0>)\n"
          ]
        }
      ]
    },
    {
      "cell_type": "markdown",
      "source": [
        "HIDING FUTURE WORDS WITH CAUSAL ATTENTION"
      ],
      "metadata": {
        "id": "PFt2lwgTM-w8"
      }
    },
    {
      "cell_type": "code",
      "source": [
        "inputs = torch.tensor([\n",
        "    [0.43,0.15,0.89], #Your\n",
        "    [0.55,0.87,0.66], #Journey\n",
        "    [0.57,0.85,0.64], #starts\n",
        "    [0.22,0.58,0.33], #with\n",
        "    [0.77,0.25,0.10], #one\n",
        "    [0.05,0.80,0.55]]) #step\n",
        "\n",
        "queries = self_attn_v2.w_query(inputs)\n",
        "keys = self_attn_v2.w_key(inputs)\n",
        "values = self_attn_v2.w_value(inputs)\n",
        "\n",
        "attn_scores = queries @ keys.T\n",
        "attn_weights = torch.softmax(attn_scores/keys.shape[-1]**0.5,dim=-1)\n",
        "print(attn_weights)"
      ],
      "metadata": {
        "colab": {
          "base_uri": "https://localhost:8080/"
        },
        "id": "zHFiVQfWNBNw",
        "outputId": "d16bae17-2b12-48fe-94d1-fa7a0e73b13b"
      },
      "execution_count": 18,
      "outputs": [
        {
          "output_type": "stream",
          "name": "stdout",
          "text": [
            "tensor([[0.1921, 0.1646, 0.1652, 0.1550, 0.1721, 0.1510],\n",
            "        [0.2041, 0.1659, 0.1662, 0.1496, 0.1665, 0.1477],\n",
            "        [0.2036, 0.1659, 0.1662, 0.1498, 0.1664, 0.1480],\n",
            "        [0.1869, 0.1667, 0.1668, 0.1571, 0.1661, 0.1564],\n",
            "        [0.1830, 0.1669, 0.1670, 0.1588, 0.1658, 0.1585],\n",
            "        [0.1935, 0.1663, 0.1666, 0.1542, 0.1666, 0.1529]],\n",
            "       grad_fn=<SoftmaxBackward0>)\n"
          ]
        }
      ]
    },
    {
      "cell_type": "markdown",
      "source": [
        "Using pytorch tril function to create a mask where the values above the diagonal are zero"
      ],
      "metadata": {
        "id": "L6uYV6yp_M4R"
      }
    },
    {
      "cell_type": "code",
      "source": [
        "context_length = attn_scores.shape[0]\n",
        "mask_simple = torch.tril(torch.ones(context_length,context_length))\n",
        "print(mask_simple)\n"
      ],
      "metadata": {
        "colab": {
          "base_uri": "https://localhost:8080/"
        },
        "id": "lvyEnKJo_Zmq",
        "outputId": "72f271ac-c10b-4dbd-9dfa-6588d62466e6"
      },
      "execution_count": 19,
      "outputs": [
        {
          "output_type": "stream",
          "name": "stdout",
          "text": [
            "tensor([[1., 0., 0., 0., 0., 0.],\n",
            "        [1., 1., 0., 0., 0., 0.],\n",
            "        [1., 1., 1., 0., 0., 0.],\n",
            "        [1., 1., 1., 1., 0., 0.],\n",
            "        [1., 1., 1., 1., 1., 0.],\n",
            "        [1., 1., 1., 1., 1., 1.]])\n"
          ]
        }
      ]
    },
    {
      "cell_type": "code",
      "source": [
        "masked_simple = mask_simple * attn_weights\n",
        "print(masked_simple)"
      ],
      "metadata": {
        "colab": {
          "base_uri": "https://localhost:8080/"
        },
        "id": "vcM2xYNSABEn",
        "outputId": "7476f085-3bb5-4d96-8949-df7171ce750c"
      },
      "execution_count": 20,
      "outputs": [
        {
          "output_type": "stream",
          "name": "stdout",
          "text": [
            "tensor([[0.1921, 0.0000, 0.0000, 0.0000, 0.0000, 0.0000],\n",
            "        [0.2041, 0.1659, 0.0000, 0.0000, 0.0000, 0.0000],\n",
            "        [0.2036, 0.1659, 0.1662, 0.0000, 0.0000, 0.0000],\n",
            "        [0.1869, 0.1667, 0.1668, 0.1571, 0.0000, 0.0000],\n",
            "        [0.1830, 0.1669, 0.1670, 0.1588, 0.1658, 0.0000],\n",
            "        [0.1935, 0.1663, 0.1666, 0.1542, 0.1666, 0.1529]],\n",
            "       grad_fn=<MulBackward0>)\n"
          ]
        }
      ]
    },
    {
      "cell_type": "code",
      "source": [
        "row_sums = masked_simple.sum(dim=1,keepdim=True)\n",
        "masked_simple_norm = masked_simple/row_sums\n",
        "print(masked_simple_norm)"
      ],
      "metadata": {
        "colab": {
          "base_uri": "https://localhost:8080/"
        },
        "id": "Wm8K8Ws8AuGr",
        "outputId": "4e00dc21-a947-40bd-d100-2fde7d832911"
      },
      "execution_count": 21,
      "outputs": [
        {
          "output_type": "stream",
          "name": "stdout",
          "text": [
            "tensor([[1.0000, 0.0000, 0.0000, 0.0000, 0.0000, 0.0000],\n",
            "        [0.5517, 0.4483, 0.0000, 0.0000, 0.0000, 0.0000],\n",
            "        [0.3800, 0.3097, 0.3103, 0.0000, 0.0000, 0.0000],\n",
            "        [0.2758, 0.2460, 0.2462, 0.2319, 0.0000, 0.0000],\n",
            "        [0.2175, 0.1983, 0.1984, 0.1888, 0.1971, 0.0000],\n",
            "        [0.1935, 0.1663, 0.1666, 0.1542, 0.1666, 0.1529]],\n",
            "       grad_fn=<DivBackward0>)\n"
          ]
        }
      ]
    },
    {
      "cell_type": "markdown",
      "source": [
        "Due to softmax applying above, the above approach future tokens have already influenced all the inputs . This leads to data leakage problem. To avoid this , there is smarter way to do renormalization."
      ],
      "metadata": {
        "id": "L6hVfZR-BHpN"
      }
    },
    {
      "cell_type": "code",
      "source": [
        "print(attn_scores)\n",
        "torch.triu(torch.ones(context_length, context_length))"
      ],
      "metadata": {
        "colab": {
          "base_uri": "https://localhost:8080/"
        },
        "id": "3h5l_tygCDUH",
        "outputId": "d24280a6-fb20-4b29-851e-682dbd166509"
      },
      "execution_count": 22,
      "outputs": [
        {
          "output_type": "stream",
          "name": "stdout",
          "text": [
            "tensor([[ 0.2899,  0.0716,  0.0760, -0.0138,  0.1344, -0.0511],\n",
            "        [ 0.4656,  0.1723,  0.1751,  0.0259,  0.1771,  0.0085],\n",
            "        [ 0.4594,  0.1703,  0.1731,  0.0259,  0.1745,  0.0090],\n",
            "        [ 0.2642,  0.1024,  0.1036,  0.0186,  0.0973,  0.0122],\n",
            "        [ 0.2183,  0.0874,  0.0882,  0.0177,  0.0786,  0.0144],\n",
            "        [ 0.3408,  0.1270,  0.1290,  0.0198,  0.1290,  0.0078]],\n",
            "       grad_fn=<MmBackward0>)\n"
          ]
        },
        {
          "output_type": "execute_result",
          "data": {
            "text/plain": [
              "tensor([[1., 1., 1., 1., 1., 1.],\n",
              "        [0., 1., 1., 1., 1., 1.],\n",
              "        [0., 0., 1., 1., 1., 1.],\n",
              "        [0., 0., 0., 1., 1., 1.],\n",
              "        [0., 0., 0., 0., 1., 1.],\n",
              "        [0., 0., 0., 0., 0., 1.]])"
            ]
          },
          "metadata": {},
          "execution_count": 22
        }
      ]
    },
    {
      "cell_type": "code",
      "source": [
        "mask = torch.triu(torch.ones(context_length, context_length), diagonal=1)\n",
        "masked = attn_scores.masked_fill(mask.bool(), -torch.inf)\n",
        "print(masked)"
      ],
      "metadata": {
        "colab": {
          "base_uri": "https://localhost:8080/"
        },
        "id": "O9v1cFOHCMna",
        "outputId": "90c5a452-038c-4c95-8c0c-d66af5cd3639"
      },
      "execution_count": 23,
      "outputs": [
        {
          "output_type": "stream",
          "name": "stdout",
          "text": [
            "tensor([[0.2899,   -inf,   -inf,   -inf,   -inf,   -inf],\n",
            "        [0.4656, 0.1723,   -inf,   -inf,   -inf,   -inf],\n",
            "        [0.4594, 0.1703, 0.1731,   -inf,   -inf,   -inf],\n",
            "        [0.2642, 0.1024, 0.1036, 0.0186,   -inf,   -inf],\n",
            "        [0.2183, 0.0874, 0.0882, 0.0177, 0.0786,   -inf],\n",
            "        [0.3408, 0.1270, 0.1290, 0.0198, 0.1290, 0.0078]],\n",
            "       grad_fn=<MaskedFillBackward0>)\n"
          ]
        }
      ]
    },
    {
      "cell_type": "code",
      "source": [
        "attn_weights = torch.softmax(masked / keys.shape[-1]**0.5, dim=1)\n",
        "print(attn_weights)"
      ],
      "metadata": {
        "colab": {
          "base_uri": "https://localhost:8080/"
        },
        "id": "oNm5Nb1IElra",
        "outputId": "10611174-5e4a-43ec-ed58-a235ef6bf692"
      },
      "execution_count": 24,
      "outputs": [
        {
          "output_type": "stream",
          "name": "stdout",
          "text": [
            "tensor([[1.0000, 0.0000, 0.0000, 0.0000, 0.0000, 0.0000],\n",
            "        [0.5517, 0.4483, 0.0000, 0.0000, 0.0000, 0.0000],\n",
            "        [0.3800, 0.3097, 0.3103, 0.0000, 0.0000, 0.0000],\n",
            "        [0.2758, 0.2460, 0.2462, 0.2319, 0.0000, 0.0000],\n",
            "        [0.2175, 0.1983, 0.1984, 0.1888, 0.1971, 0.0000],\n",
            "        [0.1935, 0.1663, 0.1666, 0.1542, 0.1666, 0.1529]],\n",
            "       grad_fn=<SoftmaxBackward0>)\n"
          ]
        }
      ]
    },
    {
      "cell_type": "code",
      "source": [
        "attn_weights = torch.softmax(masked / keys.shape[-1]**0.5, dim=1)\n",
        "print(attn_weights)"
      ],
      "metadata": {
        "colab": {
          "base_uri": "https://localhost:8080/"
        },
        "id": "KTvHeS23JMx3",
        "outputId": "adc939c3-23fc-4796-f583-3660a0618966"
      },
      "execution_count": 25,
      "outputs": [
        {
          "output_type": "stream",
          "name": "stdout",
          "text": [
            "tensor([[1.0000, 0.0000, 0.0000, 0.0000, 0.0000, 0.0000],\n",
            "        [0.5517, 0.4483, 0.0000, 0.0000, 0.0000, 0.0000],\n",
            "        [0.3800, 0.3097, 0.3103, 0.0000, 0.0000, 0.0000],\n",
            "        [0.2758, 0.2460, 0.2462, 0.2319, 0.0000, 0.0000],\n",
            "        [0.2175, 0.1983, 0.1984, 0.1888, 0.1971, 0.0000],\n",
            "        [0.1935, 0.1663, 0.1666, 0.1542, 0.1666, 0.1529]],\n",
            "       grad_fn=<SoftmaxBackward0>)\n"
          ]
        }
      ]
    },
    {
      "cell_type": "markdown",
      "source": [
        "DROPOUT 0.5 Example"
      ],
      "metadata": {
        "id": "iIpfd2KcNVtm"
      }
    },
    {
      "cell_type": "code",
      "source": [
        "torch.manual_seed(123)\n",
        "dropout = torch.nn.Dropout(0.5)\n",
        "example = torch.ones(6,6)\n",
        "print(dropout(example))"
      ],
      "metadata": {
        "colab": {
          "base_uri": "https://localhost:8080/"
        },
        "id": "fC7vaN6NNXon",
        "outputId": "bdb597ca-ca51-4ac0-a32f-e4b30a879c09"
      },
      "execution_count": 26,
      "outputs": [
        {
          "output_type": "stream",
          "name": "stdout",
          "text": [
            "tensor([[2., 2., 0., 2., 2., 0.],\n",
            "        [0., 0., 0., 2., 0., 2.],\n",
            "        [2., 2., 2., 2., 0., 2.],\n",
            "        [0., 2., 2., 0., 0., 2.],\n",
            "        [0., 2., 0., 2., 0., 2.],\n",
            "        [0., 2., 2., 2., 2., 0.]])\n"
          ]
        }
      ]
    },
    {
      "cell_type": "code",
      "source": [
        "torch.manual_seed(123)\n",
        "print(dropout(attn_weights))"
      ],
      "metadata": {
        "colab": {
          "base_uri": "https://localhost:8080/"
        },
        "id": "jACJkKUDN957",
        "outputId": "32882a20-e8ae-412b-cf65-e1f39a55f926"
      },
      "execution_count": 27,
      "outputs": [
        {
          "output_type": "stream",
          "name": "stdout",
          "text": [
            "tensor([[2.0000, 0.0000, 0.0000, 0.0000, 0.0000, 0.0000],\n",
            "        [0.0000, 0.0000, 0.0000, 0.0000, 0.0000, 0.0000],\n",
            "        [0.7599, 0.6194, 0.6206, 0.0000, 0.0000, 0.0000],\n",
            "        [0.0000, 0.4921, 0.4925, 0.0000, 0.0000, 0.0000],\n",
            "        [0.0000, 0.3966, 0.0000, 0.3775, 0.0000, 0.0000],\n",
            "        [0.0000, 0.3327, 0.3331, 0.3084, 0.3331, 0.0000]],\n",
            "       grad_fn=<MulBackward0>)\n"
          ]
        }
      ]
    },
    {
      "cell_type": "markdown",
      "source": [
        "IMPLEMENTING A COMPACT CAUSAL ATTENTION CLASS"
      ],
      "metadata": {
        "id": "EZ2h4XSxO74v"
      }
    },
    {
      "cell_type": "code",
      "source": [
        "batch = torch.stack((inputs, inputs),dim=0)\n",
        "print(batch.shape)"
      ],
      "metadata": {
        "colab": {
          "base_uri": "https://localhost:8080/"
        },
        "id": "F4SJ7d3-O_s9",
        "outputId": "a6dc60f2-8424-44cc-be16-e17438cf4876"
      },
      "execution_count": 28,
      "outputs": [
        {
          "output_type": "stream",
          "name": "stdout",
          "text": [
            "torch.Size([2, 6, 3])\n"
          ]
        }
      ]
    },
    {
      "cell_type": "code",
      "source": [
        "class CausalAttention(nn.Module):\n",
        "  def __init__(self,d_in,d_out,context_length,dropout,qkv_bias=False):\n",
        "    super().__init__()\n",
        "    self.d_out = d_out\n",
        "    self.w_query = nn.Linear(d_in,d_out,bias=qkv_bias)\n",
        "    self.w_key = nn.Linear(d_in,d_out,bias=qkv_bias)\n",
        "    self.w_value = nn.Linear(d_in,d_out,bias=qkv_bias)\n",
        "    self.dropout = nn.Dropout(dropout)\n",
        "    self.register_buffer('mask',torch.triu(torch.ones(context_length,context_length),diagonal=1))\n",
        "\n",
        "  def forward(self,x):\n",
        "    b, num_tokens, d_in = x.shape\n",
        "    keys = self.w_key(x)\n",
        "    queries = self.w_query(x)\n",
        "    values = self.w_value(x)\n",
        "\n",
        "    attn_scores = queries @ keys.transpose(1,2) # Batches will be processed sequentially\n",
        "    attn_scores.masked_fill(self.mask.bool()[:num_tokens,:num_tokens],-torch.inf) #[:num tokens to handle if token length is less than context size]\n",
        "    attn_weights = torch.softmax(attn_scores/keys.shape[-1]**0.5,dim=-1)\n",
        "    attn_weights = self.dropout(attn_weights)\n",
        "    context_vec = attn_weights @ values\n",
        "    return context_vec"
      ],
      "metadata": {
        "id": "s9iq2y7PPw6B"
      },
      "execution_count": 29,
      "outputs": []
    },
    {
      "cell_type": "code",
      "source": [
        "torch.manual_seed(123)\n",
        "context_length = batch.shape[1]\n",
        "ca = CausalAttention(d_in,d_out,context_length,0.0)\n",
        "context_vecs = ca(batch)\n",
        "print(\"context_vecs.shape:\",context_vecs.shape)\n",
        "print(context_vecs)"
      ],
      "metadata": {
        "colab": {
          "base_uri": "https://localhost:8080/"
        },
        "id": "bjW_PkkMUNoX",
        "outputId": "e25af893-301b-4869-86a1-dd43d981a84a"
      },
      "execution_count": 30,
      "outputs": [
        {
          "output_type": "stream",
          "name": "stdout",
          "text": [
            "context_vecs.shape: torch.Size([2, 6, 2])\n",
            "tensor([[[-0.5337, -0.1051],\n",
            "         [-0.5323, -0.1080],\n",
            "         [-0.5323, -0.1079],\n",
            "         [-0.5297, -0.1076],\n",
            "         [-0.5311, -0.1066],\n",
            "         [-0.5299, -0.1081]],\n",
            "\n",
            "        [[-0.5337, -0.1051],\n",
            "         [-0.5323, -0.1080],\n",
            "         [-0.5323, -0.1079],\n",
            "         [-0.5297, -0.1076],\n",
            "         [-0.5311, -0.1066],\n",
            "         [-0.5299, -0.1081]]], grad_fn=<UnsafeViewBackward0>)\n"
          ]
        }
      ]
    },
    {
      "cell_type": "markdown",
      "source": [
        "EXTENDING SINGLE HEAD ATTENTION TO MULTI HEAD ATTENTION"
      ],
      "metadata": {
        "id": "QrISFDJKK7PQ"
      }
    },
    {
      "cell_type": "code",
      "source": [
        "inputs = torch.tensor([\n",
        "    [0.43,0.15,0.89], #Your\n",
        "    [0.55,0.87,0.66], #Journey\n",
        "    [0.57,0.85,0.64], #starts\n",
        "    [0.22,0.58,0.33], #with\n",
        "    [0.77,0.25,0.10], #one\n",
        "    [0.05,0.80,0.55]]) #step\n",
        "\n",
        "batch = torch.stack((inputs, inputs),dim=0)\n",
        "print(batch.shape)"
      ],
      "metadata": {
        "colab": {
          "base_uri": "https://localhost:8080/"
        },
        "id": "3dK7jAluNa4o",
        "outputId": "2182ce17-6dd3-4de9-c64e-f86dc26b25ec"
      },
      "execution_count": 31,
      "outputs": [
        {
          "output_type": "stream",
          "name": "stdout",
          "text": [
            "torch.Size([2, 6, 3])\n"
          ]
        }
      ]
    },
    {
      "cell_type": "code",
      "source": [
        "class MultiHeadAttention(nn.Module):\n",
        "  def __init__(self,d_in,d_out,context_length,dropout,num_heads,qkv_bias=False):\n",
        "    super().__init__()\n",
        "    self.heads = nn.ModuleList([CausalAttention(d_in,d_out,context_length,dropout,qkv_bias) for _ in range(num_heads)])\n",
        "\n",
        "  def forward(self,x):\n",
        "    return torch.cat([head(x) for head in self.heads],dim=-1)"
      ],
      "metadata": {
        "id": "0whwKHWBLAY-"
      },
      "execution_count": 32,
      "outputs": []
    },
    {
      "cell_type": "code",
      "source": [
        "torch.manual_seed(123)\n",
        "context_length = batch.shape[1]\n",
        "d_in, d_out = 3,2\n",
        "mha = MultiHeadAttention(d_in,d_out,context_length,0.0,num_heads=2)\n",
        "context_vecs = mha(batch)\n",
        "print(context_vecs)\n",
        "print(\"context_vecs.shape\",context_vecs.shape)"
      ],
      "metadata": {
        "colab": {
          "base_uri": "https://localhost:8080/"
        },
        "id": "SRcBMtpsN1Ts",
        "outputId": "845a81db-43f6-46f2-dfd5-5b364446005e"
      },
      "execution_count": 33,
      "outputs": [
        {
          "output_type": "stream",
          "name": "stdout",
          "text": [
            "tensor([[[-0.5337, -0.1051,  0.5085,  0.3508],\n",
            "         [-0.5323, -0.1080,  0.5084,  0.3508],\n",
            "         [-0.5323, -0.1079,  0.5084,  0.3506],\n",
            "         [-0.5297, -0.1076,  0.5074,  0.3471],\n",
            "         [-0.5311, -0.1066,  0.5076,  0.3446],\n",
            "         [-0.5299, -0.1081,  0.5077,  0.3493]],\n",
            "\n",
            "        [[-0.5337, -0.1051,  0.5085,  0.3508],\n",
            "         [-0.5323, -0.1080,  0.5084,  0.3508],\n",
            "         [-0.5323, -0.1079,  0.5084,  0.3506],\n",
            "         [-0.5297, -0.1076,  0.5074,  0.3471],\n",
            "         [-0.5311, -0.1066,  0.5076,  0.3446],\n",
            "         [-0.5299, -0.1081,  0.5077,  0.3493]]], grad_fn=<CatBackward0>)\n",
            "context_vecs.shape torch.Size([2, 6, 4])\n"
          ]
        }
      ]
    },
    {
      "cell_type": "markdown",
      "source": [
        "IMPLEMENTING MULTI-HEAD ATTENTION WITH WEIGHT SPLITS - Toy example"
      ],
      "metadata": {
        "id": "_TXa8bL0e8bd"
      }
    },
    {
      "cell_type": "markdown",
      "source": [
        "STEP1 : START WITH THE INPUT\n",
        "b, num_tokens, d_in = (1,3,6)"
      ],
      "metadata": {
        "id": "AAY1M1t6b_ji"
      }
    },
    {
      "cell_type": "code",
      "source": [
        "x = torch.tensor([[[1.0,2.0,3.0,4.0,5.0,6.0],\n",
        "                   [6.0,5.0,4.0,3.0,2.0,1.0],\n",
        "                   [1.0,1.0,1.0,1.0,1.0,1.0]]])\n",
        "print(x)"
      ],
      "metadata": {
        "colab": {
          "base_uri": "https://localhost:8080/"
        },
        "id": "SYfq7XvWb9qH",
        "outputId": "69656a35-3968-49fe-8878-dc160c792e8d"
      },
      "execution_count": 34,
      "outputs": [
        {
          "output_type": "stream",
          "name": "stdout",
          "text": [
            "tensor([[[1., 2., 3., 4., 5., 6.],\n",
            "         [6., 5., 4., 3., 2., 1.],\n",
            "         [1., 1., 1., 1., 1., 1.]]])\n"
          ]
        }
      ]
    },
    {
      "cell_type": "markdown",
      "source": [
        "STEP2 : DECIDE d_out, num_heads which is 6, 2\n",
        "d_out = 2nd dimension of context embedding vector\n",
        "\n",
        "head_dim = d_out/no_of_heads = 6/2 = 3"
      ],
      "metadata": {
        "id": "1jgh8ZDmckls"
      }
    },
    {
      "cell_type": "markdown",
      "source": [
        "STEP3: INITIALIZE TRAINABLE WEIGHT MATRICES FOR key (6 *6 ), query (6 *6 ) and value (6 *6) value\n"
      ],
      "metadata": {
        "id": "n8QbvAPOcxj_"
      }
    },
    {
      "cell_type": "code",
      "source": [
        "wq = torch.tensor([[0.6323,-0.2366,1.2455,0.3465,1.2458,0.3229],\n",
        "             [0.6571,-0.2378,-0.5311,-0.2610,-1.4819,-1.6418],\n",
        "             [-0.2990,0.4216,0.2114,-0.0271,-0.5682,0.6937],\n",
        "             [-1.1291,-1.0102,0.6946,0.1094,0.5130,-0.8669],\n",
        "             [0.3480,0.2593,0.4412,1.0017,-0.3913,-0.2878],\n",
        "             [0.2484,0.2846,-0.3386,-0.6164,1.2722,0.5754]])\n",
        "wk = torch.tensor([[ -0.3703,  0.5431, -0.0372,  -0.4406,  0.4103, -0.1773],\n",
        "             [ 1.5993, -0.2777, -1.1909, -0.4301, 0.6927, -1.3304],\n",
        "             [ 1.2470, -0.1872, -0.1670,  1.4302,  1.2927,  0.4822],\n",
        "             [-0.0984, -0.8983,  0.3334, -0.6312,  0.1022,  -1.0715],\n",
        "             [-0.7647, -0.1734,  0.6305,  1.0155,  0.8474,  0.1454],\n",
        "             [-1.5085, -0.4529,  0.0997, -0.1084,  0.8046,  0.3459]])\n",
        "\n",
        "wv = torch.tensor([[ 1.6395,  1.1234, -0.1001,  0.5021,  -1.0590,  0.1412],\n",
        "             [-0.4271,  0.5681, 0.4164, -1.2534,  1.3061,  0.3610],\n",
        "             [-0.2824, -0.4314,  1.2358,  0.1181,  -1.2467,  0.1893],\n",
        "             [ 1.3440,  0.1487, -0.6174,  0.8890, -0.3282, 1.4662],\n",
        "             [ 0.1814, -0.4761, -0.0402,  0.7326,  0.7654,  -0.1080],\n",
        "             [-0.8974,  0.6786, 0.5602, -0.2443, -0.4883,  1.3996]])\n",
        "\n",
        "print(wq)\n",
        "print(wk)\n",
        "print(wv)"
      ],
      "metadata": {
        "colab": {
          "base_uri": "https://localhost:8080/"
        },
        "id": "Oy_ARTaucxFe",
        "outputId": "5e8d91a6-cdd0-4f25-c41b-c19f972ef246"
      },
      "execution_count": 35,
      "outputs": [
        {
          "output_type": "stream",
          "name": "stdout",
          "text": [
            "tensor([[ 0.6323, -0.2366,  1.2455,  0.3465,  1.2458,  0.3229],\n",
            "        [ 0.6571, -0.2378, -0.5311, -0.2610, -1.4819, -1.6418],\n",
            "        [-0.2990,  0.4216,  0.2114, -0.0271, -0.5682,  0.6937],\n",
            "        [-1.1291, -1.0102,  0.6946,  0.1094,  0.5130, -0.8669],\n",
            "        [ 0.3480,  0.2593,  0.4412,  1.0017, -0.3913, -0.2878],\n",
            "        [ 0.2484,  0.2846, -0.3386, -0.6164,  1.2722,  0.5754]])\n",
            "tensor([[-0.3703,  0.5431, -0.0372, -0.4406,  0.4103, -0.1773],\n",
            "        [ 1.5993, -0.2777, -1.1909, -0.4301,  0.6927, -1.3304],\n",
            "        [ 1.2470, -0.1872, -0.1670,  1.4302,  1.2927,  0.4822],\n",
            "        [-0.0984, -0.8983,  0.3334, -0.6312,  0.1022, -1.0715],\n",
            "        [-0.7647, -0.1734,  0.6305,  1.0155,  0.8474,  0.1454],\n",
            "        [-1.5085, -0.4529,  0.0997, -0.1084,  0.8046,  0.3459]])\n",
            "tensor([[ 1.6395,  1.1234, -0.1001,  0.5021, -1.0590,  0.1412],\n",
            "        [-0.4271,  0.5681,  0.4164, -1.2534,  1.3061,  0.3610],\n",
            "        [-0.2824, -0.4314,  1.2358,  0.1181, -1.2467,  0.1893],\n",
            "        [ 1.3440,  0.1487, -0.6174,  0.8890, -0.3282,  1.4662],\n",
            "        [ 0.1814, -0.4761, -0.0402,  0.7326,  0.7654, -0.1080],\n",
            "        [-0.8974,  0.6786,  0.5602, -0.2443, -0.4883,  1.3996]])\n"
          ]
        }
      ]
    },
    {
      "cell_type": "markdown",
      "source": [
        "STEP 4: Calculate keys, queries and value matrices\n",
        "\n",
        "calc_keys = x * wk\n",
        "\n",
        "calc_queries = x * wq\n",
        "\n",
        "calc_values = x * wv\n",
        "\n",
        "print(calc_keys)\n",
        "\n",
        "print(calc_queries)\n",
        "\n",
        "print(calc_values)"
      ],
      "metadata": {
        "id": "OiK8Vm948Yqe"
      }
    },
    {
      "cell_type": "code",
      "source": [
        "calc_keys = torch.matmul(x,wk)\n",
        "calc_queries = torch.matmul(x,wq)\n",
        "calc_values = torch.matmul(x,wv)\n",
        "\n",
        "print(calc_keys)\n",
        "print(calc_queries)\n",
        "print(calc_values)"
      ],
      "metadata": {
        "colab": {
          "base_uri": "https://localhost:8080/"
        },
        "id": "CZY-94jm8t4p",
        "outputId": "bb2afd57-922a-48a0-d34c-5ec7210775e2"
      },
      "execution_count": 36,
      "outputs": [
        {
          "output_type": "stream",
          "name": "stdout",
          "text": [
            "tensor([[[-6.6988, -7.7515,  2.1643,  4.8921, 15.1472, -2.8751],\n",
            "         [ 7.4296, -2.3733, -4.4848,  0.9557, 13.9021, -8.3648],\n",
            "         [ 0.1044, -1.4464, -0.3315,  0.8354,  4.1499, -1.6057]]])\n",
            "tensor([[[-0.2365, -0.4841,  3.7703,  1.4909,  4.3061, -2.3338],\n",
            "         [ 3.4404, -3.1496,  8.2907,  2.3808, -0.1789, -6.0977],\n",
            "         [ 0.4577, -0.5191,  1.7230,  0.5531,  0.5896, -1.2045]]])\n",
            "tensor([[[ 0.8367,  3.2513,  5.1307,  4.1028, -2.6025, 15.1535],\n",
            "         [10.0693,  8.0278,  5.0522,  1.1059, -4.7524,  8.9916],\n",
            "         [ 1.5580,  1.6113,  1.4547,  0.7441, -1.0507,  3.4493]]])\n"
          ]
        }
      ]
    },
    {
      "cell_type": "markdown",
      "source": [
        "STEP5 :Unroll last dimension of keys, queries and value to invlude num_heads and head_dim\n",
        "\n",
        "head_dim = d_out/num_heads = 6/2 = 3\n",
        "\n",
        "b, num_tokens, d_out --> b, num_tokens , num_heads, head_dim\n",
        "(1, 3, 6) -> (1, 3, 2, 3)"
      ],
      "metadata": {
        "id": "IiYiNetxAy-c"
      }
    },
    {
      "cell_type": "code",
      "source": [
        "keys_unrolled = calc_keys.view(1,3,2,3) # b , num_tokens, num_heads, head_dim\n",
        "values_unrolled = calc_values.view(1,3,2,3)\n",
        "queries_unrolled = calc_queries.view(1,3,2,3)\n",
        "\n",
        "print(keys_unrolled)\n",
        "print(values_unrolled)\n",
        "print(queries_unrolled)"
      ],
      "metadata": {
        "colab": {
          "base_uri": "https://localhost:8080/"
        },
        "id": "fQhQih_UAym7",
        "outputId": "a57b0b2c-936b-4941-e89f-e0b2cad0b6b8"
      },
      "execution_count": 37,
      "outputs": [
        {
          "output_type": "stream",
          "name": "stdout",
          "text": [
            "tensor([[[[-6.6988, -7.7515,  2.1643],\n",
            "          [ 4.8921, 15.1472, -2.8751]],\n",
            "\n",
            "         [[ 7.4296, -2.3733, -4.4848],\n",
            "          [ 0.9557, 13.9021, -8.3648]],\n",
            "\n",
            "         [[ 0.1044, -1.4464, -0.3315],\n",
            "          [ 0.8354,  4.1499, -1.6057]]]])\n",
            "tensor([[[[ 0.8367,  3.2513,  5.1307],\n",
            "          [ 4.1028, -2.6025, 15.1535]],\n",
            "\n",
            "         [[10.0693,  8.0278,  5.0522],\n",
            "          [ 1.1059, -4.7524,  8.9916]],\n",
            "\n",
            "         [[ 1.5580,  1.6113,  1.4547],\n",
            "          [ 0.7441, -1.0507,  3.4493]]]])\n",
            "tensor([[[[-0.2365, -0.4841,  3.7703],\n",
            "          [ 1.4909,  4.3061, -2.3338]],\n",
            "\n",
            "         [[ 3.4404, -3.1496,  8.2907],\n",
            "          [ 2.3808, -0.1789, -6.0977]],\n",
            "\n",
            "         [[ 0.4577, -0.5191,  1.7230],\n",
            "          [ 0.5531,  0.5896, -1.2045]]]])\n"
          ]
        }
      ]
    },
    {
      "cell_type": "markdown",
      "source": [
        "          first token\n",
        "          [[-6.6988, -7.7515,  2.1643], head 1\n",
        "          [ 4.8921, 15.1472, -2.8751]], head 2\n",
        "          head_dim1, head_dim2, head_dim3\n",
        "\n",
        "          second token\n",
        "         [[ 7.4296, -2.3733, -4.4848],\n",
        "          [ 0.9557, 13.9021, -8.3648]],\n",
        "\n",
        "          third token\n",
        "         [[ 0.1044, -1.4464, -0.3315],\n",
        "          [ 0.8354,  4.1499, -1.6057]]]])"
      ],
      "metadata": {
        "id": "OWp7QVtLC6Us"
      }
    },
    {
      "cell_type": "markdown",
      "source": [
        "STEP6 : GROUP MATRICES BY \"Number of heads\"\n",
        "\n",
        "(b, num_tokens, num_heads , head_dim ) --> ( b, num_heads. num_tokens, head_dim)\n",
        "\n",
        "(1,3,2,3)                              --> (1,2,3,3)"
      ],
      "metadata": {
        "id": "Ouqow3dDDieS"
      }
    },
    {
      "cell_type": "code",
      "source": [
        "keys_grp = keys_unrolled.transpose(1,2)\n",
        "values_grp = values_unrolled.transpose(1,2)\n",
        "queries_grp = queries_unrolled.transpose(1,2)\n",
        "\n",
        "print(keys_grp)\n",
        "print(values_grp)\n",
        "print(queries_grp)"
      ],
      "metadata": {
        "colab": {
          "base_uri": "https://localhost:8080/"
        },
        "id": "fSJQRqrIC_I0",
        "outputId": "e3f0cbb1-6dfc-43e6-9cd7-10bcf6ba151a"
      },
      "execution_count": 38,
      "outputs": [
        {
          "output_type": "stream",
          "name": "stdout",
          "text": [
            "tensor([[[[-6.6988, -7.7515,  2.1643],\n",
            "          [ 7.4296, -2.3733, -4.4848],\n",
            "          [ 0.1044, -1.4464, -0.3315]],\n",
            "\n",
            "         [[ 4.8921, 15.1472, -2.8751],\n",
            "          [ 0.9557, 13.9021, -8.3648],\n",
            "          [ 0.8354,  4.1499, -1.6057]]]])\n",
            "tensor([[[[ 0.8367,  3.2513,  5.1307],\n",
            "          [10.0693,  8.0278,  5.0522],\n",
            "          [ 1.5580,  1.6113,  1.4547]],\n",
            "\n",
            "         [[ 4.1028, -2.6025, 15.1535],\n",
            "          [ 1.1059, -4.7524,  8.9916],\n",
            "          [ 0.7441, -1.0507,  3.4493]]]])\n",
            "tensor([[[[-0.2365, -0.4841,  3.7703],\n",
            "          [ 3.4404, -3.1496,  8.2907],\n",
            "          [ 0.4577, -0.5191,  1.7230]],\n",
            "\n",
            "         [[ 1.4909,  4.3061, -2.3338],\n",
            "          [ 2.3808, -0.1789, -6.0977],\n",
            "          [ 0.5531,  0.5896, -1.2045]]]])\n"
          ]
        }
      ]
    },
    {
      "cell_type": "markdown",
      "source": [
        "\n",
        "          Head1\n",
        "          Token1 [[-6.6988, -7.7515,  2.1643],\n",
        "          Token2 [ 7.4296, -2.3733, -4.4848],\n",
        "          Token3 [ 0.1044, -1.4464, -0.3315]],\n",
        "                  headdim1 headdim2  headdim3\n",
        "\n",
        "          Head2\n",
        "         [[ 4.8921, 15.1472, -2.8751],\n",
        "          [ 0.9557, 13.9021, -8.3648],\n",
        "          [ 0.8354,  4.1499, -1.6057]]]])"
      ],
      "metadata": {
        "id": "B6RHeVLaEV6v"
      }
    },
    {
      "cell_type": "markdown",
      "source": [
        "STEP7 : Find the attention scores\n",
        "\n",
        "queries     matmul    keys.transpose\n",
        "\n",
        "(1, 2, 3, 3)   matmul    (1, 2, 3, 3)\n",
        "\n",
        "(b, num_heads, num_tokens , head_dim )     matmul   (b, num_heads, head_dim, num_tokens) -----> (b, num_heads, num_tokens , num_tokens)\n",
        "\n",
        "\n",
        "\n"
      ],
      "metadata": {
        "id": "C0iaZgtsGVc1"
      }
    },
    {
      "cell_type": "code",
      "source": [
        "\n",
        "print(keys_grp)\n",
        "print(keys_grp.transpose(2,3))\n",
        "print(queries_grp)"
      ],
      "metadata": {
        "colab": {
          "base_uri": "https://localhost:8080/"
        },
        "id": "HAnrBRaIEm2G",
        "outputId": "3ea2e9bd-ef30-43b1-84ac-67cff2d26b5e"
      },
      "execution_count": 42,
      "outputs": [
        {
          "output_type": "stream",
          "name": "stdout",
          "text": [
            "tensor([[[[-6.6988, -7.7515,  2.1643],\n",
            "          [ 7.4296, -2.3733, -4.4848],\n",
            "          [ 0.1044, -1.4464, -0.3315]],\n",
            "\n",
            "         [[ 4.8921, 15.1472, -2.8751],\n",
            "          [ 0.9557, 13.9021, -8.3648],\n",
            "          [ 0.8354,  4.1499, -1.6057]]]])\n",
            "tensor([[[[-6.6988,  7.4296,  0.1044],\n",
            "          [-7.7515, -2.3733, -1.4464],\n",
            "          [ 2.1643, -4.4848, -0.3315]],\n",
            "\n",
            "         [[ 4.8921,  0.9557,  0.8354],\n",
            "          [15.1472, 13.9021,  4.1499],\n",
            "          [-2.8751, -8.3648, -1.6057]]]])\n",
            "tensor([[[[-0.2365, -0.4841,  3.7703],\n",
            "          [ 3.4404, -3.1496,  8.2907],\n",
            "          [ 0.4577, -0.5191,  1.7230]],\n",
            "\n",
            "         [[ 1.4909,  4.3061, -2.3338],\n",
            "          [ 2.3808, -0.1789, -6.0977],\n",
            "          [ 0.5531,  0.5896, -1.2045]]]])\n"
          ]
        }
      ]
    },
    {
      "cell_type": "code",
      "source": [
        "attn_score = queries_grp @ keys_grp.transpose(2,3)\n",
        "print(attn_score)"
      ],
      "metadata": {
        "colab": {
          "base_uri": "https://localhost:8080/"
        },
        "id": "s9fVNkLpHmKO",
        "outputId": "6f041c19-1fd4-4a5e-c3a6-5f051db11e19"
      },
      "execution_count": 43,
      "outputs": [
        {
          "output_type": "stream",
          "name": "stdout",
          "text": [
            "tensor([[[[ 13.4968, -17.5172,  -0.5743],\n",
            "          [ 19.3111,  -4.1464,   2.1664],\n",
            "          [  4.6869,  -3.0948,   0.2274]],\n",
            "\n",
            "         [[ 79.2289,  80.8105,  22.8628],\n",
            "          [ 26.4688,  50.7943,  11.0376],\n",
            "          [ 15.0997,  18.8007,   4.8429]]]])\n"
          ]
        }
      ]
    },
    {
      "cell_type": "markdown",
      "source": [
        "Step8 : Finding the attention weight\n",
        "\n",
        "Mask attentions scores to implement causal attention\n",
        "\n",
        "Divide by sq.rt of head_dimension = sq.rt ( d_out/num_heads)\n",
        "\n",
        "Apply softmax\n",
        "\n",
        "We can apply dropout (optional)\n"
      ],
      "metadata": {
        "id": "cIFgrjaP-oIV"
      }
    },
    {
      "cell_type": "code",
      "source": [
        "mask = torch.triu(torch.ones(3,3),diagonal =1)\n",
        "mask_bool = mask.bool()[:3,:3]\n",
        "print(mask)\n",
        "print(mask_bool)\n",
        "\n",
        "attn_score = attn_score.masked_fill(mask_bool,-torch.inf)\n",
        "print(attn_score)\n",
        "print(keys_grp.shape[-1])\n",
        "attn_weights = torch.softmax(attn_score/keys_grp.shape[-1]**0.5,dim=-1)\n",
        "attn_weights = dropout(attn_weights)\n",
        "print(attn_weights)\n"
      ],
      "metadata": {
        "colab": {
          "base_uri": "https://localhost:8080/"
        },
        "id": "RXTyhogJIO1Z",
        "outputId": "b011f914-248c-44fc-eb66-f7f78b109493"
      },
      "execution_count": 50,
      "outputs": [
        {
          "output_type": "stream",
          "name": "stdout",
          "text": [
            "tensor([[0., 1., 1.],\n",
            "        [0., 0., 1.],\n",
            "        [0., 0., 0.]])\n",
            "tensor([[False,  True,  True],\n",
            "        [False, False,  True],\n",
            "        [False, False, False]])\n",
            "tensor([[[[13.4968,    -inf,    -inf],\n",
            "          [19.3111, -4.1464,    -inf],\n",
            "          [ 4.6869, -3.0948,  0.2274]],\n",
            "\n",
            "         [[79.2289,    -inf,    -inf],\n",
            "          [26.4688, 50.7943,    -inf],\n",
            "          [15.0997, 18.8007,  4.8429]]]])\n",
            "3\n",
            "tensor([[[[0.0000e+00, 0.0000e+00, 0.0000e+00],\n",
            "          [0.0000e+00, 0.0000e+00, 0.0000e+00],\n",
            "          [0.0000e+00, 0.0000e+00, 1.4012e-01]],\n",
            "\n",
            "         [[2.0000e+00, 0.0000e+00, 0.0000e+00],\n",
            "          [0.0000e+00, 2.0000e+00, 0.0000e+00],\n",
            "          [0.0000e+00, 0.0000e+00, 5.6582e-04]]]])\n"
          ]
        }
      ]
    },
    {
      "cell_type": "markdown",
      "source": [
        "STEP9 : Compute the context vector.\n",
        "\n",
        "Context_vector = attn_weights  * Value\n",
        "\n",
        "                (b,num_heads,num_tokens , num_tokens)     (b, num_heads,num_tokens, head_dim)\n"
      ],
      "metadata": {
        "id": "kty6QV6ZCZvr"
      }
    },
    {
      "cell_type": "code",
      "source": [
        "print(attn_weights)\n",
        "print(values_grp)\n",
        "print(attn_weights.shape)\n",
        "print(values_grp.shape)\n",
        "\n",
        "context_vec = (attn_weights @ values_grp)\n",
        "print(context_vec)"
      ],
      "metadata": {
        "colab": {
          "base_uri": "https://localhost:8080/"
        },
        "id": "6CAhkjwsCw_H",
        "outputId": "883bfbfb-1e6d-4a80-b060-c7518114f98e"
      },
      "execution_count": 57,
      "outputs": [
        {
          "output_type": "stream",
          "name": "stdout",
          "text": [
            "tensor([[[[0.0000e+00, 0.0000e+00, 0.0000e+00],\n",
            "          [0.0000e+00, 0.0000e+00, 0.0000e+00],\n",
            "          [0.0000e+00, 0.0000e+00, 1.4012e-01]],\n",
            "\n",
            "         [[2.0000e+00, 0.0000e+00, 0.0000e+00],\n",
            "          [0.0000e+00, 2.0000e+00, 0.0000e+00],\n",
            "          [0.0000e+00, 0.0000e+00, 5.6582e-04]]]])\n",
            "tensor([[[[ 0.8367,  3.2513,  5.1307],\n",
            "          [10.0693,  8.0278,  5.0522],\n",
            "          [ 1.5580,  1.6113,  1.4547]],\n",
            "\n",
            "         [[ 4.1028, -2.6025, 15.1535],\n",
            "          [ 1.1059, -4.7524,  8.9916],\n",
            "          [ 0.7441, -1.0507,  3.4493]]]])\n",
            "tensor([[-0.0872,  0.0286],\n",
            "        [-0.1137,  0.0766],\n",
            "        [-0.1018,  0.0927],\n",
            "        [-0.0912, -0.0026],\n",
            "        [ 0.1395,  0.3580],\n",
            "        [-0.2085, -0.1546]], grad_fn=<MmBackward0>)\n",
            "torch.Size([1, 2, 3, 3])\n",
            "torch.Size([1, 2, 3, 3])\n",
            "tensor([[[[ 0.0000e+00,  0.0000e+00,  0.0000e+00],\n",
            "          [ 0.0000e+00,  0.0000e+00,  0.0000e+00],\n",
            "          [ 2.1831e-01,  2.2577e-01,  2.0383e-01]],\n",
            "\n",
            "         [[ 8.2056e+00, -5.2050e+00,  3.0307e+01],\n",
            "          [ 2.2118e+00, -9.5048e+00,  1.7983e+01],\n",
            "          [ 4.2103e-04, -5.9451e-04,  1.9517e-03]]]])\n"
          ]
        }
      ]
    },
    {
      "cell_type": "markdown",
      "source": [
        "          \n",
        "          Head1\n",
        "          Headdim1       Headdim2     Headdim3\n",
        "          [[ 0.0000e+00,  0.0000e+00,  0.0000e+00], Token 1\n",
        "          [ 0.0000e+00,  0.0000e+00,  0.0000e+00],  Token 2\n",
        "          [ 2.1831e-01,  2.2577e-01,  2.0383e-01]], Token 3\n",
        "\n",
        "          Head2\n",
        "         [[ 8.2056e+00, -5.2050e+00,  3.0307e+01],\n",
        "          [ 2.2118e+00, -9.5048e+00,  1.7983e+01],\n",
        "          [ 4.2103e-04, -5.9451e-04,  1.9517e-03]]]])"
      ],
      "metadata": {
        "id": "rxKd1-tpE31R"
      }
    },
    {
      "cell_type": "markdown",
      "source": [
        "Step10 : Reformat context vectors\n",
        "\n",
        "(b, num_heads, num_tokens, head_dim ) ----> (b, num_tokens, num_heads, head_dim)"
      ],
      "metadata": {
        "id": "n_96eZOfFnpj"
      }
    },
    {
      "cell_type": "code",
      "source": [
        "context_vec_fin = context_vec.transpose(1,2)\n",
        "print(context_vec_fin)\n"
      ],
      "metadata": {
        "colab": {
          "base_uri": "https://localhost:8080/"
        },
        "id": "DbWylOBGFdsQ",
        "outputId": "b5485617-0262-4acc-c180-ebcb54010144"
      },
      "execution_count": 59,
      "outputs": [
        {
          "output_type": "stream",
          "name": "stdout",
          "text": [
            "tensor([[[[ 0.0000e+00,  0.0000e+00,  0.0000e+00],\n",
            "          [ 8.2056e+00, -5.2050e+00,  3.0307e+01]],\n",
            "\n",
            "         [[ 0.0000e+00,  0.0000e+00,  0.0000e+00],\n",
            "          [ 2.2118e+00, -9.5048e+00,  1.7983e+01]],\n",
            "\n",
            "         [[ 2.1831e-01,  2.2577e-01,  2.0383e-01],\n",
            "          [ 4.2103e-04, -5.9451e-04,  1.9517e-03]]]])\n"
          ]
        }
      ]
    },
    {
      "cell_type": "markdown",
      "source": [
        "Step11 : Combine heads"
      ],
      "metadata": {
        "id": "bAh9T4cYGhDA"
      }
    },
    {
      "cell_type": "code",
      "source": [
        "context_vec_fin = context_vec_fin.contiguous().view(1,3,6)\n",
        "print(context_vec_fin)"
      ],
      "metadata": {
        "colab": {
          "base_uri": "https://localhost:8080/"
        },
        "id": "I6lk9Wh9Giww",
        "outputId": "118837a0-b914-4930-d8cc-100f6b19d81b"
      },
      "execution_count": 60,
      "outputs": [
        {
          "output_type": "stream",
          "name": "stdout",
          "text": [
            "tensor([[[ 0.0000e+00,  0.0000e+00,  0.0000e+00,  8.2056e+00, -5.2050e+00,\n",
            "           3.0307e+01],\n",
            "         [ 0.0000e+00,  0.0000e+00,  0.0000e+00,  2.2118e+00, -9.5048e+00,\n",
            "           1.7983e+01],\n",
            "         [ 2.1831e-01,  2.2577e-01,  2.0383e-01,  4.2103e-04, -5.9451e-04,\n",
            "           1.9517e-03]]])\n"
          ]
        }
      ]
    },
    {
      "cell_type": "markdown",
      "source": [
        "MULTIHEAD ATTENTION CLASS"
      ],
      "metadata": {
        "id": "YtMFX2SFHAY9"
      }
    },
    {
      "cell_type": "code",
      "source": [
        "class MultiHeadAttention(nn.Module):\n",
        "    def __init__(self, d_in, d_out, context_length, dropout, num_heads, qkv_bias=False):\n",
        "        super().__init__()\n",
        "        assert (d_out % num_heads == 0), \\\n",
        "            \"d_out must be divisible by num_heads\"\n",
        "\n",
        "        self.d_out = d_out\n",
        "        self.num_heads = num_heads\n",
        "        self.head_dim = d_out // num_heads # Reduce the projection dim to match desired output dim\n",
        "\n",
        "        self.W_query = nn.Linear(d_in, d_out, bias=qkv_bias)\n",
        "        self.W_key = nn.Linear(d_in, d_out, bias=qkv_bias)\n",
        "        self.W_value = nn.Linear(d_in, d_out, bias=qkv_bias)\n",
        "        self.out_proj = nn.Linear(d_out, d_out)  # Linear layer to combine head outputs\n",
        "        self.dropout = nn.Dropout(dropout)\n",
        "        self.register_buffer(\n",
        "            \"mask\",\n",
        "            torch.triu(torch.ones(context_length, context_length),\n",
        "                       diagonal=1)\n",
        "        )\n",
        "\n",
        "    def forward(self, x):\n",
        "        b, num_tokens, d_in = x.shape\n",
        "\n",
        "        keys = self.W_key(x) # Shape: (b, num_tokens, d_out)\n",
        "        queries = self.W_query(x)\n",
        "        values = self.W_value(x)\n",
        "\n",
        "        # We implicitly split the matrix by adding a `num_heads` dimension\n",
        "        # Unroll last dim: (b, num_tokens, d_out) -> (b, num_tokens, num_heads, head_dim)\n",
        "        keys = keys.view(b, num_tokens, self.num_heads, self.head_dim)\n",
        "        values = values.view(b, num_tokens, self.num_heads, self.head_dim)\n",
        "        queries = queries.view(b, num_tokens, self.num_heads, self.head_dim)\n",
        "\n",
        "        # Transpose: (b, num_tokens, num_heads, head_dim) -> (b, num_heads, num_tokens, head_dim)\n",
        "        keys = keys.transpose(1, 2)\n",
        "        queries = queries.transpose(1, 2)\n",
        "        values = values.transpose(1, 2)\n",
        "\n",
        "        # Compute scaled dot-product attention (aka self-attention) with a causal mask\n",
        "        attn_scores = queries @ keys.transpose(2, 3)  # Dot product for each head\n",
        "\n",
        "        # Original mask truncated to the number of tokens and converted to boolean\n",
        "        mask_bool = self.mask.bool()[:num_tokens, :num_tokens]\n",
        "\n",
        "        # Use the mask to fill attention scores\n",
        "        attn_scores.masked_fill_(mask_bool, -torch.inf)\n",
        "\n",
        "        attn_weights = torch.softmax(attn_scores / keys.shape[-1]**0.5, dim=-1)\n",
        "        attn_weights = self.dropout(attn_weights)\n",
        "\n",
        "        # Shape: (b, num_tokens, num_heads, head_dim)\n",
        "        context_vec = (attn_weights @ values).transpose(1, 2)\n",
        "\n",
        "        # Combine heads, where self.d_out = self.num_heads * self.head_dim\n",
        "        context_vec = context_vec.contiguous().view(b, num_tokens, self.d_out)\n",
        "        context_vec = self.out_proj(context_vec) # optional projection\n",
        "\n",
        "        return context_vec"
      ],
      "metadata": {
        "id": "nElmO6mQHCwW"
      },
      "execution_count": 61,
      "outputs": []
    },
    {
      "cell_type": "code",
      "source": [
        "torch.manual_seed(123)\n",
        "\n",
        "inputs = torch.tensor(\n",
        "    [[0.43,0.15,0.89,0.55,0.87,0.66],\n",
        "     [0.57,0.85,0.64,0.22,0.58,0.33],\n",
        "     [0.77,0.25,0.10,0.05,0.80,0.55]])\n",
        "\n",
        "batch = torch.stack((inputs,inputs),dim=0)\n",
        "print(batch.shape)\n",
        "\n",
        "batch_size , context_length , d_in = batch.shape\n",
        "d_out = 6\n",
        "mha = MultiHeadAttention(d_in,d_out,context_length,0.0,num_heads=2)\n",
        "context_vecs = mha(batch)\n",
        "print(context_vecs)\n",
        "print(context_vecs.shape)"
      ],
      "metadata": {
        "colab": {
          "base_uri": "https://localhost:8080/"
        },
        "id": "lOkiYaRaHz9A",
        "outputId": "3ccfb81a-5e27-4fb3-d3aa-4ca95b539d3d"
      },
      "execution_count": 62,
      "outputs": [
        {
          "output_type": "stream",
          "name": "stdout",
          "text": [
            "torch.Size([2, 3, 6])\n",
            "tensor([[[ 0.1569, -0.0873,  0.0210,  0.0215, -0.3243, -0.2518],\n",
            "         [ 0.1117, -0.0547,  0.0406, -0.0213, -0.3251, -0.2993],\n",
            "         [ 0.1196, -0.0491,  0.0318, -0.0635, -0.2788, -0.2578]],\n",
            "\n",
            "        [[ 0.1569, -0.0873,  0.0210,  0.0215, -0.3243, -0.2518],\n",
            "         [ 0.1117, -0.0547,  0.0406, -0.0213, -0.3251, -0.2993],\n",
            "         [ 0.1196, -0.0491,  0.0318, -0.0635, -0.2788, -0.2578]]],\n",
            "       grad_fn=<ViewBackward0>)\n",
            "torch.Size([2, 3, 6])\n"
          ]
        }
      ]
    }
  ]
}