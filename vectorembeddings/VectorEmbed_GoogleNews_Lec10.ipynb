{
  "nbformat": 4,
  "nbformat_minor": 0,
  "metadata": {
    "colab": {
      "provenance": []
    },
    "kernelspec": {
      "name": "python3",
      "display_name": "Python 3"
    },
    "language_info": {
      "name": "python"
    }
  },
  "cells": [
    {
      "cell_type": "code",
      "source": [
        "! pip install gensim"
      ],
      "metadata": {
        "colab": {
          "base_uri": "https://localhost:8080/",
          "height": 689
        },
        "id": "W7iVb2bPEFnd",
        "outputId": "6822c286-3f6a-4ad8-fcc9-b0f590cf39fe"
      },
      "execution_count": 2,
      "outputs": [
        {
          "output_type": "stream",
          "name": "stdout",
          "text": [
            "Collecting gensim\n",
            "  Downloading gensim-4.3.3-cp312-cp312-manylinux_2_17_x86_64.manylinux2014_x86_64.whl.metadata (8.1 kB)\n",
            "Collecting numpy<2.0,>=1.18.5 (from gensim)\n",
            "  Downloading numpy-1.26.4-cp312-cp312-manylinux_2_17_x86_64.manylinux2014_x86_64.whl.metadata (61 kB)\n",
            "\u001b[2K     \u001b[90m━━━━━━━━━━━━━━━━━━━━━━━━━━━━━━━━━━━━━━━━\u001b[0m \u001b[32m61.0/61.0 kB\u001b[0m \u001b[31m2.7 MB/s\u001b[0m eta \u001b[36m0:00:00\u001b[0m\n",
            "\u001b[?25hCollecting scipy<1.14.0,>=1.7.0 (from gensim)\n",
            "  Downloading scipy-1.13.1-cp312-cp312-manylinux_2_17_x86_64.manylinux2014_x86_64.whl.metadata (60 kB)\n",
            "\u001b[2K     \u001b[90m━━━━━━━━━━━━━━━━━━━━━━━━━━━━━━━━━━━━━━━━\u001b[0m \u001b[32m60.6/60.6 kB\u001b[0m \u001b[31m5.4 MB/s\u001b[0m eta \u001b[36m0:00:00\u001b[0m\n",
            "\u001b[?25hRequirement already satisfied: smart-open>=1.8.1 in /usr/local/lib/python3.12/dist-packages (from gensim) (7.3.0.post1)\n",
            "Requirement already satisfied: wrapt in /usr/local/lib/python3.12/dist-packages (from smart-open>=1.8.1->gensim) (1.17.3)\n",
            "Downloading gensim-4.3.3-cp312-cp312-manylinux_2_17_x86_64.manylinux2014_x86_64.whl (26.6 MB)\n",
            "\u001b[2K   \u001b[90m━━━━━━━━━━━━━━━━━━━━━━━━━━━━━━━━━━━━━━━━\u001b[0m \u001b[32m26.6/26.6 MB\u001b[0m \u001b[31m60.6 MB/s\u001b[0m eta \u001b[36m0:00:00\u001b[0m\n",
            "\u001b[?25hDownloading numpy-1.26.4-cp312-cp312-manylinux_2_17_x86_64.manylinux2014_x86_64.whl (18.0 MB)\n",
            "\u001b[2K   \u001b[90m━━━━━━━━━━━━━━━━━━━━━━━━━━━━━━━━━━━━━━━━\u001b[0m \u001b[32m18.0/18.0 MB\u001b[0m \u001b[31m78.8 MB/s\u001b[0m eta \u001b[36m0:00:00\u001b[0m\n",
            "\u001b[?25hDownloading scipy-1.13.1-cp312-cp312-manylinux_2_17_x86_64.manylinux2014_x86_64.whl (38.2 MB)\n",
            "\u001b[2K   \u001b[90m━━━━━━━━━━━━━━━━━━━━━━━━━━━━━━━━━━━━━━━━\u001b[0m \u001b[32m38.2/38.2 MB\u001b[0m \u001b[31m15.6 MB/s\u001b[0m eta \u001b[36m0:00:00\u001b[0m\n",
            "\u001b[?25hInstalling collected packages: numpy, scipy, gensim\n",
            "  Attempting uninstall: numpy\n",
            "    Found existing installation: numpy 2.0.2\n",
            "    Uninstalling numpy-2.0.2:\n",
            "      Successfully uninstalled numpy-2.0.2\n",
            "  Attempting uninstall: scipy\n",
            "    Found existing installation: scipy 1.16.1\n",
            "    Uninstalling scipy-1.16.1:\n",
            "      Successfully uninstalled scipy-1.16.1\n",
            "\u001b[31mERROR: pip's dependency resolver does not currently take into account all the packages that are installed. This behaviour is the source of the following dependency conflicts.\n",
            "opencv-python 4.12.0.88 requires numpy<2.3.0,>=2; python_version >= \"3.9\", but you have numpy 1.26.4 which is incompatible.\n",
            "opencv-contrib-python 4.12.0.88 requires numpy<2.3.0,>=2; python_version >= \"3.9\", but you have numpy 1.26.4 which is incompatible.\n",
            "thinc 8.3.6 requires numpy<3.0.0,>=2.0.0, but you have numpy 1.26.4 which is incompatible.\n",
            "opencv-python-headless 4.12.0.88 requires numpy<2.3.0,>=2; python_version >= \"3.9\", but you have numpy 1.26.4 which is incompatible.\n",
            "tsfresh 0.21.0 requires scipy>=1.14.0; python_version >= \"3.10\", but you have scipy 1.13.1 which is incompatible.\u001b[0m\u001b[31m\n",
            "\u001b[0mSuccessfully installed gensim-4.3.3 numpy-1.26.4 scipy-1.13.1\n"
          ]
        },
        {
          "output_type": "display_data",
          "data": {
            "application/vnd.colab-display-data+json": {
              "pip_warning": {
                "packages": [
                  "numpy"
                ]
              },
              "id": "692dc1c4d88b4477a928cf4893c985eb"
            }
          },
          "metadata": {}
        }
      ]
    },
    {
      "cell_type": "code",
      "execution_count": 1,
      "metadata": {
        "colab": {
          "base_uri": "https://localhost:8080/"
        },
        "id": "NrkPCO56DjF3",
        "outputId": "4209b4a0-ac11-4673-877d-0abcf51fcf64"
      },
      "outputs": [
        {
          "output_type": "stream",
          "name": "stdout",
          "text": [
            "[==================================================] 100.0% 1662.8/1662.8MB downloaded\n"
          ]
        }
      ],
      "source": [
        "# Pretrianed word to vec - google news 300 dimension\n",
        "import gensim.downloader as api\n",
        "model = api.load(\"word2vec-google-news-300\")"
      ]
    },
    {
      "cell_type": "markdown",
      "source": [
        "Example of a word as a vector"
      ],
      "metadata": {
        "id": "WO6zBOa8FrCr"
      }
    },
    {
      "cell_type": "code",
      "source": [
        "word_vectors = model\n",
        "print(word_vectors[\"cat\"])"
      ],
      "metadata": {
        "colab": {
          "base_uri": "https://localhost:8080/"
        },
        "id": "gsUtc3drFwit",
        "outputId": "45577293-51d7-4b9b-f246-92ee27665cc7"
      },
      "execution_count": 2,
      "outputs": [
        {
          "output_type": "stream",
          "name": "stdout",
          "text": [
            "[ 0.0123291   0.20410156 -0.28515625  0.21679688  0.11816406  0.08300781\n",
            "  0.04980469 -0.00952148  0.22070312 -0.12597656  0.08056641 -0.5859375\n",
            " -0.00445557 -0.296875   -0.01312256 -0.08349609  0.05053711  0.15136719\n",
            " -0.44921875 -0.0135498   0.21484375 -0.14746094  0.22460938 -0.125\n",
            " -0.09716797  0.24902344 -0.2890625   0.36523438  0.41210938 -0.0859375\n",
            " -0.07861328 -0.19726562 -0.09082031 -0.14160156 -0.10253906  0.13085938\n",
            " -0.00346375  0.07226562  0.04418945  0.34570312  0.07470703 -0.11230469\n",
            "  0.06738281  0.11230469  0.01977539 -0.12353516  0.20996094 -0.07226562\n",
            " -0.02783203  0.05541992 -0.33398438  0.08544922  0.34375     0.13964844\n",
            "  0.04931641 -0.13476562  0.16308594 -0.37304688  0.39648438  0.10693359\n",
            "  0.22167969  0.21289062 -0.08984375  0.20703125  0.08935547 -0.08251953\n",
            "  0.05957031  0.10205078 -0.19238281 -0.09082031  0.4921875   0.03955078\n",
            " -0.07080078 -0.0019989  -0.23046875  0.25585938  0.08984375 -0.10644531\n",
            "  0.00105286 -0.05883789  0.05102539 -0.0291748   0.19335938 -0.14160156\n",
            " -0.33398438  0.08154297 -0.27539062  0.10058594 -0.10449219 -0.12353516\n",
            " -0.140625    0.03491211 -0.11767578 -0.1796875  -0.21484375 -0.23828125\n",
            "  0.08447266 -0.07519531 -0.25976562 -0.21289062 -0.22363281 -0.09716797\n",
            "  0.11572266  0.15429688  0.07373047 -0.27539062  0.14257812 -0.0201416\n",
            "  0.10009766 -0.19042969 -0.09375     0.14160156  0.17089844  0.3125\n",
            " -0.16699219 -0.08691406 -0.05004883 -0.24902344 -0.20800781 -0.09423828\n",
            " -0.12255859 -0.09472656 -0.390625   -0.06640625 -0.31640625  0.10986328\n",
            " -0.00156403  0.04345703  0.15625    -0.18945312 -0.03491211  0.03393555\n",
            " -0.14453125  0.01611328 -0.14160156 -0.02392578  0.01501465  0.07568359\n",
            "  0.10742188  0.12695312  0.10693359 -0.01184082 -0.24023438  0.0291748\n",
            "  0.16210938  0.19921875 -0.28125     0.16699219 -0.11621094 -0.25585938\n",
            "  0.38671875 -0.06640625 -0.4609375  -0.06176758 -0.14453125 -0.11621094\n",
            "  0.05688477  0.03588867 -0.10693359  0.18847656 -0.16699219 -0.01794434\n",
            "  0.10986328 -0.12353516 -0.16308594 -0.14453125  0.12890625  0.11523438\n",
            "  0.13671875  0.05688477 -0.08105469 -0.06152344 -0.06689453  0.27929688\n",
            " -0.19628906  0.07226562  0.12304688 -0.20996094 -0.22070312  0.21386719\n",
            " -0.1484375  -0.05932617  0.05224609  0.06445312 -0.02636719  0.13183594\n",
            "  0.19433594  0.27148438  0.18652344  0.140625    0.06542969 -0.14453125\n",
            "  0.05029297  0.08837891  0.12255859  0.26757812  0.0534668  -0.32226562\n",
            " -0.20703125  0.18164062  0.04418945 -0.22167969 -0.13769531 -0.04174805\n",
            " -0.00286865  0.04077148  0.07275391 -0.08300781  0.08398438 -0.3359375\n",
            " -0.40039062  0.01757812 -0.18652344 -0.0480957  -0.19140625  0.10107422\n",
            "  0.09277344 -0.30664062 -0.19921875 -0.0168457   0.12207031  0.14648438\n",
            " -0.12890625 -0.23535156 -0.05371094 -0.06640625  0.06884766 -0.03637695\n",
            "  0.2109375  -0.06005859  0.19335938  0.05151367 -0.05322266  0.02893066\n",
            " -0.27539062  0.08447266  0.328125    0.01818848  0.01495361  0.04711914\n",
            "  0.37695312 -0.21875    -0.03393555  0.01116943  0.36914062  0.02160645\n",
            "  0.03466797  0.07275391  0.16015625 -0.16503906 -0.296875    0.15039062\n",
            " -0.29101562  0.13964844  0.00448608  0.171875   -0.21972656  0.09326172\n",
            " -0.19042969  0.01599121 -0.09228516  0.15722656 -0.14160156 -0.0534668\n",
            "  0.03613281  0.23632812 -0.15136719 -0.00689697 -0.27148438 -0.07128906\n",
            " -0.16503906  0.18457031 -0.08398438  0.18554688  0.11669922  0.02758789\n",
            " -0.04760742  0.17871094  0.06542969 -0.03540039  0.22949219  0.02697754\n",
            " -0.09765625  0.26953125  0.08349609 -0.13085938 -0.10107422 -0.00738525\n",
            "  0.07128906  0.14941406 -0.20605469  0.18066406 -0.15820312  0.05932617\n",
            "  0.28710938 -0.04663086  0.15136719  0.4921875  -0.27539062  0.05615234]\n"
          ]
        }
      ]
    },
    {
      "cell_type": "code",
      "source": [
        "print(word_vectors['cat'].shape)"
      ],
      "metadata": {
        "colab": {
          "base_uri": "https://localhost:8080/"
        },
        "id": "LiwKYuhWF4f8",
        "outputId": "9228beaf-a419-4864-c114-3b30c56b4c66"
      },
      "execution_count": 3,
      "outputs": [
        {
          "output_type": "stream",
          "name": "stdout",
          "text": [
            "(300,)\n"
          ]
        }
      ]
    },
    {
      "cell_type": "markdown",
      "source": [
        "Similar words\n",
        "King + Woman - Man = ?"
      ],
      "metadata": {
        "id": "DtxL0GoSF-mH"
      }
    },
    {
      "cell_type": "code",
      "source": [
        "print(word_vectors.most_similar(positive=['woman', 'king'], negative=['man']))"
      ],
      "metadata": {
        "colab": {
          "base_uri": "https://localhost:8080/"
        },
        "id": "VpbmKAYJGCqX",
        "outputId": "a4be0f6c-e6d5-401d-c291-8cafff1d5a12"
      },
      "execution_count": 4,
      "outputs": [
        {
          "output_type": "stream",
          "name": "stdout",
          "text": [
            "[('queen', 0.7118193507194519), ('monarch', 0.6189674139022827), ('princess', 0.5902431011199951), ('crown_prince', 0.5499460697174072), ('prince', 0.5377321839332581), ('kings', 0.5236844420433044), ('Queen_Consort', 0.5235945582389832), ('queens', 0.5181134343147278), ('sultan', 0.5098593831062317), ('monarchy', 0.5087411999702454)]\n"
          ]
        }
      ]
    },
    {
      "cell_type": "markdown",
      "source": [
        "Similarity between a few pair of words"
      ],
      "metadata": {
        "id": "dkYH19UHGZvJ"
      }
    },
    {
      "cell_type": "code",
      "source": [
        "# Example of calculating similarity\n",
        "print(word_vectors.similarity('woman','man'))\n",
        "print(word_vectors.similarity('cat','dog'))\n",
        "print(word_vectors.similarity('cat','car'))\n",
        "print(word_vectors.similarity('uncle','aunt'))\n",
        "print(word_vectors.similarity('nephew','niece'))\n",
        "print(word_vectors.similarity('paper','water'))"
      ],
      "metadata": {
        "colab": {
          "base_uri": "https://localhost:8080/"
        },
        "id": "BOxsk3m3GdGy",
        "outputId": "84ca07d5-52b3-4c72-9230-9e6b8aebfc8c"
      },
      "execution_count": 6,
      "outputs": [
        {
          "output_type": "stream",
          "name": "stdout",
          "text": [
            "0.76640123\n",
            "0.76094574\n",
            "0.21528184\n",
            "0.7643474\n",
            "0.7594367\n",
            "0.11408084\n"
          ]
        }
      ]
    },
    {
      "cell_type": "code",
      "source": [
        "print(word_vectors.most_similar(\"tower\",topn=5))"
      ],
      "metadata": {
        "colab": {
          "base_uri": "https://localhost:8080/"
        },
        "id": "FQJISCM-H4x4",
        "outputId": "c1aaaefc-73c7-43f6-ed17-d08d6534ab2d"
      },
      "execution_count": 7,
      "outputs": [
        {
          "output_type": "stream",
          "name": "stdout",
          "text": [
            "[('towers', 0.8531750440597534), ('skyscraper', 0.6417425870895386), ('Tower', 0.639177143573761), ('spire', 0.594687819480896), ('responded_Understood_Atlasjet', 0.5931612253189087)]\n"
          ]
        }
      ]
    },
    {
      "cell_type": "code",
      "source": [
        "import numpy as np\n",
        "\n",
        "word1 = \"man\"\n",
        "word2 = \"woman\"\n",
        "\n",
        "word3 = \"semiconductor\"\n",
        "word4 = \"earthworm\"\n",
        "\n",
        "word5 = \"nephew\"\n",
        "word6 = \"niece\"\n",
        "\n",
        "# Calculate the vector difference\n",
        "vec_diff1 = model[word1] - model[word2]\n",
        "vec_diff2 = model[word3] - model[word4]\n",
        "vec_diff3 = model[word5] - model[word6]\n",
        "\n",
        "#Calculate the magnitude of the vector difference\n",
        "mag_diff1 = np.linalg.norm(vec_diff1)\n",
        "mag_diff2 = np.linalg.norm(vec_diff2)\n",
        "mag_diff3 = np.linalg.norm(vec_diff3)\n",
        "\n",
        "#Print the magntide of the difference\n",
        "\n",
        "print(\"The magnitude of the difference between '{}' and '{}' is {:.2f}\".format(word1,word2,mag_diff1))\n",
        "print(\"The magnitude of the difference between '{}' and '{}' is {:.2f}\".format(word3,word4,mag_diff2))\n",
        "print(\"The magnitude of the difference between '{}' and '{}' is {:.2f}\".format(word5,word6,mag_diff3))"
      ],
      "metadata": {
        "colab": {
          "base_uri": "https://localhost:8080/"
        },
        "id": "LD3ePvtNIMpn",
        "outputId": "62809e2f-4fa7-41ab-8a5f-f517e77afcb1"
      },
      "execution_count": 10,
      "outputs": [
        {
          "output_type": "stream",
          "name": "stdout",
          "text": [
            "The magnitude of the difference between 'man' and 'woman' is 1.73\n",
            "The magnitude of the difference between 'semiconductor' and 'earthworm' is 5.67\n",
            "The magnitude of the difference between 'nephew' and 'niece' is 1.96\n"
          ]
        }
      ]
    },
    {
      "cell_type": "code",
      "source": [],
      "metadata": {
        "id": "-7I6o6W6IMY6"
      },
      "execution_count": null,
      "outputs": []
    }
  ]
}