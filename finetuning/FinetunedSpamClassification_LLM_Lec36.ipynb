{
  "cells": [
    {
      "cell_type": "markdown",
      "metadata": {
        "id": "TB4FL3IWUhRU"
      },
      "source": [
        "GPT ARCHITECTURE PART 1:  IMPLEMENTING A GPT MODEL FROM SCRATCH TO GENERATE TEXT"
      ]
    },
    {
      "cell_type": "code",
      "execution_count": 130,
      "metadata": {
        "id": "4qliz_UZqRG7"
      },
      "outputs": [],
      "source": [
        "GPT_CONFIG_124M = {\n",
        "    \"vocab_size\":50257,    # Vocabulary size\n",
        "    \"context_length\":1024, # Context length\n",
        "    \"emb_dim\":768,         # Embedding dimension\n",
        "    \"n_heads\":12,          # Number of attention heads\n",
        "    \"n_layers\":12,         # Number of layers\n",
        "    \"drop_rate\":0.1,       # Dropout rate\n",
        "    \"qkv_bias\":False       # Query-Key-Value bias\n",
        "}"
      ]
    },
    {
      "cell_type": "markdown",
      "metadata": {
        "id": "ul18KxlQq32j"
      },
      "source": [
        "GPT ARCHITECTURE PART1 : DUMMY GPT MODEL CLASS\n",
        "\n",
        "Step1 : Use a placeholder for Transformer block\n",
        "\n",
        "Step2 : Use a placeholder for Layer Norm"
      ]
    },
    {
      "cell_type": "code",
      "execution_count": 131,
      "metadata": {
        "id": "A8-5QLpYrGRs"
      },
      "outputs": [],
      "source": [
        "import torch\n",
        "import torch.nn as nn\n",
        "\n",
        "class DummyGPTModel(nn.Module):\n",
        "  def __init__(self,cfg):\n",
        "    super().__init__()\n",
        "    self.tok_emb = nn.Embedding(cfg[\"vocab_size\"],cfg[\"emb_dim\"])\n",
        "    self.pos_emb = nn.Embedding(cfg[\"context_length\"],cfg[\"emb_dim\"])\n",
        "    self.drop_emb = nn.Dropout(cfg[\"drop_rate\"])\n",
        "\n",
        "    #Use a placeholder transformer block\n",
        "    self.trf_blocks = nn.Sequential(*[DummyTransformerBlock(cfg) for _ in range(cfg[\"n_layers\"])])\n",
        "\n",
        "    # Use a placeholder for Layer Norm\n",
        "    self.final_norm = DummyLayerNorm(cfg[\"emb_dim\"])\n",
        "    self.out_head = nn.Linear(cfg[\"emb_dim\"],cfg[\"vocab_size\"],bias=False)\n",
        "\n",
        "  def forward(self,in_idx):\n",
        "    batch_size, seq_len = in_idx.shape\n",
        "    print(batch_size)\n",
        "    print(seq_len)\n",
        "    tok_embeds = self.tok_emb(in_idx)\n",
        "    pos_embeds = self.pos_emb(torch.arange(seq_len, device = in_idx.device))\n",
        "    x = tok_embeds + pos_embeds\n",
        "    x = self.drop_emb(x)\n",
        "    x = self.trf_blocks(x)\n",
        "    x = self.final_norm(x)\n",
        "    logits = self.out_head(x)\n",
        "    return logits\n",
        "\n",
        "class DummyTransformerBlock(nn.Module):\n",
        "  def __init__(self,cfg):\n",
        "    super().__init__()\n",
        "\n",
        "  def forward(self,x):\n",
        "    return x\n",
        "\n",
        "class DummyLayerNorm(nn.Module):\n",
        "  def __init__(self,cfg):\n",
        "    super().__init__()\n",
        "\n",
        "  def forward(self,x):\n",
        "    return x\n",
        "\n"
      ]
    },
    {
      "cell_type": "markdown",
      "metadata": {
        "id": "1eBNwABD2TCu"
      },
      "source": [
        "STEP1 : TOKENIZATION"
      ]
    },
    {
      "cell_type": "code",
      "execution_count": 132,
      "metadata": {
        "id": "6SXKDk9z1pyv",
        "colab": {
          "base_uri": "https://localhost:8080/"
        },
        "outputId": "9a22876b-a154-4a07-86fd-aa60d178f833"
      },
      "outputs": [
        {
          "output_type": "stream",
          "name": "stdout",
          "text": [
            "tensor([[6109, 3626, 6100,  345],\n",
            "        [6109, 1110, 6622,  257]])\n"
          ]
        }
      ],
      "source": [
        "import tiktoken\n",
        "import torch\n",
        "tokenizer = tiktoken.get_encoding(\"gpt2\")\n",
        "batch = []\n",
        "txt1 = \"Every effort moves you\"\n",
        "txt2 = \"Every day holds a\"\n",
        "batch.append(torch.tensor(tokenizer.encode(txt1)))\n",
        "batch.append(torch.tensor(tokenizer.encode(txt2)))\n",
        "batch = torch.stack(batch, dim=0)\n",
        "print(batch)\n"
      ]
    },
    {
      "cell_type": "markdown",
      "metadata": {
        "id": "KqJe_04A2U5H"
      },
      "source": [
        "STEP2 : CREATE AN INSTANCE OF DUMMY GPT MODEL\n"
      ]
    },
    {
      "cell_type": "code",
      "execution_count": 133,
      "metadata": {
        "id": "wV3gHk-A7VCi",
        "colab": {
          "base_uri": "https://localhost:8080/"
        },
        "outputId": "9aa88f3e-e636-47db-f1cb-c8f8152e69c5"
      },
      "outputs": [
        {
          "output_type": "stream",
          "name": "stdout",
          "text": [
            "2\n",
            "4\n",
            "Output shape: torch.Size([2, 4, 50257])\n",
            "tensor([[[-1.2034,  0.3201, -0.7130,  ..., -1.5548, -0.2390, -0.4667],\n",
            "         [-0.1192,  0.4539, -0.4432,  ...,  0.2392,  1.3469,  1.2430],\n",
            "         [ 0.5307,  1.6720, -0.4695,  ...,  1.1966,  0.0111,  0.5835],\n",
            "         [ 0.0139,  1.6755, -0.3388,  ...,  1.1586, -0.0435, -1.0400]],\n",
            "\n",
            "        [[-1.0908,  0.1798, -0.9484,  ..., -1.6047,  0.2439, -0.4530],\n",
            "         [-0.7860,  0.5581, -0.0610,  ...,  0.4835, -0.0077,  1.6621],\n",
            "         [ 0.3567,  1.2698, -0.6398,  ..., -0.0162, -0.1296,  0.3717],\n",
            "         [-0.2407, -0.7349, -0.5102,  ...,  2.0057, -0.3694,  0.1814]]],\n",
            "       grad_fn=<UnsafeViewBackward0>)\n"
          ]
        }
      ],
      "source": [
        "torch.manual_seed(123)\n",
        "model = DummyGPTModel(GPT_CONFIG_124M)\n",
        "logits = model(batch)\n",
        "print(\"Output shape:\", logits.shape)\n",
        "print(logits)"
      ]
    },
    {
      "cell_type": "markdown",
      "metadata": {
        "id": "860DZC9Uq9oC"
      },
      "source": [
        "GPT ARCHITECTURE PART 2: LAYER NORMALIZATION"
      ]
    },
    {
      "cell_type": "code",
      "execution_count": 133,
      "metadata": {
        "id": "byG0H4cqdHFC"
      },
      "outputs": [],
      "source": []
    },
    {
      "cell_type": "code",
      "execution_count": 133,
      "metadata": {
        "id": "sogF0khsUoaC"
      },
      "outputs": [],
      "source": []
    },
    {
      "cell_type": "code",
      "execution_count": 134,
      "metadata": {
        "id": "3ojNuuG8PHrX",
        "colab": {
          "base_uri": "https://localhost:8080/"
        },
        "outputId": "d5d37ce3-67d8-4213-cb4b-1dfde705592c"
      },
      "outputs": [
        {
          "output_type": "stream",
          "name": "stdout",
          "text": [
            "tensor([[0.2260, 0.3470, 0.0000, 0.2216, 0.0000, 0.0000],\n",
            "        [0.2133, 0.2394, 0.0000, 0.5198, 0.3297, 0.0000]],\n",
            "       grad_fn=<ReluBackward0>)\n"
          ]
        }
      ],
      "source": [
        "import torch\n",
        "torch.manual_seed(123)\n",
        "batch_example = torch.randn(2,5)\n",
        "layer = nn.Sequential(nn.Linear(5,6),nn.ReLU())\n",
        "out = layer(batch_example)\n",
        "print(out)"
      ]
    },
    {
      "cell_type": "code",
      "execution_count": 135,
      "metadata": {
        "id": "BLznmM5HdPqv",
        "colab": {
          "base_uri": "https://localhost:8080/"
        },
        "outputId": "8e3dbaa6-b79f-4877-805a-b65925aff18f"
      },
      "outputs": [
        {
          "output_type": "stream",
          "name": "stdout",
          "text": [
            "tensor([[0.1324],\n",
            "        [0.2170]], grad_fn=<MeanBackward1>)\n",
            "tensor([[0.0231],\n",
            "        [0.0398]], grad_fn=<VarBackward0>)\n"
          ]
        }
      ],
      "source": [
        "mean = out.mean(dim=-1,keepdim=True)\n",
        "print(mean)\n",
        "var = out.var(dim=-1,keepdim=True)\n",
        "print(var)"
      ]
    },
    {
      "cell_type": "code",
      "execution_count": 136,
      "metadata": {
        "id": "MojBcrgRVI_a",
        "colab": {
          "base_uri": "https://localhost:8080/"
        },
        "outputId": "8ae27e78-b6bc-4b9e-dcbf-510a9e8205d4"
      },
      "outputs": [
        {
          "output_type": "stream",
          "name": "stdout",
          "text": [
            "tensor([[ 0.6159,  1.4126, -0.8719,  0.5872, -0.8719, -0.8719],\n",
            "        [-0.0189,  0.1121, -1.0876,  1.5173,  0.5647, -1.0876]],\n",
            "       grad_fn=<DivBackward0>)\n",
            "tensor([[    0.0000],\n",
            "        [    0.0000]], grad_fn=<MeanBackward1>)\n",
            "tensor([[1.0000],\n",
            "        [1.0000]], grad_fn=<VarBackward0>)\n",
            "tensor([[    0.0000],\n",
            "        [    0.0000]], grad_fn=<MeanBackward1>)\n",
            "tensor([[1.0000],\n",
            "        [1.0000]], grad_fn=<VarBackward0>)\n"
          ]
        }
      ],
      "source": [
        "out_norm = (out - mean)/torch.sqrt(var)\n",
        "print(out_norm)\n",
        "mean = out_norm.mean(dim=-1,keepdim=True)\n",
        "var = out_norm.var(dim=-1,keepdim=True)\n",
        "print(mean)\n",
        "print(var)\n",
        "\n",
        "torch.set_printoptions(sci_mode=False)\n",
        "print(mean)\n",
        "print(var)"
      ]
    },
    {
      "cell_type": "code",
      "execution_count": 137,
      "metadata": {
        "id": "Uwxd15FIVIu5"
      },
      "outputs": [],
      "source": [
        "class LayerNorm(nn.Module):\n",
        "  def __init__(self,emb_dim):\n",
        "    super().__init__()\n",
        "    self.eps = 1e-5\n",
        "    self.scale = nn.Parameter(torch.ones(emb_dim))\n",
        "    self.shift = nn.Parameter(torch.zeros(emb_dim))\n",
        "\n",
        "  def forward(self,x):\n",
        "    mean = x.mean(dim=-1,keepdim=True)\n",
        "    var = x.var(dim=-1, keepdim=True,unbiased=False)\n",
        "    norm_x = (x-mean)/torch.sqrt(var+self.eps) # eps added to avoid divide by zero error while normalizing\n",
        "    return self.scale * norm_x + self.shift"
      ]
    },
    {
      "cell_type": "code",
      "execution_count": 138,
      "metadata": {
        "id": "mJQVWb2mq0xu",
        "colab": {
          "base_uri": "https://localhost:8080/"
        },
        "outputId": "5b9c6a0e-036a-43e7-8ee3-474137c45835"
      },
      "outputs": [
        {
          "output_type": "stream",
          "name": "stdout",
          "text": [
            "tensor([[-0.1115,  0.1204, -0.3696, -0.2404, -1.1969],\n",
            "        [ 0.2093, -0.9724, -0.7550,  0.3239, -0.1085]])\n",
            "tensor([[    -0.0000],\n",
            "        [     0.0000]], grad_fn=<MeanBackward1>)\n",
            "tensor([[1.0000],\n",
            "        [1.0000]], grad_fn=<VarBackward0>)\n"
          ]
        }
      ],
      "source": [
        "ln = LayerNorm(emb_dim = 5)\n",
        "print(batch_example)\n",
        "out_ln = ln(batch_example)\n",
        "mean = out_ln.mean(dim=-1,keepdim=True)\n",
        "var = out_ln.var(dim=-1,keepdim=True, unbiased=False)\n",
        "print(mean)\n",
        "print(var)"
      ]
    },
    {
      "cell_type": "markdown",
      "metadata": {
        "id": "yPeohX5JwPhm"
      },
      "source": [
        "GPT ARCHITECTURE PART 3: FEEDFORWARD NEURAL NETWORK WITH GELU"
      ]
    },
    {
      "cell_type": "markdown",
      "metadata": {
        "id": "tZTPfuDrvtTb"
      },
      "source": [
        "![image.png](data:image/png;base64,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)"
      ]
    },
    {
      "cell_type": "code",
      "execution_count": 139,
      "metadata": {
        "id": "fuYatruKvwjB"
      },
      "outputs": [],
      "source": [
        "class GELU(nn.Module):\n",
        "  def __init__(self):\n",
        "    super().__init__()\n",
        "\n",
        "  def forward(self,x):\n",
        "    return 0.5 * x * (1+ torch.tanh(torch.sqrt(torch.tensor(2.0/torch.pi))*\n",
        "                      (x + 0.044715 * torch.pow(x,3))))"
      ]
    },
    {
      "cell_type": "code",
      "execution_count": 140,
      "metadata": {
        "id": "UwuwUjWcxChy",
        "colab": {
          "base_uri": "https://localhost:8080/",
          "height": 533
        },
        "outputId": "f012126c-4417-4f93-abc3-aaa3f9446bd9"
      },
      "outputs": [
        {
          "output_type": "stream",
          "name": "stdout",
          "text": [
            "tensor([-3.0000, -2.9394, -2.8788, -2.8182, -2.7576, -2.6970, -2.6364, -2.5758,\n",
            "        -2.5152, -2.4545, -2.3939, -2.3333, -2.2727, -2.2121, -2.1515, -2.0909,\n",
            "        -2.0303, -1.9697, -1.9091, -1.8485, -1.7879, -1.7273, -1.6667, -1.6061,\n",
            "        -1.5455, -1.4848, -1.4242, -1.3636, -1.3030, -1.2424, -1.1818, -1.1212,\n",
            "        -1.0606, -1.0000, -0.9394, -0.8788, -0.8182, -0.7576, -0.6970, -0.6364,\n",
            "        -0.5758, -0.5152, -0.4545, -0.3939, -0.3333, -0.2727, -0.2121, -0.1515,\n",
            "        -0.0909, -0.0303,  0.0303,  0.0909,  0.1515,  0.2121,  0.2727,  0.3333,\n",
            "         0.3939,  0.4545,  0.5152,  0.5758,  0.6364,  0.6970,  0.7576,  0.8182,\n",
            "         0.8788,  0.9394,  1.0000,  1.0606,  1.1212,  1.1818,  1.2424,  1.3030,\n",
            "         1.3636,  1.4242,  1.4848,  1.5455,  1.6061,  1.6667,  1.7273,  1.7879,\n",
            "         1.8485,  1.9091,  1.9697,  2.0303,  2.0909,  2.1515,  2.2121,  2.2727,\n",
            "         2.3333,  2.3939,  2.4545,  2.5152,  2.5758,  2.6364,  2.6970,  2.7576,\n",
            "         2.8182,  2.8788,  2.9394,  3.0000])\n"
          ]
        },
        {
          "output_type": "display_data",
          "data": {
            "text/plain": [
              "<Figure size 800x300 with 2 Axes>"
            ],
            "image/png": "[encoded data removed]"
          },
          "metadata": {}
        }
      ],
      "source": [
        "import matplotlib.pyplot as plt\n",
        "\n",
        "gelu, relu = GELU(), nn.ReLU()\n",
        "x = torch.linspace(-3,3,100)\n",
        "print(x)\n",
        "y_gelu, y_relu = gelu(x), relu(x)\n",
        "\n",
        "plt.figure(figsize=(8,3))\n",
        "for i , (y, label) in enumerate(zip([y_gelu,y_relu],[\"GELU\",\"RELU\"]),1):\n",
        "  plt.subplot(1,2,i)\n",
        "  plt.plot(x,y)\n",
        "  plt.title(f\"{label} activation function\")\n",
        "  plt.xlabel(\"x\")\n",
        "  plt.ylabel(f\"{label}(x)\")\n",
        "  plt.grid(True)\n",
        "\n",
        "plt.tight_layout()\n",
        "plt.show()"
      ]
    },
    {
      "cell_type": "code",
      "execution_count": 141,
      "metadata": {
        "id": "x8s2FLIc9E-z"
      },
      "outputs": [],
      "source": [
        "GPT_CONFIG_124M = {\n",
        "    \"vocab_size\":50257,    # Vocabulary size\n",
        "    \"context_length\":1024, # Context length\n",
        "    \"emb_dim\":768,         # Embedding dimension\n",
        "    \"n_heads\":12,          # Number of attention heads\n",
        "    \"n_layers\":12,         # Number of layers\n",
        "    \"drop_rate\":0.1,       # Dropout rate\n",
        "    \"qkv_bias\":False       # Query-Key-Value bias\n",
        "}"
      ]
    },
    {
      "cell_type": "code",
      "execution_count": 142,
      "metadata": {
        "id": "1EaORqSO8abf"
      },
      "outputs": [],
      "source": [
        "class FeedForward(nn.Module):\n",
        "  def __init__(self,cfg):\n",
        "    super().__init__()\n",
        "    self.layers = nn.Sequential(nn.Linear(cfg[\"emb_dim\"], 4* cfg[\"emb_dim\"]),\n",
        "                                GELU(),\n",
        "                                nn.Linear(4*cfg[\"emb_dim\"],cfg[\"emb_dim\"]),\n",
        "    )\n",
        "\n",
        "  def forward(self,x):\n",
        "    return self.layers(x)"
      ]
    },
    {
      "cell_type": "code",
      "execution_count": 143,
      "metadata": {
        "id": "TP0yjI0v9a8l",
        "colab": {
          "base_uri": "https://localhost:8080/"
        },
        "outputId": "d5eed654-a63c-497b-f3ec-2adea165eda3"
      },
      "outputs": [
        {
          "output_type": "stream",
          "name": "stdout",
          "text": [
            "tensor([[[0.0351, 0.0028, 0.6470,  ..., 0.5897, 0.8112, 0.1335],\n",
            "         [0.2758, 0.6665, 0.3312,  ..., 0.7204, 0.3365, 0.9016],\n",
            "         [0.7622, 0.4008, 0.4706,  ..., 0.4857, 0.9844, 0.0499]],\n",
            "\n",
            "        [[0.8761, 0.8123, 0.2511,  ..., 0.8113, 0.3147, 0.6469],\n",
            "         [0.9920, 0.7436, 0.7393,  ..., 0.8690, 0.1667, 0.4374],\n",
            "         [0.8999, 0.0747, 0.1878,  ..., 0.0586, 0.7915, 0.8741]]])\n",
            "tensor([[[ 0.1238,  0.0457,  0.0939,  ...,  0.1107,  0.0167, -0.1992],\n",
            "         [ 0.1574, -0.0282,  0.0049,  ...,  0.0026,  0.1120, -0.1075],\n",
            "         [ 0.1184, -0.0052,  0.0839,  ...,  0.1662,  0.0112, -0.1685]],\n",
            "\n",
            "        [[ 0.1302,  0.0630,  0.1050,  ...,  0.1439,  0.0562, -0.1128],\n",
            "         [ 0.1249, -0.0073,  0.1022,  ...,  0.0417,  0.0381, -0.0828],\n",
            "         [ 0.0494,  0.0654,  0.0347,  ...,  0.0701,  0.0793, -0.1810]]],\n",
            "       grad_fn=<ViewBackward0>)\n",
            "torch.Size([2, 3, 768])\n"
          ]
        }
      ],
      "source": [
        "ffn = FeedForward(GPT_CONFIG_124M)\n",
        "x = torch.rand(2,3,768)\n",
        "print(x)\n",
        "out = ffn(x)\n",
        "print(out)\n",
        "print(out.shape)"
      ]
    },
    {
      "cell_type": "markdown",
      "metadata": {
        "id": "PpseiF5aRvLc"
      },
      "source": [
        "GPT ARCHITECTURE PART4 : SHORT CUT CONNECTIONS"
      ]
    },
    {
      "cell_type": "code",
      "execution_count": 144,
      "metadata": {
        "id": "Inzl9W9ZRzJj"
      },
      "outputs": [],
      "source": [
        "class ExampleDeepNeuralNetwork(nn.Module):\n",
        "  def __init__(self,layer_sizes, use_shortcut):\n",
        "    super().__init__()\n",
        "    self.use_shortcut = use_shortcut\n",
        "    self.layers = nn.ModuleList([\n",
        "        nn.Sequential(nn.Linear(layer_sizes[0],layer_sizes[1]),GELU()),\n",
        "        nn.Sequential(nn.Linear(layer_sizes[1],layer_sizes[2]),GELU()),\n",
        "        nn.Sequential(nn.Linear(layer_sizes[2],layer_sizes[3]),GELU()),\n",
        "        nn.Sequential(nn.Linear(layer_sizes[3],layer_sizes[4]),GELU()),\n",
        "        nn.Sequential(nn.Linear(layer_sizes[4],layer_sizes[5]),GELU()),\n",
        "    ])\n",
        "\n",
        "\n",
        "  def forward(self,x):\n",
        "    for layer in self.layers:\n",
        "      layer_output = layer(x)\n",
        "      if self.use_shortcut and x.shape==layer_output.shape:\n",
        "        x = x + layer_output\n",
        "      else:\n",
        "        x = layer_output\n",
        "    return x\n"
      ]
    },
    {
      "cell_type": "code",
      "execution_count": 145,
      "metadata": {
        "id": "5WefNasraiD3"
      },
      "outputs": [],
      "source": [
        "import torch\n",
        "layer_sizes = [3,3,3,3,3,1]\n",
        "sample_input = torch.tensor([[1.0,0.,-1.]])\n",
        "torch.manual_seed(123)\n",
        "model_wo_shortcut = ExampleDeepNeuralNetwork(layer_sizes, use_shortcut=False)"
      ]
    },
    {
      "cell_type": "code",
      "execution_count": 146,
      "metadata": {
        "id": "i-5VCcBzboZy"
      },
      "outputs": [],
      "source": [
        "def print_gradients(model,x):\n",
        "  output = model(x)\n",
        "  target = torch.tensor([[0.]])\n",
        "\n",
        "  loss = nn.MSELoss()\n",
        "  loss = loss(output, target)\n",
        "  loss.backward()\n",
        "\n",
        "  for name, param in model.named_parameters():\n",
        "    if 'weight' in name:\n",
        "      print(f\"{name} has gradient mean of {param.grad.abs().mean().item()}\")"
      ]
    },
    {
      "cell_type": "code",
      "execution_count": 147,
      "metadata": {
        "id": "0HD-kfwdcSIs",
        "colab": {
          "base_uri": "https://localhost:8080/"
        },
        "outputId": "11ae62fa-f29d-40af-89ac-0388d35a5fa3"
      },
      "outputs": [
        {
          "output_type": "stream",
          "name": "stdout",
          "text": [
            "layers.0.0.weight has gradient mean of 0.00020173584925942123\n",
            "layers.1.0.weight has gradient mean of 0.00012011159560643137\n",
            "layers.2.0.weight has gradient mean of 0.0007152040489017963\n",
            "layers.3.0.weight has gradient mean of 0.0013988736318424344\n",
            "layers.4.0.weight has gradient mean of 0.005049645435065031\n"
          ]
        }
      ],
      "source": [
        "print_gradients(model_wo_shortcut,sample_input)"
      ]
    },
    {
      "cell_type": "code",
      "execution_count": 148,
      "metadata": {
        "id": "1dZDRamHdsZV"
      },
      "outputs": [],
      "source": [
        "import torch\n",
        "layer_sizes = [3,3,3,3,3,1]\n",
        "sample_input = torch.tensor([[1.0,0.,-1.]])\n",
        "torch.manual_seed(123)\n",
        "model_with_shortcut = ExampleDeepNeuralNetwork(layer_sizes, use_shortcut=True)"
      ]
    },
    {
      "cell_type": "code",
      "execution_count": 149,
      "metadata": {
        "id": "JFq1nQyWdufd",
        "colab": {
          "base_uri": "https://localhost:8080/"
        },
        "outputId": "742c343a-e2e8-4bc5-b8ad-570b52edd0dc"
      },
      "outputs": [
        {
          "output_type": "stream",
          "name": "stdout",
          "text": [
            "layers.0.0.weight has gradient mean of 0.22169792652130127\n",
            "layers.1.0.weight has gradient mean of 0.20694108307361603\n",
            "layers.2.0.weight has gradient mean of 0.3289699852466583\n",
            "layers.3.0.weight has gradient mean of 0.2665732204914093\n",
            "layers.4.0.weight has gradient mean of 1.3258541822433472\n"
          ]
        }
      ],
      "source": [
        "print_gradients(model_with_shortcut,sample_input)"
      ]
    },
    {
      "cell_type": "markdown",
      "metadata": {
        "id": "NBa8N6fkgFeI"
      },
      "source": [
        "GPT ARCHITECTURE PART 5: CODING ATTENTION AND LINEAR LAYERS"
      ]
    },
    {
      "cell_type": "code",
      "execution_count": 150,
      "metadata": {
        "id": "GrueST0kgNe8"
      },
      "outputs": [],
      "source": [
        "GPT_CONFIG_124M = {\n",
        "    \"vocab_size\":50257,    # Vocabulary size\n",
        "    \"context_length\":1024, # Context length\n",
        "    \"emb_dim\":768,         # Embedding dimension\n",
        "    \"n_heads\":12,          # Number of attention heads\n",
        "    \"n_layers\":12,         # Number of layers\n",
        "    \"drop_rate\":0.1,       # Dropout rate\n",
        "    \"qkv_bias\":False       # Query-Key-Value bias\n",
        "}"
      ]
    },
    {
      "cell_type": "markdown",
      "metadata": {
        "id": "LTwlH6RjgTRr"
      },
      "source": [
        "THE BUILDING BLOCKS : LAYER NORMALIZATION , GELU AND FEEDFORWARD"
      ]
    },
    {
      "cell_type": "code",
      "execution_count": 151,
      "metadata": {
        "id": "EPPfJXcUgZDY"
      },
      "outputs": [],
      "source": [
        "class LayerNorm(nn.Module):\n",
        "  def __init__(self, emb_dim):\n",
        "    super().__init__()\n",
        "    self.eps = 1e-5\n",
        "    self.scale = nn.Parameter(torch.ones(emb_dim))\n",
        "    self.shift = nn.Parameter(torch.zeros(emb_dim))\n",
        "\n",
        "  def forward(self,x):\n",
        "    mean = x.mean(dim=-1, keepdim=True)\n",
        "    var = x.var(dim=-1, keepdim=True, unbiased=False)\n",
        "    norm_x = (x - mean)/torch.sqrt(var+ self.eps)\n",
        "    return self.scale * norm_x + self.shift\n",
        "\n",
        "class GELU(nn.Module):\n",
        "  def __init__(self):\n",
        "    super().__init__()\n",
        "\n",
        "  def forward(self,x):\n",
        "    return 0.5 * x * (1+ torch.tanh(torch.sqrt(torch.tensor(2.0/torch.pi))*\n",
        "                      (x + 0.044715 * torch.pow(x,3))))\n",
        "\n",
        "class FeedForward(nn.Module):\n",
        "  def __init__(self,cfg):\n",
        "    super().__init__()\n",
        "    self.layers = nn.Sequential(nn.Linear(cfg[\"emb_dim\"], 4 * cfg[\"emb_dim\"]),\n",
        "                                GELU(),\n",
        "                                nn.Linear(4 * cfg[\"emb_dim\"], cfg[\"emb_dim\"]))\n",
        "\n",
        "  def forward(self,x):\n",
        "    return self.layers(x)"
      ]
    },
    {
      "cell_type": "markdown",
      "metadata": {
        "id": "H481ehr2lV0u"
      },
      "source": [
        "Coding the transformer block"
      ]
    },
    {
      "cell_type": "code",
      "execution_count": 152,
      "metadata": {
        "id": "9z_uj6nsroy1"
      },
      "outputs": [],
      "source": [
        "class MultiHeadAttention(nn.Module):\n",
        "    def __init__(self, d_in, d_out, context_length, dropout, num_heads, qkv_bias=False):\n",
        "        super().__init__()\n",
        "        assert (d_out % num_heads == 0), \\\n",
        "            \"d_out must be divisible by num_heads\"\n",
        "\n",
        "        self.d_out = d_out\n",
        "        self.num_heads = num_heads\n",
        "        self.head_dim = d_out // num_heads # Reduce the projection dim to match desired output dim\n",
        "\n",
        "        self.W_query = nn.Linear(d_in, d_out, bias=qkv_bias)\n",
        "        self.W_key = nn.Linear(d_in, d_out, bias=qkv_bias)\n",
        "        self.W_value = nn.Linear(d_in, d_out, bias=qkv_bias)\n",
        "        self.out_proj = nn.Linear(d_out, d_out)  # Linear layer to combine head outputs\n",
        "        self.dropout = nn.Dropout(dropout)\n",
        "        self.register_buffer(\n",
        "            \"mask\",\n",
        "            torch.triu(torch.ones(context_length, context_length),\n",
        "                       diagonal=1)\n",
        "        )\n",
        "\n",
        "    def forward(self, x):\n",
        "        b, num_tokens, d_in = x.shape\n",
        "\n",
        "        keys = self.W_key(x) # Shape: (b, num_tokens, d_out)\n",
        "        queries = self.W_query(x)\n",
        "        values = self.W_value(x)\n",
        "\n",
        "        # We implicitly split the matrix by adding a `num_heads` dimension\n",
        "        # Unroll last dim: (b, num_tokens, d_out) -> (b, num_tokens, num_heads, head_dim)\n",
        "        keys = keys.view(b, num_tokens, self.num_heads, self.head_dim)\n",
        "        values = values.view(b, num_tokens, self.num_heads, self.head_dim)\n",
        "        queries = queries.view(b, num_tokens, self.num_heads, self.head_dim)\n",
        "\n",
        "        # Transpose: (b, num_tokens, num_heads, head_dim) -> (b, num_heads, num_tokens, head_dim)\n",
        "        keys = keys.transpose(1, 2)\n",
        "        queries = queries.transpose(1, 2)\n",
        "        values = values.transpose(1, 2)\n",
        "\n",
        "        # Compute scaled dot-product attention (aka self-attention) with a causal mask\n",
        "        attn_scores = queries @ keys.transpose(2, 3)  # Dot product for each head\n",
        "\n",
        "        # Original mask truncated to the number of tokens and converted to boolean\n",
        "        mask_bool = self.mask.bool()[:num_tokens, :num_tokens]\n",
        "\n",
        "        # Use the mask to fill attention scores\n",
        "        attn_scores.masked_fill_(mask_bool, -torch.inf)\n",
        "\n",
        "        attn_weights = torch.softmax(attn_scores / keys.shape[-1]**0.5, dim=-1)\n",
        "        attn_weights = self.dropout(attn_weights)\n",
        "\n",
        "        # Shape: (b, num_tokens, num_heads, head_dim)\n",
        "        context_vec = (attn_weights @ values).transpose(1, 2)\n",
        "\n",
        "        # Combine heads, where self.d_out = self.num_heads * self.head_dim\n",
        "        context_vec = context_vec.contiguous().view(b, num_tokens, self.d_out)\n",
        "        context_vec = self.out_proj(context_vec) # optional projection\n",
        "\n",
        "        return context_vec"
      ]
    },
    {
      "cell_type": "code",
      "execution_count": 153,
      "metadata": {
        "id": "zGZ7kOB1kDcU"
      },
      "outputs": [],
      "source": [
        "class TransformerBlock(nn.Module):\n",
        "  def __init__(self,cfg):\n",
        "    super().__init__()\n",
        "    self.attn = MultiHeadAttention(d_in = cfg[\"emb_dim\"],\n",
        "                                   d_out = cfg[\"emb_dim\"],\n",
        "                                   context_length = cfg[\"context_length\"],\n",
        "                                   num_heads = cfg[\"n_heads\"],\n",
        "                                   dropout = cfg[\"drop_rate\"],\n",
        "                                   qkv_bias = cfg[\"qkv_bias\"])\n",
        "    self.ff = FeedForward(cfg)\n",
        "    self.norm1 = LayerNorm(cfg[\"emb_dim\"])\n",
        "    self.norm2 = LayerNorm(cfg[\"emb_dim\"])\n",
        "    self.drop_shortcut = nn.Dropout(cfg[\"drop_rate\"])\n",
        "\n",
        "  def forward(self,x):\n",
        "    shortcut = x\n",
        "    x = self.norm1(x)\n",
        "    x = self.attn(x)\n",
        "    x = self.drop_shortcut(x)\n",
        "    x = shortcut + x\n",
        "\n",
        "    shortcut = x\n",
        "    x = self.norm2(x)\n",
        "    x = self.ff(x)\n",
        "    x = self.drop_shortcut(x)\n",
        "    x = shortcut + x\n",
        "    return x\n"
      ]
    },
    {
      "cell_type": "code",
      "execution_count": 154,
      "metadata": {
        "id": "Q53gszy_tH90",
        "colab": {
          "base_uri": "https://localhost:8080/"
        },
        "outputId": "1f227c64-07ed-495a-f640-f92588791a1c"
      },
      "outputs": [
        {
          "output_type": "stream",
          "name": "stdout",
          "text": [
            "Input shape: torch.Size([2, 4, 768])\n",
            "Output shape: torch.Size([2, 4, 768])\n",
            "tensor([[[-0.0055,  0.0972, -0.1122,  ...,  1.2889,  0.2623,  0.6685],\n",
            "         [ 0.0023, -0.2369,  0.1720,  ...,  0.5952,  0.2497,  0.7447],\n",
            "         [ 0.4673,  0.4472,  0.1791,  ...,  1.2525,  0.3045,  0.7750],\n",
            "         [ 0.0662,  0.7224,  0.9206,  ...,  0.4790,  0.7428,  0.7015]],\n",
            "\n",
            "        [[ 0.3622,  1.2144,  0.5221,  ...,  0.1854,  0.0111, -0.5034],\n",
            "         [-0.0225,  0.7789,  0.2770,  ...,  0.1734,  0.5419,  0.1143],\n",
            "         [ 0.7425,  0.4013,  0.3211,  ...,  0.3268,  0.7523, -0.1642],\n",
            "         [ 0.5745,  0.6241,  0.4410,  ...,  1.1963,  1.2650,  0.2243]]],\n",
            "       grad_fn=<AddBackward0>)\n"
          ]
        }
      ],
      "source": [
        "torch.manual_seed(123)\n",
        "x = torch.rand(2,4,768)\n",
        "block = TransformerBlock(GPT_CONFIG_124M)\n",
        "output = block(x)\n",
        "print(\"Input shape:\",x.shape)\n",
        "print(\"Output shape:\",output.shape)\n",
        "print(output)"
      ]
    },
    {
      "cell_type": "markdown",
      "metadata": {
        "id": "Gal1xd5sZdIF"
      },
      "source": [
        "PART6 : GPT ARCHITECTURE  "
      ]
    },
    {
      "cell_type": "code",
      "execution_count": 155,
      "metadata": {
        "id": "ZImBORYzZiVC"
      },
      "outputs": [],
      "source": [
        "GPT_CONFIG_124M = {\n",
        "    \"vocab_size\":50257,    # Vocabulary size\n",
        "    \"context_length\":1024, # Context length\n",
        "    \"emb_dim\":768,         # Embedding dimension\n",
        "    \"n_heads\":12,          # Number of attention heads\n",
        "    \"n_layers\":12,         # Number of layers\n",
        "    \"drop_rate\":0.1,       # Dropout rate\n",
        "    \"qkv_bias\":False       # Query-Key-Value bias\n",
        "}"
      ]
    },
    {
      "cell_type": "code",
      "execution_count": 156,
      "metadata": {
        "id": "AugLDXi_ZsA4"
      },
      "outputs": [],
      "source": [
        "import torch\n",
        "import torch.nn as nn\n",
        "\n",
        "class DummyGPTModel(nn.Module):\n",
        "  def __init__(self,cfg):\n",
        "    super().__init__()\n",
        "    self.tok_emb = nn.Embedding(cfg[\"vocab_size\"],cfg[\"emb_dim\"])\n",
        "    self.pos_emb = nn.Embedding(cfg[\"context_length\"],cfg[\"emb_dim\"])\n",
        "    self.drop_emb = nn.Dropout(cfg[\"drop_rate\"])\n",
        "\n",
        "    #Use a placeholder transformer block\n",
        "    self.trf_blocks = nn.Sequential(*[DummyTransformerBlock(cfg) for _ in range(cfg[\"n_layers\"])])\n",
        "\n",
        "    # Use a placeholder for Layer Norm\n",
        "    self.final_norm = DummyLayerNorm(cfg[\"emb_dim\"])\n",
        "    self.out_head = nn.Linear(cfg[\"emb_dim\"],cfg[\"vocab_size\"],bias=False)\n",
        "\n",
        "  def forward(self,in_idx):\n",
        "    batch_size, seq_len = in_idx.shape\n",
        "    print(batch_size)\n",
        "    print(seq_len)\n",
        "    tok_embeds = self.tok_emb(in_idx)\n",
        "    pos_embeds = self.pos_emb(torch.arange(seq_len, device = in_idx.device))\n",
        "    x = tok_embeds + pos_embeds\n",
        "    x = self.drop_emb(x)\n",
        "    x = self.trf_blocks(x)\n",
        "    x = self.final_norm(x)\n",
        "    logits = self.out_head(x)\n",
        "    return logits\n",
        "\n",
        "class DummyTransformerBlock(nn.Module):\n",
        "  def __init__(self,cfg):\n",
        "    super().__init__()\n",
        "\n",
        "  def forward(self,x):\n",
        "    return x\n",
        "\n",
        "class DummyLayerNorm(nn.Module):\n",
        "  def __init__(self,cfg):\n",
        "    super().__init__()\n",
        "\n",
        "  def forward(self,x):\n",
        "    return x"
      ]
    },
    {
      "cell_type": "code",
      "execution_count": 157,
      "metadata": {
        "id": "xNd-cxC0aZ2-"
      },
      "outputs": [],
      "source": [
        "class LayerNorm(nn.Module):\n",
        "  def __init__(self,emb_dim):\n",
        "    super().__init__()\n",
        "    self.eps = 1e-5\n",
        "    self.scale = nn.Parameter(torch.ones(emb_dim))\n",
        "    self.shift = nn.Parameter(torch.zeros(emb_dim))\n",
        "\n",
        "  def forward(self,x):\n",
        "    mean = x.mean(dim=-1,keepdim=True)\n",
        "    var = x.var(dim=-1, keepdim=True,unbiased=False)\n",
        "    norm_x = (x-mean)/torch.sqrt(var+self.eps) # eps added to avoid divide by zero error while normalizing\n",
        "    return self.scale * norm_x + self.shift\n",
        "\n",
        "\n",
        "class GELU(nn.Module):\n",
        "  def __init__(self):\n",
        "    super().__init__()\n",
        "\n",
        "  def forward(self,x):\n",
        "    return 0.5 * x * (1+ torch.tanh(torch.sqrt(torch.tensor(2.0/torch.pi))*\n",
        "                      (x + 0.044715 * torch.pow(x,3))))\n",
        "\n",
        "class FeedForward(nn.Module):\n",
        "  def __init__(self,cfg):\n",
        "    super().__init__()\n",
        "    self.layers = nn.Sequential(nn.Linear(cfg[\"emb_dim\"], 4 * cfg[\"emb_dim\"]),\n",
        "                                GELU(),\n",
        "                                nn.Linear(4 * cfg[\"emb_dim\"], cfg[\"emb_dim\"]))\n",
        "\n",
        "  def forward(self,x):\n",
        "    return self.layers(x)"
      ]
    },
    {
      "cell_type": "code",
      "execution_count": 158,
      "metadata": {
        "id": "0YwWSeklaeXx"
      },
      "outputs": [],
      "source": [
        "class TransformerBlock(nn.Module):\n",
        "  def __init__(self,cfg):\n",
        "    super().__init__()\n",
        "    self.attn = MultiHeadAttention(d_in = cfg[\"emb_dim\"],\n",
        "                                   d_out = cfg[\"emb_dim\"],\n",
        "                                   context_length = cfg[\"context_length\"],\n",
        "                                   num_heads = cfg[\"n_heads\"],\n",
        "                                   dropout = cfg[\"drop_rate\"],\n",
        "                                   qkv_bias = cfg[\"qkv_bias\"])\n",
        "    self.ff = FeedForward(cfg)\n",
        "    self.norm1 = LayerNorm(cfg[\"emb_dim\"])\n",
        "    self.norm2 = LayerNorm(cfg[\"emb_dim\"])\n",
        "    self.drop_shortcut = nn.Dropout(cfg[\"drop_rate\"])\n",
        "\n",
        "  def forward(self,x):\n",
        "    shortcut = x\n",
        "    x = self.norm1(x)\n",
        "    x = self.attn(x)\n",
        "    x = self.drop_shortcut(x)\n",
        "    x = shortcut + x\n",
        "\n",
        "    shortcut = x\n",
        "    x = self.norm2(x)\n",
        "    x = self.ff(x)\n",
        "    x = self.drop_shortcut(x)\n",
        "    x = shortcut + x\n",
        "    return x"
      ]
    },
    {
      "cell_type": "markdown",
      "metadata": {
        "id": "Tdv3zzoKbYR_"
      },
      "source": [
        "Entire GPT Architecture"
      ]
    },
    {
      "cell_type": "code",
      "execution_count": 159,
      "metadata": {
        "id": "CBwR5Y1ibayQ"
      },
      "outputs": [],
      "source": [
        "class GPTModel(nn.Module):\n",
        "  def __init__(self,cfg):\n",
        "    super().__init__()\n",
        "    self.tok_emb = nn.Embedding(cfg[\"vocab_size\"], cfg[\"emb_dim\"])\n",
        "    self.pos_emb = nn.Embedding(cfg[\"context_length\"], cfg[\"emb_dim\"])\n",
        "    self.drop_emb = nn.Dropout(cfg[\"drop_rate\"])\n",
        "\n",
        "    self.trf_blocks = nn.Sequential(*[TransformerBlock(cfg) for _ in range(cfg[\"n_layers\"])])\n",
        "    self.final_norm = LayerNorm(cfg[\"emb_dim\"])\n",
        "    self.out_head = nn.Linear(cfg[\"emb_dim\"], cfg[\"vocab_size\"], bias=False)\n",
        "\n",
        "  def forward(self,in_idx):\n",
        "    batch_size, seq_len = in_idx.shape\n",
        "    tok_embeds = self.tok_emb(in_idx)\n",
        "    pos_embeds = self.pos_emb(torch.arange(seq_len, device=in_idx.device))\n",
        "    x = tok_embeds + pos_embeds\n",
        "    x = self.drop_emb(x)\n",
        "    x = self.trf_blocks(x)\n",
        "    x = self.final_norm(x)\n",
        "    logits = self.out_head(x)\n",
        "    return logits\n"
      ]
    },
    {
      "cell_type": "code",
      "execution_count": 160,
      "metadata": {
        "id": "c2NZmNev9cAs",
        "colab": {
          "base_uri": "https://localhost:8080/"
        },
        "outputId": "f58b396e-0b1e-4554-988c-005f2ce9be26"
      },
      "outputs": [
        {
          "output_type": "stream",
          "name": "stdout",
          "text": [
            "tensor([[6109, 3626, 6100,  345],\n",
            "        [6109, 1110, 6622,  257]])\n",
            "Input batch:\n",
            " tensor([[6109, 3626, 6100,  345],\n",
            "        [6109, 1110, 6622,  257]])\n",
            "Output shape torch.Size([2, 4, 50257])\n",
            "tensor([[[ 0.3613,  0.4222, -0.0711,  ...,  0.3483,  0.4661, -0.2838],\n",
            "         [-0.1792, -0.5660, -0.9485,  ...,  0.0477,  0.5181, -0.3168],\n",
            "         [ 0.7120,  0.0332,  0.1085,  ...,  0.1018, -0.4327, -0.2553],\n",
            "         [-1.0076,  0.3418, -0.1190,  ...,  0.7195,  0.4023,  0.0532]],\n",
            "\n",
            "        [[-0.2564,  0.0900,  0.0335,  ...,  0.2659,  0.4454, -0.6806],\n",
            "         [ 0.1230,  0.3653, -0.2074,  ...,  0.7705,  0.2710,  0.2246],\n",
            "         [ 1.0558,  1.0318, -0.2800,  ...,  0.6936,  0.3205, -0.3178],\n",
            "         [-0.1565,  0.3926,  0.3288,  ...,  1.2630, -0.1858,  0.0388]]],\n",
            "       grad_fn=<UnsafeViewBackward0>)\n"
          ]
        }
      ],
      "source": [
        "import tiktoken\n",
        "import torch\n",
        "tokenizer = tiktoken.get_encoding(\"gpt2\")\n",
        "batch = []\n",
        "txt1 = \"Every effort moves you\"\n",
        "txt2 = \"Every day holds a\"\n",
        "batch.append(torch.tensor(tokenizer.encode(txt1)))\n",
        "batch.append(torch.tensor(tokenizer.encode(txt2)))\n",
        "batch = torch.stack(batch, dim=0)\n",
        "print(batch)\n",
        "\n",
        "torch.manual_seed(123)\n",
        "model = GPTModel(GPT_CONFIG_124M)\n",
        "out = model(batch)\n",
        "print(\"Input batch:\\n\",batch)\n",
        "print(\"Output shape\",out.shape)\n",
        "print(out)\n"
      ]
    },
    {
      "cell_type": "code",
      "execution_count": 161,
      "metadata": {
        "id": "SuzCHtvmCPnu",
        "colab": {
          "base_uri": "https://localhost:8080/"
        },
        "outputId": "00c2af8e-fd9a-4d17-997a-2d064b1ca472"
      },
      "outputs": [
        {
          "output_type": "stream",
          "name": "stdout",
          "text": [
            "Total number of parameters:163009536\n"
          ]
        }
      ],
      "source": [
        "total_params = sum(p.numel() for p in model.parameters())\n",
        "print(f\"Total number of parameters:{total_params}\")"
      ]
    },
    {
      "cell_type": "code",
      "execution_count": 162,
      "metadata": {
        "id": "-oT8MMIUCtK0",
        "colab": {
          "base_uri": "https://localhost:8080/"
        },
        "outputId": "e31778f2-acb4-4ce0-a716-db098f4a1c24"
      },
      "outputs": [
        {
          "output_type": "stream",
          "name": "stdout",
          "text": [
            "Token embedding layer shape torch.Size([50257, 768])\n",
            "Positional embedding layer shape torch.Size([1024, 768])\n",
            "Output layer shape torch.Size([50257, 768])\n"
          ]
        }
      ],
      "source": [
        "print(\"Token embedding layer shape\",model.tok_emb.weight.shape)\n",
        "print(\"Positional embedding layer shape\",model.pos_emb.weight.shape)\n",
        "print(\"Output layer shape\",model.out_head.weight.shape)"
      ]
    },
    {
      "cell_type": "code",
      "execution_count": 163,
      "metadata": {
        "id": "qie8lQ-XC8k2",
        "colab": {
          "base_uri": "https://localhost:8080/"
        },
        "outputId": "4b4c0dfe-8a49-4574-8a76-288cfe3809c5"
      },
      "outputs": [
        {
          "output_type": "stream",
          "name": "stdout",
          "text": [
            "Number of trainable parameters considering weight trying 124412160\n"
          ]
        }
      ],
      "source": [
        "total_params_gpt2 = total_params - sum(p.numel() for p in model.out_head.parameters())\n",
        "print(\"Number of trainable parameters considering weight trying\" ,total_params_gpt2)"
      ]
    },
    {
      "cell_type": "code",
      "execution_count": 164,
      "metadata": {
        "id": "vZ_LwzMbDqzy",
        "colab": {
          "base_uri": "https://localhost:8080/"
        },
        "outputId": "8edd4122-b0a6-42e3-ae5f-1356ee94dfdb"
      },
      "outputs": [
        {
          "output_type": "stream",
          "name": "stdout",
          "text": [
            "total size of the model:621.832031 MB\n"
          ]
        }
      ],
      "source": [
        "total_size_bytes = total_params * 4\n",
        "total_size_mb = total_size_bytes / (1024 * 1024)\n",
        "print(f\"total size of the model:{total_size_mb:2f} MB\")"
      ]
    },
    {
      "cell_type": "markdown",
      "metadata": {
        "id": "80WP2XcExX2a"
      },
      "source": [
        "GPT ARCHITECTURE PART 7: GENERATING TEXT FROM TOKENS"
      ]
    },
    {
      "cell_type": "code",
      "execution_count": 165,
      "metadata": {
        "id": "IsB8p5ThxfO1"
      },
      "outputs": [],
      "source": [
        "def generate_text_simple(model, idx, max_new_tokens, context_size):\n",
        "  for _ in range(max_new_tokens):\n",
        "    # Crop current context if it exceeds the supported context sixe\n",
        "    # Ex if LLM Supports only 5 tokens, and the context size is 10 , then the last 5 tokens are used as context\n",
        "    idx_cond = idx[:,-context_size:]\n",
        "\n",
        "    with torch.no_grad():\n",
        "      logits = model(idx_cond)\n",
        "    logits = logits[:,-1,:] # taking the last token predictions for each batch in logits tensor.\n",
        "    probas = torch.softmax(logits, dim=-1) # Redundant but gives additional intuition\n",
        "    idx_next = torch.argmax(probas, dim=-1, keepdim=True)\n",
        "    idx = torch.cat((idx,idx_next),dim=1)\n",
        "  return idx\n",
        "\n",
        "\n"
      ]
    },
    {
      "cell_type": "markdown",
      "metadata": {
        "id": "eghwgnBgq0OC"
      },
      "source": [
        "Sample example : \"Hello , I am\""
      ]
    },
    {
      "cell_type": "code",
      "execution_count": 165,
      "metadata": {
        "id": "VBKT2igoRQBS"
      },
      "outputs": [],
      "source": []
    },
    {
      "cell_type": "code",
      "execution_count": 166,
      "metadata": {
        "id": "IceMOC06RTrA",
        "colab": {
          "base_uri": "https://localhost:8080/"
        },
        "outputId": "a78eecf9-7cf3-441b-a5c8-aa65ef05110e"
      },
      "outputs": [
        {
          "output_type": "stream",
          "name": "stdout",
          "text": [
            "encoded: [15496, 11, 314, 716]\n",
            "encoded_tensor.shape: torch.Size([1, 4])\n"
          ]
        }
      ],
      "source": [
        "start_context = \"Hello, I am\"\n",
        "encoded = tokenizer.encode(start_context)\n",
        "print(\"encoded:\",encoded)\n",
        "encoded_tensor = torch.tensor(encoded).unsqueeze(0)\n",
        "print(\"encoded_tensor.shape:\",encoded_tensor.shape)"
      ]
    },
    {
      "cell_type": "markdown",
      "metadata": {
        "id": "dbq4a-eHRymE"
      },
      "source": [
        "Put model into eval mode as we are not training, dropout shall be disabled."
      ]
    },
    {
      "cell_type": "code",
      "execution_count": 167,
      "metadata": {
        "id": "fvQsjH-mR2zu",
        "colab": {
          "base_uri": "https://localhost:8080/"
        },
        "outputId": "79f06105-b943-4354-f8c8-03f12a2c208d"
      },
      "outputs": [
        {
          "output_type": "stream",
          "name": "stdout",
          "text": [
            "Output: tensor([[15496,    11,   314,   716, 27018, 24086, 47843, 30961, 42348,  7267]])\n",
            "Output length: 10\n"
          ]
        }
      ],
      "source": [
        "model.eval()\n",
        "out = generate_text_simple(model=model, idx=encoded_tensor,max_new_tokens=6, context_size=GPT_CONFIG_124M[\"context_length\"])\n",
        "print(\"Output:\",out)\n",
        "print(\"Output length:\",len(out[0]))"
      ]
    },
    {
      "cell_type": "markdown",
      "metadata": {
        "id": "KvPGRTIjRxov"
      },
      "source": []
    },
    {
      "cell_type": "code",
      "execution_count": 168,
      "metadata": {
        "id": "aJ0gOUB7RxSH",
        "colab": {
          "base_uri": "https://localhost:8080/"
        },
        "outputId": "99ab4bb9-1fc0-45f1-b462-c43f2edf2042"
      },
      "outputs": [
        {
          "output_type": "stream",
          "name": "stdout",
          "text": [
            "Hello, I am Featureiman Byeswickattribute argue\n"
          ]
        }
      ],
      "source": [
        "decoded_text = tokenizer.decode(out.squeeze(0).tolist())\n",
        "print(decoded_text)"
      ]
    },
    {
      "cell_type": "markdown",
      "metadata": {
        "id": "O75HbALqRPnI"
      },
      "source": [
        "LLM Loss"
      ]
    },
    {
      "cell_type": "code",
      "execution_count": 169,
      "metadata": {
        "id": "oNOJGl6_lXq0"
      },
      "outputs": [],
      "source": [
        "GPT_CONFIG_124M = {\n",
        "    \"vocab_size\":50257,    # Vocabulary size\n",
        "    \"context_length\":256, # Context length\n",
        "    \"emb_dim\":768,         # Embedding dimension\n",
        "    \"n_heads\":12,\n",
        "    \"n_layers\":12,\n",
        "    \"drop_rate\":0.1,\n",
        "    \"qkv_bias\":False\n",
        "}\n",
        "torch.manual_seed(123)\n",
        "model = GPTModel(GPT_CONFIG_124M)\n",
        "model.eval();"
      ]
    },
    {
      "cell_type": "code",
      "execution_count": 170,
      "metadata": {
        "id": "MZLPivDZllxY",
        "colab": {
          "base_uri": "https://localhost:8080/"
        },
        "outputId": "36cd03d6-03d3-4d67-dc4d-4126a79e812e"
      },
      "outputs": [
        {
          "output_type": "stream",
          "name": "stdout",
          "text": [
            "Every effort moves you rentingetic wasnم refres RexMeCHicular stren\n"
          ]
        }
      ],
      "source": [
        "import tiktoken\n",
        "\n",
        "def text_to_token_ids(text,tokenizer):\n",
        "  encoded = tokenizer.encode(text,allowed_special={'<|endoftext|>'})\n",
        "  encoded_tensor = torch.tensor(encoded).unsqueeze(0)\n",
        "  return encoded_tensor\n",
        "\n",
        "\n",
        "def token_ids_to_text(token_ids, tokenizer):\n",
        "  flat = token_ids.squeeze(0)\n",
        "  return tokenizer.decode(flat.tolist())\n",
        "\n",
        "start_context = \"Every effort moves you\"\n",
        "tokenizer = tiktoken.get_encoding(\"gpt2\")\n",
        "\n",
        "token_ids = generate_text_simple(model=model, idx = text_to_token_ids(start_context,tokenizer),max_new_tokens=10,context_size=GPT_CONFIG_124M[\"context_length\"])\n",
        "print(token_ids_to_text(token_ids,tokenizer))\n",
        "\n"
      ]
    },
    {
      "cell_type": "markdown",
      "metadata": {
        "id": "lojF8VuZnBFs"
      },
      "source": [
        "Calculating the text generation loss :cross-entropy and perplexity"
      ]
    },
    {
      "cell_type": "code",
      "execution_count": 171,
      "metadata": {
        "id": "Yqcw3Zq4nHM8"
      },
      "outputs": [],
      "source": [
        "inputs = torch.tensor([[16833,3626,6100], #[\"every effort moves,\"]\n",
        "                       [40,1107,588]])    #\"I really like\"]\n",
        "targets= torch.tensor([[3626,6100,345],  #[\"effort moves you\",]\n",
        "                       [1107,588,11311]]) #\"really like chocolate\"]"
      ]
    },
    {
      "cell_type": "code",
      "execution_count": 172,
      "metadata": {
        "id": "7JF6aRHOqQfE",
        "colab": {
          "base_uri": "https://localhost:8080/"
        },
        "outputId": "adb4c43e-b4f5-4775-dff9-70292da05c73"
      },
      "outputs": [
        {
          "output_type": "stream",
          "name": "stdout",
          "text": [
            "torch.Size([2, 3, 50257])\n",
            "tensor([[[    0.0000,     0.0000,     0.0000,  ...,     0.0000,\n",
            "              0.0000,     0.0000],\n",
            "         [    0.0000,     0.0000,     0.0000,  ...,     0.0000,\n",
            "              0.0000,     0.0000],\n",
            "         [    0.0000,     0.0000,     0.0000,  ...,     0.0000,\n",
            "              0.0000,     0.0000]],\n",
            "\n",
            "        [[    0.0000,     0.0000,     0.0000,  ...,     0.0000,\n",
            "              0.0000,     0.0000],\n",
            "         [    0.0000,     0.0000,     0.0000,  ...,     0.0000,\n",
            "              0.0000,     0.0000],\n",
            "         [    0.0000,     0.0000,     0.0000,  ...,     0.0000,\n",
            "              0.0001,     0.0000]]])\n"
          ]
        }
      ],
      "source": [
        "with torch.no_grad():\n",
        "  logits = model(inputs)\n",
        "probas = torch.softmax(logits, dim=-1)\n",
        "print(probas.shape) # batch_size, num_tokens , vocab_dimension\n",
        "print(probas)"
      ]
    },
    {
      "cell_type": "code",
      "execution_count": 173,
      "metadata": {
        "id": "A_wyA8lKrcSc",
        "colab": {
          "base_uri": "https://localhost:8080/"
        },
        "outputId": "52980f1b-68a0-40a2-fe78-3d14e322b6d3"
      },
      "outputs": [
        {
          "output_type": "stream",
          "name": "stdout",
          "text": [
            "tensor([[[16657],\n",
            "         [  339],\n",
            "         [42826]],\n",
            "\n",
            "        [[49906],\n",
            "         [29669],\n",
            "         [41751]]])\n"
          ]
        }
      ],
      "source": [
        "token_ids = torch.argmax(probas, dim=-1, keepdim=True)\n",
        "print(token_ids)"
      ]
    },
    {
      "cell_type": "code",
      "execution_count": 174,
      "metadata": {
        "id": "oRgJzDQ7r39Q",
        "colab": {
          "base_uri": "https://localhost:8080/"
        },
        "outputId": "999cc9a4-280e-4a47-9849-e07f12415d73"
      },
      "outputs": [
        {
          "output_type": "stream",
          "name": "stdout",
          "text": [
            "Targets batch1 :  effort moves you\n",
            "Targets batch2 :  really like chocolate\n",
            "Outputs batch1 :  Armed heNetflix\n",
            "Outputs batch2 :  pressuring empoweredfaith\n"
          ]
        }
      ],
      "source": [
        "print(f\"Targets batch1 : {token_ids_to_text(targets[0],tokenizer)}\")\n",
        "print(f\"Targets batch2 : {token_ids_to_text(targets[1],tokenizer)}\")\n",
        "print(f\"Outputs batch1 : {token_ids_to_text(token_ids[0].flatten(),tokenizer)}\")\n",
        "print(f\"Outputs batch2 : {token_ids_to_text(token_ids[1].flatten(),tokenizer)}\")"
      ]
    },
    {
      "cell_type": "code",
      "execution_count": 175,
      "metadata": {
        "id": "1e5H4QzR3kd7",
        "colab": {
          "base_uri": "https://localhost:8080/"
        },
        "outputId": "111dee1d-4ef5-4523-a6e4-14ded1ef9e83"
      },
      "outputs": [
        {
          "output_type": "stream",
          "name": "stdout",
          "text": [
            "Text1: tensor([    0.0001,     0.0000,     0.0000])\n",
            "Text2: tensor([    0.0000,     0.0001,     0.0000])\n"
          ]
        }
      ],
      "source": [
        "text_idx = 0\n",
        "target_probas_1 = probas[text_idx,[0,1,2],targets[text_idx]]\n",
        "print(\"Text1:\",target_probas_1)\n",
        "\n",
        "text_idx = 1\n",
        "target_probas_2 = probas[text_idx,[0,1,2],targets[text_idx]]\n",
        "print(\"Text2:\",target_probas_2)"
      ]
    },
    {
      "cell_type": "code",
      "execution_count": 176,
      "metadata": {
        "id": "DMRBgQuO43IK",
        "colab": {
          "base_uri": "https://localhost:8080/"
        },
        "outputId": "623bca8c-688e-4623-d435-6c833afd1340"
      },
      "outputs": [
        {
          "output_type": "stream",
          "name": "stdout",
          "text": [
            "tensor([ -9.5042, -10.3796, -11.3677, -11.4798,  -9.7764, -12.2561])\n"
          ]
        }
      ],
      "source": [
        "log_probas = torch.log(torch.cat((target_probas_1,target_probas_2)))\n",
        "print(log_probas)"
      ]
    },
    {
      "cell_type": "code",
      "execution_count": 177,
      "metadata": {
        "id": "doscbDit5CS3",
        "colab": {
          "base_uri": "https://localhost:8080/"
        },
        "outputId": "68de24ed-63c1-408d-dc19-77eee4bc8e4b"
      },
      "outputs": [
        {
          "output_type": "stream",
          "name": "stdout",
          "text": [
            "tensor(-10.7940)\n"
          ]
        }
      ],
      "source": [
        "avg_log_probas = torch.mean(log_probas)\n",
        "print(avg_log_probas)\n"
      ]
    },
    {
      "cell_type": "code",
      "execution_count": 178,
      "metadata": {
        "id": "l_lzbvfH5PKt",
        "colab": {
          "base_uri": "https://localhost:8080/"
        },
        "outputId": "d44774d5-2e38-451c-a20e-c3e1632f241e"
      },
      "outputs": [
        {
          "output_type": "stream",
          "name": "stdout",
          "text": [
            "tensor(10.7940)\n"
          ]
        }
      ],
      "source": [
        "neg_log_probas = avg_log_probas * -1\n",
        "print(neg_log_probas)"
      ]
    },
    {
      "cell_type": "code",
      "execution_count": 179,
      "metadata": {
        "id": "Q9tLdgRq5YZX",
        "colab": {
          "base_uri": "https://localhost:8080/"
        },
        "outputId": "18bc93b0-8f82-406b-a9c8-1bbe726b0d79"
      },
      "outputs": [
        {
          "output_type": "stream",
          "name": "stdout",
          "text": [
            "Flattened logits shape torch.Size([6, 50257])\n",
            "Flattened targets shape torch.Size([6])\n",
            "Flattened logits tensor([[ 0.1113, -0.1057, -0.3666,  ...,  0.2843, -0.8824,  0.1074],\n",
            "        [-0.6109, -0.5167, -0.7613,  ...,  0.5450, -1.0319, -0.2175],\n",
            "        [ 0.5707, -0.6459, -0.0701,  ...,  0.7419, -0.1806, -0.2217],\n",
            "        [-0.2968,  0.1949, -0.1649,  ..., -0.4867,  0.7218, -0.1714],\n",
            "        [-0.8375,  0.0612, -0.4641,  ...,  0.2327, -0.3889, -0.0770],\n",
            "        [ 0.5614,  0.6919,  0.8915,  ..., -0.9472,  1.2411, -0.2056]])\n",
            "Flattened targets tensor([ 3626,  6100,   345,  1107,   588, 11311])\n"
          ]
        }
      ],
      "source": [
        "logits_flat = logits.flatten(0,1)\n",
        "targets_flat = targets.flatten()\n",
        "\n",
        "print(\"Flattened logits shape\",logits_flat.shape)\n",
        "print(\"Flattened targets shape\",targets_flat.shape)\n",
        "print(\"Flattened logits\",logits_flat)\n",
        "print(\"Flattened targets\",targets_flat)"
      ]
    },
    {
      "cell_type": "code",
      "execution_count": 180,
      "metadata": {
        "id": "nq-_8wLx56EB",
        "colab": {
          "base_uri": "https://localhost:8080/"
        },
        "outputId": "bfc419a8-c6bf-4091-b3dd-856a8d2b16aa"
      },
      "outputs": [
        {
          "output_type": "stream",
          "name": "stdout",
          "text": [
            "tensor(10.7940)\n"
          ]
        }
      ],
      "source": [
        "loss = torch.nn.functional.cross_entropy(logits_flat, targets_flat)\n",
        "print(loss)"
      ]
    },
    {
      "cell_type": "code",
      "execution_count": 181,
      "metadata": {
        "id": "UrKy3TYrwTE1",
        "colab": {
          "base_uri": "https://localhost:8080/"
        },
        "outputId": "a45131b6-e2d2-4b4f-9a6f-d14fe185311a"
      },
      "outputs": [
        {
          "output_type": "stream",
          "name": "stdout",
          "text": [
            "I HAD always thought Jack Gisburn rather a cheap genius--though a good fellow enough--so it was no \n",
            "it for me! The Strouds stand alone, and happen once--but there's no exterminating our kind of art.\"\n"
          ]
        }
      ],
      "source": [
        "import os\n",
        "with open(\"the-verdict.txt\",\"r\",encoding=\"utf-8\") as file:\n",
        "  text_data = file.read()\n",
        "print(text_data[:99])\n",
        "print(text_data[-99:])"
      ]
    },
    {
      "cell_type": "code",
      "execution_count": 182,
      "metadata": {
        "id": "I3d6c93BwvIn",
        "colab": {
          "base_uri": "https://localhost:8080/"
        },
        "outputId": "34f880e4-5ed3-4a38-cd74-4b015e7701ed"
      },
      "outputs": [
        {
          "output_type": "stream",
          "name": "stdout",
          "text": [
            "Characters: 20479\n",
            "Tokens: 5145\n"
          ]
        }
      ],
      "source": [
        "total_characters = len(text_data)\n",
        "total_tokens = len(tokenizer.encode(text_data))\n",
        "print(\"Characters:\",total_characters)\n",
        "print(\"Tokens:\",total_tokens) # Text is very short for training an LLM but its for learning purposes only."
      ]
    },
    {
      "cell_type": "code",
      "execution_count": 183,
      "metadata": {
        "id": "rnLIc91Lw5sS"
      },
      "outputs": [],
      "source": [
        "from torch.utils.data import Dataset, DataLoader\n",
        "\n",
        "class GPTDatasetV1(Dataset):\n",
        "  def __init__(self,txt,tokenizer,max_length,stride):\n",
        "    self.input_ids = []\n",
        "    self.target_ids = []\n",
        "\n",
        "    #Tokenize the entire text\n",
        "    token_ids = tokenizer.encode(txt, allowed_special={\"<|endoftext|>\"})\n",
        "\n",
        "    for i in range(0, len(token_ids) - max_length, stride):\n",
        "      input_chunk = token_ids[i:i+max_length]\n",
        "      target_chunk = token_ids[i+1 : i+max_length+1]\n",
        "      self.input_ids.append(torch.tensor(input_chunk))\n",
        "      self.target_ids.append(torch.tensor(target_chunk))\n",
        "\n",
        "  def __len__(self):\n",
        "    return len(self.input_ids)\n",
        "\n",
        "  def __getitem__(self, idx):\n",
        "    return self.input_ids[idx], self.target_ids[idx]\n",
        "\n",
        "def create_dataloader_v1(txt,batch_size=4,max_length=256,stride=128,shuffle=True,drop_last=True,num_workers=0):\n",
        "\n",
        "  tokenizer = tiktoken.get_encoding(\"gpt2\")\n",
        "  dataset = GPTDatasetV1(txt,tokenizer,max_length,stride)\n",
        "  dataloader = DataLoader(dataset,batch_size=batch_size,shuffle=shuffle,drop_last=drop_last,num_workers=num_workers)\n",
        "  # droplast - drops last batch if the size is less, shuffle - shuffles data for better generalization.\n",
        "  return dataloader\n",
        "\n",
        "\n",
        "\n"
      ]
    },
    {
      "cell_type": "code",
      "execution_count": 184,
      "metadata": {
        "id": "l5WYhGa_zqK0"
      },
      "outputs": [],
      "source": [
        "GPT_CONFIG_124M = {\"vocab_size\":50257,\n",
        "                   \"context_length\":256,\n",
        "                   \"emb_dim\":768,\n",
        "                   \"n_heads\":12,\n",
        "                   \"n_layers\":12,\n",
        "                   \"drop_rate\":0.1,\n",
        "                   \"qkv_bias\":False}"
      ]
    },
    {
      "cell_type": "code",
      "execution_count": 185,
      "metadata": {
        "id": "nfNocG8szQiW"
      },
      "outputs": [],
      "source": [
        "#Train/Validation ratio\n",
        "\n",
        "train_ratio = 0.9\n",
        "split_idx = int(train_ratio * len(text_data))\n",
        "train_data = text_data[:split_idx]\n",
        "val_data = text_data[split_idx:]\n",
        "\n",
        "torch.manual_seed(123)\n",
        "\n",
        "train_loader = create_dataloader_v1(train_data,batch_size=2,max_length = GPT_CONFIG_124M[\"context_length\"],stride=GPT_CONFIG_124M[\"context_length\"],drop_last=True,shuffle=True,num_workers=0 )\n",
        "val_loader = create_dataloader_v1(val_data,batch_size=2,max_length = GPT_CONFIG_124M[\"context_length\"],stride=GPT_CONFIG_124M[\"context_length\"],drop_last=True,shuffle=True,num_workers=True)"
      ]
    },
    {
      "cell_type": "code",
      "execution_count": 186,
      "metadata": {
        "id": "DIc6wzbl0wng"
      },
      "outputs": [],
      "source": [
        "#Sanity check\n",
        "\n",
        "if total_tokens * (train_ratio) < GPT_CONFIG_124M[\"context_length\"]:\n",
        "  print(\"Not enough tokens for the training loader\"\n",
        "  \"Try to lower the context length or increase the training ratio\")\n",
        "\n",
        "if total_tokens * (1-train_ratio) < GPT_CONFIG_124M[\"context_length\"]:\n",
        "  print(\"Not enough tokens for the validation loader\"\n",
        "  \"Try to lower the context length or decrease the training ratio\")"
      ]
    },
    {
      "cell_type": "code",
      "execution_count": 187,
      "metadata": {
        "id": "MxPr5YpM1nSj",
        "colab": {
          "base_uri": "https://localhost:8080/"
        },
        "outputId": "b65a591f-72fc-4f3c-fc15-5d783dc85936"
      },
      "outputs": [
        {
          "output_type": "stream",
          "name": "stdout",
          "text": [
            "Train loader\n",
            "torch.Size([2, 256]) torch.Size([2, 256])\n",
            "torch.Size([2, 256]) torch.Size([2, 256])\n",
            "torch.Size([2, 256]) torch.Size([2, 256])\n",
            "torch.Size([2, 256]) torch.Size([2, 256])\n",
            "torch.Size([2, 256]) torch.Size([2, 256])\n",
            "torch.Size([2, 256]) torch.Size([2, 256])\n",
            "torch.Size([2, 256]) torch.Size([2, 256])\n",
            "torch.Size([2, 256]) torch.Size([2, 256])\n",
            "torch.Size([2, 256]) torch.Size([2, 256])\n",
            "Val loader\n",
            "torch.Size([2, 256]) torch.Size([2, 256])\n",
            "9\n"
          ]
        }
      ],
      "source": [
        "#To check data loaded correctly\n",
        "\n",
        "print(\"Train loader\")\n",
        "for x, y in train_loader:\n",
        "  print(x.shape,y.shape)\n",
        "\n",
        "print(\"Val loader\")\n",
        "for x, y in val_loader:\n",
        "  print(x.shape,y.shape)\n",
        "\n",
        "print(len(train_loader))"
      ]
    },
    {
      "cell_type": "code",
      "execution_count": 188,
      "metadata": {
        "id": "a-7cWmkG5YCG",
        "colab": {
          "base_uri": "https://localhost:8080/"
        },
        "outputId": "8d34cbb8-92f7-44ec-d389-ac2e2bb59bd3"
      },
      "outputs": [
        {
          "output_type": "stream",
          "name": "stdout",
          "text": [
            "Training tokens: 4608\n",
            "Validation tokens: 521\n",
            "All tokens: 5129\n"
          ]
        }
      ],
      "source": [
        "train_tokens = 0\n",
        "for input_batch, target_batch in train_loader:\n",
        "  train_tokens +=input_batch.numel()\n",
        "\n",
        "val_tokens = 9\n",
        "for input_batch, target_batch in val_loader:\n",
        "  val_tokens += input_batch.numel()\n",
        "\n",
        "print(\"Training tokens:\",train_tokens)\n",
        "print(\"Validation tokens:\",val_tokens)\n",
        "print(\"All tokens:\",train_tokens + val_tokens)"
      ]
    },
    {
      "cell_type": "code",
      "execution_count": 189,
      "metadata": {
        "id": "2Si0Bhn15y2L"
      },
      "outputs": [],
      "source": [
        "class GPTModel(nn.Module):\n",
        "  def __init__(self,cfg):\n",
        "    super().__init__()\n",
        "    self.tok_emb = nn.Embedding(cfg[\"vocab_size\"], cfg[\"emb_dim\"])\n",
        "    self.pos_emb = nn.Embedding(cfg[\"context_length\"], cfg[\"emb_dim\"])\n",
        "    self.drop_emb = nn.Dropout(cfg[\"drop_rate\"])\n",
        "\n",
        "    self.trf_blocks = nn.Sequential(*[TransformerBlock(cfg) for _ in range(cfg[\"n_layers\"])])\n",
        "    self.final_norm = LayerNorm(cfg[\"emb_dim\"])\n",
        "    self.out_head = nn.Linear(cfg[\"emb_dim\"], cfg[\"vocab_size\"], bias=False)\n",
        "\n",
        "  def forward(self,in_idx):\n",
        "    batch_size, seq_len = in_idx.shape\n",
        "    tok_embeds = self.tok_emb(in_idx)\n",
        "    pos_embeds = self.pos_emb(torch.arange(seq_len, device=in_idx.device))\n",
        "    x = tok_embeds + pos_embeds\n",
        "    x = self.drop_emb(x)\n",
        "    x = self.trf_blocks(x)\n",
        "    x = self.final_norm(x)\n",
        "    logits = self.out_head(x)\n",
        "    return logits\n",
        "\n",
        "torch.manual_seed(123)\n",
        "model = GPTModel(GPT_CONFIG_124M)\n",
        "model.eval(); #Disable dropout during inference"
      ]
    },
    {
      "cell_type": "code",
      "execution_count": 190,
      "metadata": {
        "id": "BYxk3UUi6Uwi"
      },
      "outputs": [],
      "source": [
        "#Implementing loss\n",
        "def calc_loss_batch(input_batch,target_batch,model,device):\n",
        "  input_batch, target_batch = input_batch.to(device), target_batch.to(device)\n",
        "  logits = model(input_batch)\n",
        "  loss = torch.nn.functional.cross_entropy(logits.flatten(0,1),target_batch.flatten())\n",
        "  return loss\n",
        "\n",
        "def calc_loss_loader(data_loader, model, device, num_batches=None):\n",
        "  total_loss = 0\n",
        "  if len(data_loader) ==0:\n",
        "    return float(\"nan\")\n",
        "  elif num_batches is None:\n",
        "    num_batches = len(data_loader)\n",
        "  else:\n",
        "    num_batches = min(num_batches,len(data_loader))\n",
        "\n",
        "  for i , (input_batch, target_batch) in enumerate(data_loader):\n",
        "    if i < num_batches:\n",
        "      loss = calc_loss_batch(input_batch,target_batch, model, device)\n",
        "      total_loss += loss.item()\n",
        "    else:\n",
        "      break\n",
        "  return total_loss/ num_batches\n"
      ]
    },
    {
      "cell_type": "code",
      "execution_count": 191,
      "metadata": {
        "id": "2dHpV4pd8KF6",
        "colab": {
          "base_uri": "https://localhost:8080/"
        },
        "outputId": "a527f207-cc6c-48aa-8c8e-5f0edb32e537"
      },
      "outputs": [
        {
          "output_type": "stream",
          "name": "stdout",
          "text": [
            "cuda\n",
            "Training loss 10.98758347829183\n",
            "Validation loss 10.98110580444336\n"
          ]
        }
      ],
      "source": [
        "device = torch.device(\"cuda\" if torch.cuda.is_available() else \"cpu\")\n",
        "print(device)\n",
        "model.to(device)\n",
        "\n",
        "with torch.no_grad():\n",
        "  train_loss = calc_loss_loader(train_loader, model, device)\n",
        "  val_loss = calc_loss_loader(val_loader,model, device)\n",
        "print(\"Training loss\",train_loss)\n",
        "print(\"Validation loss\",val_loss)"
      ]
    },
    {
      "cell_type": "markdown",
      "metadata": {
        "id": "wnS-yWySoJJ6"
      },
      "source": [
        "TRAINING LOOP FOR THE LLM"
      ]
    },
    {
      "cell_type": "code",
      "execution_count": 192,
      "metadata": {
        "id": "6UUNtlnnoIbD"
      },
      "outputs": [],
      "source": [
        "def evaluate_model(model, train_loader, val_loader, device, eval_iter):\n",
        "  model.eval()\n",
        "  with torch.no_grad():\n",
        "    train_loss = calc_loss_loader(train_loader, model, device, eval_iter)\n",
        "    val_loss = calc_loss_loader(val_loader, model, device, eval_iter)\n",
        "  model.train()\n",
        "  return train_loss, val_loss\n",
        "\n",
        "def generate_and_print_sample(model, tokenizer, device, start_context):\n",
        "  model.eval()\n",
        "  context_size = model.pos_emb.weight.shape[0]\n",
        "  encoded = text_to_token_ids(start_context,tokenizer).to(device)\n",
        "  with torch.no_grad():\n",
        "    token_ids = generate_text_simple(model=model, idx = encoded, max_new_tokens=50, context_size = context_size)\n",
        "  decoded_text = token_ids_to_text(token_ids,tokenizer)\n",
        "  print(decoded_text.replace(\"\\n\",\" \"))\n",
        "  model.train()\n",
        "\n",
        "def train_model_simple(model, train_loader, val_loader, optimizer, device, num_epochs, eval_freq, eval_iter, start_context, tokenizer):\n",
        "  train_losses, val_losses, track_tokens_seen = [],[],[]\n",
        "  tokens_seen, global_step = 0, -1\n",
        "\n",
        "  for epoch in range(num_epochs):\n",
        "    model.train()\n",
        "\n",
        "    for input_batch, target_batch in train_loader:\n",
        "      optimizer.zero_grad() # Reset loss gradients from previous batch iteration\n",
        "      loss = calc_loss_batch(input_batch, target_batch, model, device)\n",
        "      loss.backward()\n",
        "      optimizer.step()\n",
        "      tokens_seen += input_batch.numel()\n",
        "      global_step += 1\n",
        "\n",
        "\n",
        "      #Optional evaluation step\n",
        "      if global_step % eval_freq == 0:\n",
        "        train_loss, val_loss = evaluate_model(model, train_loader,val_loader, device, eval_iter)\n",
        "        train_losses.append(train_loss)\n",
        "        val_losses.append(val_loss)\n",
        "        track_tokens_seen.append(tokens_seen)\n",
        "        print(f\"Ep {epoch+1} (Step {global_step :06f}:)\"\n",
        "              f\"Train loss {train_loss:.3f}, Val loss {val_loss:.3f}\")\n",
        "    generate_and_print_sample(\n",
        "        model, tokenizer, device, start_context\n",
        "    )\n",
        "  return train_losses, val_losses, track_tokens_seen\n",
        "\n",
        "\n",
        "\n"
      ]
    },
    {
      "cell_type": "code",
      "execution_count": 193,
      "metadata": {
        "id": "0iM0SL8nsCc1",
        "colab": {
          "base_uri": "https://localhost:8080/"
        },
        "outputId": "ed71cf66-a85b-41b3-b3ee-56103ab0d6ba"
      },
      "outputs": [
        {
          "output_type": "stream",
          "name": "stdout",
          "text": [
            "Ep 1 (Step 0.000000:)Train loss 9.818, Val loss 9.930\n",
            "Ep 1 (Step 5.000000:)Train loss 7.920, Val loss 8.336\n",
            "Every effort moves you,,,,,,,,,,,,.                                     \n",
            "Ep 2 (Step 10.000000:)Train loss 6.585, Val loss 7.046\n",
            "Ep 2 (Step 15.000000:)Train loss 5.984, Val loss 6.598\n",
            "Every effort moves you, the, and, the, the, the, and, the. \", the,,, the, and, the,, the,, the, and, the, the,, the, and,,,,, the\n",
            "Ep 3 (Step 20.000000:)Train loss 15.871, Val loss 15.947\n",
            "Ep 3 (Step 25.000000:)Train loss 5.578, Val loss 6.453\n",
            "Every effort moves you. Gis. Gis. Gis. Gis. G. I had to----, and--. I had to--. I had. I had to the his--. I had the to the \", and I had.\n",
            "Ep 4 (Step 30.000000:)Train loss 5.009, Val loss 6.335\n",
            "Ep 4 (Step 35.000000:)Train loss 4.767, Val loss 6.249\n",
            "Every effort moves you, and I had been the, I had to the picture. \", I had been--I, I had been the to the of the, I had the to the, I had been, I had the picture. \", I\n",
            "Ep 5 (Step 40.000000:)Train loss 4.222, Val loss 6.236\n",
            "Every effort moves you know one of his pictures--I was his pictures--I was his last I felt to have to see it was not to have to see.                     \n",
            "Ep 6 (Step 45.000000:)Train loss 3.578, Val loss 6.211\n",
            "Ep 6 (Step 50.000000:)Train loss 3.231, Val loss 6.189\n",
            "Every effort moves you know; and my a little of the picture--I had a little of a little: \"--I looked up, I had been to the donkey, I had a little at my dear, I had a little was his pictures--I was his\n",
            "Ep 7 (Step 55.000000:)Train loss 2.823, Val loss 6.206\n",
            "Ep 7 (Step 60.000000:)Train loss 2.159, Val loss 6.181\n",
            "Every effort moves you know,\" was one of the picture for a smile that, I was one of the house.\"             He placed them at my elbow and I, the, and down the room, I was\n",
            "Ep 8 (Step 65.000000:)Train loss 1.800, Val loss 6.180\n",
            "Ep 8 (Step 70.000000:)Train loss 1.393, Val loss 6.161\n",
            "Every effort moves you?\" \"I didn't you know after him, and Mrs.  \"I was no great, one of Jack's the man of the moment--as Jack himself, one might put it, I had a--because he had the picture\n",
            "Ep 9 (Step 75.000000:)Train loss 1.165, Val loss 6.271\n",
            "Ep 9 (Step 80.000000:)Train loss 0.961, Val loss 6.323\n",
            "Every effort moves you?\" \"I that my hostess was \"interesting\": on that I was not till I can a year after Jack's resolve had been. \"--as Jack himself, as once one had longed to say: \"Be dissatisfied with your\n",
            "Ep 10 (Step 85.000000:)Train loss 0.655, Val loss 6.364\n",
            "Every effort moves you?\"  \"Yes--quite insensible to the irony. She wanted him vindicated--and by me!\"  He laughed again, the moment--as Jack himself, one might put it, had been the man of the hour. The\n",
            "Execution time: 0.56 minutes\n"
          ]
        }
      ],
      "source": [
        "import time\n",
        "start_time = time.time()\n",
        "\n",
        "torch.manual_seed(123)\n",
        "model = GPTModel(GPT_CONFIG_124M)\n",
        "model.to(device)\n",
        "optimizer = torch.optim.AdamW(model.parameters(), lr = 0.0004, weight_decay= 0.1 )\n",
        "\n",
        "num_epochs = 10\n",
        "train_losses, val_losses, tokens_seen = train_model_simple(model, train_loader, val_loader, optimizer, device, num_epochs = num_epochs, eval_freq=5, eval_iter=5,\n",
        "                                                           start_context = \"Every effort moves you\", tokenizer=tokenizer)\n",
        "end_time = time.time()\n",
        "execution_time_minutes = (end_time - start_time)/60\n",
        "print(f\"Execution time: {execution_time_minutes:.2f} minutes\")\n",
        "\n"
      ]
    },
    {
      "cell_type": "markdown",
      "metadata": {
        "id": "nIp5ux1Ty1iD"
      },
      "source": [
        "Model is overfitting as the dataset is too small."
      ]
    },
    {
      "cell_type": "code",
      "execution_count": 194,
      "metadata": {
        "id": "Zv0rXWncy9mK",
        "colab": {
          "base_uri": "https://localhost:8080/"
        },
        "outputId": "cf889f10-c22e-4d93-cf04-af30e2071c2a"
      },
      "outputs": [
        {
          "output_type": "execute_result",
          "data": {
            "text/plain": [
              "GPTModel(\n",
              "  (tok_emb): Embedding(50257, 768)\n",
              "  (pos_emb): Embedding(256, 768)\n",
              "  (drop_emb): Dropout(p=0.1, inplace=False)\n",
              "  (trf_blocks): Sequential(\n",
              "    (0): TransformerBlock(\n",
              "      (attn): MultiHeadAttention(\n",
              "        (W_query): Linear(in_features=768, out_features=768, bias=False)\n",
              "        (W_key): Linear(in_features=768, out_features=768, bias=False)\n",
              "        (W_value): Linear(in_features=768, out_features=768, bias=False)\n",
              "        (out_proj): Linear(in_features=768, out_features=768, bias=True)\n",
              "        (dropout): Dropout(p=0.1, inplace=False)\n",
              "      )\n",
              "      (ff): FeedForward(\n",
              "        (layers): Sequential(\n",
              "          (0): Linear(in_features=768, out_features=3072, bias=True)\n",
              "          (1): GELU()\n",
              "          (2): Linear(in_features=3072, out_features=768, bias=True)\n",
              "        )\n",
              "      )\n",
              "      (norm1): LayerNorm()\n",
              "      (norm2): LayerNorm()\n",
              "      (drop_shortcut): Dropout(p=0.1, inplace=False)\n",
              "    )\n",
              "    (1): TransformerBlock(\n",
              "      (attn): MultiHeadAttention(\n",
              "        (W_query): Linear(in_features=768, out_features=768, bias=False)\n",
              "        (W_key): Linear(in_features=768, out_features=768, bias=False)\n",
              "        (W_value): Linear(in_features=768, out_features=768, bias=False)\n",
              "        (out_proj): Linear(in_features=768, out_features=768, bias=True)\n",
              "        (dropout): Dropout(p=0.1, inplace=False)\n",
              "      )\n",
              "      (ff): FeedForward(\n",
              "        (layers): Sequential(\n",
              "          (0): Linear(in_features=768, out_features=3072, bias=True)\n",
              "          (1): GELU()\n",
              "          (2): Linear(in_features=3072, out_features=768, bias=True)\n",
              "        )\n",
              "      )\n",
              "      (norm1): LayerNorm()\n",
              "      (norm2): LayerNorm()\n",
              "      (drop_shortcut): Dropout(p=0.1, inplace=False)\n",
              "    )\n",
              "    (2): TransformerBlock(\n",
              "      (attn): MultiHeadAttention(\n",
              "        (W_query): Linear(in_features=768, out_features=768, bias=False)\n",
              "        (W_key): Linear(in_features=768, out_features=768, bias=False)\n",
              "        (W_value): Linear(in_features=768, out_features=768, bias=False)\n",
              "        (out_proj): Linear(in_features=768, out_features=768, bias=True)\n",
              "        (dropout): Dropout(p=0.1, inplace=False)\n",
              "      )\n",
              "      (ff): FeedForward(\n",
              "        (layers): Sequential(\n",
              "          (0): Linear(in_features=768, out_features=3072, bias=True)\n",
              "          (1): GELU()\n",
              "          (2): Linear(in_features=3072, out_features=768, bias=True)\n",
              "        )\n",
              "      )\n",
              "      (norm1): LayerNorm()\n",
              "      (norm2): LayerNorm()\n",
              "      (drop_shortcut): Dropout(p=0.1, inplace=False)\n",
              "    )\n",
              "    (3): TransformerBlock(\n",
              "      (attn): MultiHeadAttention(\n",
              "        (W_query): Linear(in_features=768, out_features=768, bias=False)\n",
              "        (W_key): Linear(in_features=768, out_features=768, bias=False)\n",
              "        (W_value): Linear(in_features=768, out_features=768, bias=False)\n",
              "        (out_proj): Linear(in_features=768, out_features=768, bias=True)\n",
              "        (dropout): Dropout(p=0.1, inplace=False)\n",
              "      )\n",
              "      (ff): FeedForward(\n",
              "        (layers): Sequential(\n",
              "          (0): Linear(in_features=768, out_features=3072, bias=True)\n",
              "          (1): GELU()\n",
              "          (2): Linear(in_features=3072, out_features=768, bias=True)\n",
              "        )\n",
              "      )\n",
              "      (norm1): LayerNorm()\n",
              "      (norm2): LayerNorm()\n",
              "      (drop_shortcut): Dropout(p=0.1, inplace=False)\n",
              "    )\n",
              "    (4): TransformerBlock(\n",
              "      (attn): MultiHeadAttention(\n",
              "        (W_query): Linear(in_features=768, out_features=768, bias=False)\n",
              "        (W_key): Linear(in_features=768, out_features=768, bias=False)\n",
              "        (W_value): Linear(in_features=768, out_features=768, bias=False)\n",
              "        (out_proj): Linear(in_features=768, out_features=768, bias=True)\n",
              "        (dropout): Dropout(p=0.1, inplace=False)\n",
              "      )\n",
              "      (ff): FeedForward(\n",
              "        (layers): Sequential(\n",
              "          (0): Linear(in_features=768, out_features=3072, bias=True)\n",
              "          (1): GELU()\n",
              "          (2): Linear(in_features=3072, out_features=768, bias=True)\n",
              "        )\n",
              "      )\n",
              "      (norm1): LayerNorm()\n",
              "      (norm2): LayerNorm()\n",
              "      (drop_shortcut): Dropout(p=0.1, inplace=False)\n",
              "    )\n",
              "    (5): TransformerBlock(\n",
              "      (attn): MultiHeadAttention(\n",
              "        (W_query): Linear(in_features=768, out_features=768, bias=False)\n",
              "        (W_key): Linear(in_features=768, out_features=768, bias=False)\n",
              "        (W_value): Linear(in_features=768, out_features=768, bias=False)\n",
              "        (out_proj): Linear(in_features=768, out_features=768, bias=True)\n",
              "        (dropout): Dropout(p=0.1, inplace=False)\n",
              "      )\n",
              "      (ff): FeedForward(\n",
              "        (layers): Sequential(\n",
              "          (0): Linear(in_features=768, out_features=3072, bias=True)\n",
              "          (1): GELU()\n",
              "          (2): Linear(in_features=3072, out_features=768, bias=True)\n",
              "        )\n",
              "      )\n",
              "      (norm1): LayerNorm()\n",
              "      (norm2): LayerNorm()\n",
              "      (drop_shortcut): Dropout(p=0.1, inplace=False)\n",
              "    )\n",
              "    (6): TransformerBlock(\n",
              "      (attn): MultiHeadAttention(\n",
              "        (W_query): Linear(in_features=768, out_features=768, bias=False)\n",
              "        (W_key): Linear(in_features=768, out_features=768, bias=False)\n",
              "        (W_value): Linear(in_features=768, out_features=768, bias=False)\n",
              "        (out_proj): Linear(in_features=768, out_features=768, bias=True)\n",
              "        (dropout): Dropout(p=0.1, inplace=False)\n",
              "      )\n",
              "      (ff): FeedForward(\n",
              "        (layers): Sequential(\n",
              "          (0): Linear(in_features=768, out_features=3072, bias=True)\n",
              "          (1): GELU()\n",
              "          (2): Linear(in_features=3072, out_features=768, bias=True)\n",
              "        )\n",
              "      )\n",
              "      (norm1): LayerNorm()\n",
              "      (norm2): LayerNorm()\n",
              "      (drop_shortcut): Dropout(p=0.1, inplace=False)\n",
              "    )\n",
              "    (7): TransformerBlock(\n",
              "      (attn): MultiHeadAttention(\n",
              "        (W_query): Linear(in_features=768, out_features=768, bias=False)\n",
              "        (W_key): Linear(in_features=768, out_features=768, bias=False)\n",
              "        (W_value): Linear(in_features=768, out_features=768, bias=False)\n",
              "        (out_proj): Linear(in_features=768, out_features=768, bias=True)\n",
              "        (dropout): Dropout(p=0.1, inplace=False)\n",
              "      )\n",
              "      (ff): FeedForward(\n",
              "        (layers): Sequential(\n",
              "          (0): Linear(in_features=768, out_features=3072, bias=True)\n",
              "          (1): GELU()\n",
              "          (2): Linear(in_features=3072, out_features=768, bias=True)\n",
              "        )\n",
              "      )\n",
              "      (norm1): LayerNorm()\n",
              "      (norm2): LayerNorm()\n",
              "      (drop_shortcut): Dropout(p=0.1, inplace=False)\n",
              "    )\n",
              "    (8): TransformerBlock(\n",
              "      (attn): MultiHeadAttention(\n",
              "        (W_query): Linear(in_features=768, out_features=768, bias=False)\n",
              "        (W_key): Linear(in_features=768, out_features=768, bias=False)\n",
              "        (W_value): Linear(in_features=768, out_features=768, bias=False)\n",
              "        (out_proj): Linear(in_features=768, out_features=768, bias=True)\n",
              "        (dropout): Dropout(p=0.1, inplace=False)\n",
              "      )\n",
              "      (ff): FeedForward(\n",
              "        (layers): Sequential(\n",
              "          (0): Linear(in_features=768, out_features=3072, bias=True)\n",
              "          (1): GELU()\n",
              "          (2): Linear(in_features=3072, out_features=768, bias=True)\n",
              "        )\n",
              "      )\n",
              "      (norm1): LayerNorm()\n",
              "      (norm2): LayerNorm()\n",
              "      (drop_shortcut): Dropout(p=0.1, inplace=False)\n",
              "    )\n",
              "    (9): TransformerBlock(\n",
              "      (attn): MultiHeadAttention(\n",
              "        (W_query): Linear(in_features=768, out_features=768, bias=False)\n",
              "        (W_key): Linear(in_features=768, out_features=768, bias=False)\n",
              "        (W_value): Linear(in_features=768, out_features=768, bias=False)\n",
              "        (out_proj): Linear(in_features=768, out_features=768, bias=True)\n",
              "        (dropout): Dropout(p=0.1, inplace=False)\n",
              "      )\n",
              "      (ff): FeedForward(\n",
              "        (layers): Sequential(\n",
              "          (0): Linear(in_features=768, out_features=3072, bias=True)\n",
              "          (1): GELU()\n",
              "          (2): Linear(in_features=3072, out_features=768, bias=True)\n",
              "        )\n",
              "      )\n",
              "      (norm1): LayerNorm()\n",
              "      (norm2): LayerNorm()\n",
              "      (drop_shortcut): Dropout(p=0.1, inplace=False)\n",
              "    )\n",
              "    (10): TransformerBlock(\n",
              "      (attn): MultiHeadAttention(\n",
              "        (W_query): Linear(in_features=768, out_features=768, bias=False)\n",
              "        (W_key): Linear(in_features=768, out_features=768, bias=False)\n",
              "        (W_value): Linear(in_features=768, out_features=768, bias=False)\n",
              "        (out_proj): Linear(in_features=768, out_features=768, bias=True)\n",
              "        (dropout): Dropout(p=0.1, inplace=False)\n",
              "      )\n",
              "      (ff): FeedForward(\n",
              "        (layers): Sequential(\n",
              "          (0): Linear(in_features=768, out_features=3072, bias=True)\n",
              "          (1): GELU()\n",
              "          (2): Linear(in_features=3072, out_features=768, bias=True)\n",
              "        )\n",
              "      )\n",
              "      (norm1): LayerNorm()\n",
              "      (norm2): LayerNorm()\n",
              "      (drop_shortcut): Dropout(p=0.1, inplace=False)\n",
              "    )\n",
              "    (11): TransformerBlock(\n",
              "      (attn): MultiHeadAttention(\n",
              "        (W_query): Linear(in_features=768, out_features=768, bias=False)\n",
              "        (W_key): Linear(in_features=768, out_features=768, bias=False)\n",
              "        (W_value): Linear(in_features=768, out_features=768, bias=False)\n",
              "        (out_proj): Linear(in_features=768, out_features=768, bias=True)\n",
              "        (dropout): Dropout(p=0.1, inplace=False)\n",
              "      )\n",
              "      (ff): FeedForward(\n",
              "        (layers): Sequential(\n",
              "          (0): Linear(in_features=768, out_features=3072, bias=True)\n",
              "          (1): GELU()\n",
              "          (2): Linear(in_features=3072, out_features=768, bias=True)\n",
              "        )\n",
              "      )\n",
              "      (norm1): LayerNorm()\n",
              "      (norm2): LayerNorm()\n",
              "      (drop_shortcut): Dropout(p=0.1, inplace=False)\n",
              "    )\n",
              "  )\n",
              "  (final_norm): LayerNorm()\n",
              "  (out_head): Linear(in_features=768, out_features=50257, bias=False)\n",
              ")"
            ]
          },
          "metadata": {},
          "execution_count": 194
        }
      ],
      "source": [
        "model.to(\"cpu\")\n",
        "model.eval()"
      ]
    },
    {
      "cell_type": "code",
      "execution_count": 195,
      "metadata": {
        "id": "oiyvxpAqwFeL",
        "colab": {
          "base_uri": "https://localhost:8080/"
        },
        "outputId": "dfe1a3f9-cf80-4881-ee93-40b53bd02a56"
      },
      "outputs": [
        {
          "output_type": "stream",
          "name": "stdout",
          "text": [
            "Output text:\n",
            " Every effort moves you?\"\n",
            "\n",
            "\"Yes--quite insensible to the irony. She wanted him vindicated--and by me!\"\n",
            "\n",
            "\n"
          ]
        }
      ],
      "source": [
        "tokenizer = tiktoken.get_encoding(\"gpt2\")\n",
        "\n",
        "token_ids = generate_text_simple(\n",
        "    model=model,\n",
        "    idx=text_to_token_ids(\"Every effort moves you\", tokenizer),\n",
        "    max_new_tokens=25,\n",
        "    context_size=GPT_CONFIG_124M[\"context_length\"]\n",
        ")\n",
        "\n",
        "print(\"Output text:\\n\", token_ids_to_text(token_ids, tokenizer))"
      ]
    },
    {
      "cell_type": "markdown",
      "metadata": {
        "id": "xo8lqxFowWxf"
      },
      "source": [
        "DECODING STRATEGY : TEMPERATURE SCALING"
      ]
    },
    {
      "cell_type": "code",
      "execution_count": 196,
      "metadata": {
        "id": "Tmf6_D-EwZle"
      },
      "outputs": [],
      "source": [
        "vocab = {\"closer\":0,\n",
        "         \"every\":1,\n",
        "         \"effort\":2,\n",
        "         \"forward\":3,\n",
        "         \"inches\":4,\n",
        "         \"moves\":5,\n",
        "         \"pizza\":6,\n",
        "         \"toward\":7,\n",
        "         \"you\":8}\n",
        "\n",
        "inverse_vocab = {v:k for k,v in vocab.items()}\n"
      ]
    },
    {
      "cell_type": "code",
      "execution_count": 197,
      "metadata": {
        "id": "AFAtHSsyxBvx",
        "colab": {
          "base_uri": "https://localhost:8080/"
        },
        "outputId": "103ac0fe-136f-403e-832d-30847df4dc3d"
      },
      "outputs": [
        {
          "output_type": "stream",
          "name": "stdout",
          "text": [
            "tensor([    0.0609,     0.0016,     0.0001,     0.5721,     0.0034,     0.0001,\n",
            "            0.0001,     0.3576,     0.0040])\n",
            "forward\n"
          ]
        }
      ],
      "source": [
        "# Assume input isn \"every effort moves you\" and generates the following as next token logits.\n",
        "\n",
        "next_token_logits = torch.tensor([4.51,0.89,-1.90,6.75,1.63,-1.62,-1.89,6.28,1.79])\n",
        "probas = torch.softmax(next_token_logits,dim=0)\n",
        "print(probas)\n",
        "next_token_id = torch.argmax(probas).item()\n",
        "print(inverse_vocab[next_token_id])"
      ]
    },
    {
      "cell_type": "code",
      "execution_count": 198,
      "metadata": {
        "id": "9LcXWnJDPsJh",
        "colab": {
          "base_uri": "https://localhost:8080/"
        },
        "outputId": "7b93fd36-0c7d-4934-83ea-ccf0d04cdcf8"
      },
      "outputs": [
        {
          "output_type": "stream",
          "name": "stdout",
          "text": [
            "forward\n"
          ]
        }
      ],
      "source": [
        "torch.manual_seed(123)\n",
        "new_token_id = torch.multinomial(probas, num_samples=1).item()\n",
        "print(inverse_vocab[next_token_id])"
      ]
    },
    {
      "cell_type": "code",
      "execution_count": 199,
      "metadata": {
        "id": "YBsFxr3TQRdc",
        "colab": {
          "base_uri": "https://localhost:8080/"
        },
        "outputId": "a53a910a-45b1-4ba8-b5fc-54c2e1c62f3d"
      },
      "outputs": [
        {
          "output_type": "stream",
          "name": "stdout",
          "text": [
            "73 * closer\n",
            "0 * every\n",
            "0 * effort\n",
            "582 * forward\n",
            "2 * inches\n",
            "0 * moves\n",
            "0 * pizza\n",
            "343 * toward\n"
          ]
        }
      ],
      "source": [
        "def print_sampled_tokens(probas):\n",
        "  torch.manual_seed(123)\n",
        "  sample = [torch.multinomial(probas,num_samples=1).item() for i in range(1000)]\n",
        "  sampled_ids = torch.bincount(torch.tensor(sample))\n",
        "  for i , freq in enumerate(sampled_ids):\n",
        "    print(f\"{freq} * {inverse_vocab[i]}\")\n",
        "print_sampled_tokens(probas)\n"
      ]
    },
    {
      "cell_type": "code",
      "execution_count": 200,
      "metadata": {
        "id": "tapAvbyrRfox"
      },
      "outputs": [],
      "source": [
        "def softmax_with_temperature(logits,temperature):\n",
        "  scaled_logits = logits/temperature\n",
        "  return torch.softmax(scaled_logits, dim=0)\n",
        "\n",
        "temperatures = [1, 0.1, 5]\n",
        "scaled_probas = [ softmax_with_temperature(next_token_logits,T) for T in temperatures]\n"
      ]
    },
    {
      "cell_type": "code",
      "execution_count": 201,
      "metadata": {
        "id": "mRVb8rAjVGCk",
        "colab": {
          "base_uri": "https://localhost:8080/",
          "height": 307
        },
        "outputId": "321acd1a-63c6-4a72-9a8e-f7f29faf5d00"
      },
      "outputs": [
        {
          "output_type": "display_data",
          "data": {
            "text/plain": [
              "<Figure size 500x300 with 1 Axes>"
            ],
            "image/png": "[encoded data removed]"
          },
          "metadata": {}
        }
      ],
      "source": [
        "# Plotting\n",
        "x = torch.arange(len(vocab))\n",
        "bar_width = 0.15\n",
        "\n",
        "fig, ax = plt.subplots(figsize=(5, 3))\n",
        "for i, T in enumerate(temperatures):\n",
        "    rects = ax.bar(x + i * bar_width, scaled_probas[i], bar_width, label=f'Temperature = {T}')\n",
        "\n",
        "ax.set_ylabel('Probability')\n",
        "ax.set_xticks(x)\n",
        "ax.set_xticklabels(vocab.keys(), rotation=90)\n",
        "ax.legend()\n",
        "\n",
        "plt.tight_layout()\n",
        "plt.savefig(\"temperature-plot.pdf\")\n",
        "plt.show()"
      ]
    },
    {
      "cell_type": "markdown",
      "metadata": {
        "id": "5ai5vE2UWU4k"
      },
      "source": [
        "![Screenshot 2025-09-21 101723.png](data:image/png;base64,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)"
      ]
    },
    {
      "cell_type": "code",
      "execution_count": 202,
      "metadata": {
        "id": "jKD3A25RWT6L"
      },
      "outputs": [],
      "source": [
        "next_token_logits = torch.tensor([4.51,0.89,-1.90,6.75,1.63,-1.62,-1.89,6.28,1.79])"
      ]
    },
    {
      "cell_type": "code",
      "execution_count": 203,
      "metadata": {
        "id": "zdZSMxM1gdUq",
        "colab": {
          "base_uri": "https://localhost:8080/"
        },
        "outputId": "dcb53046-aff9-42f5-e2e0-e96d405f156c"
      },
      "outputs": [
        {
          "output_type": "stream",
          "name": "stdout",
          "text": [
            "Top logits tensor([6.7500, 6.2800, 4.5100])\n",
            "Top positions tensor([3, 7, 0])\n"
          ]
        }
      ],
      "source": [
        "top_k = 3\n",
        "top_logits, top_pos = torch.topk(next_token_logits,top_k)\n",
        "print(\"Top logits\",top_logits)\n",
        "print(\"Top positions\",top_pos)"
      ]
    },
    {
      "cell_type": "code",
      "execution_count": 204,
      "metadata": {
        "id": "PkQQWFcDg6Kk",
        "colab": {
          "base_uri": "https://localhost:8080/"
        },
        "outputId": "3e8ee1e6-4cdc-4a19-8714-7e92ac0a924d"
      },
      "outputs": [
        {
          "output_type": "stream",
          "name": "stdout",
          "text": [
            "tensor([4.5100,   -inf,   -inf, 6.7500,   -inf,   -inf,   -inf, 6.2800,   -inf])\n"
          ]
        }
      ],
      "source": [
        "new_logits = torch.where(condition= next_token_logits < top_logits[-1],\n",
        "                         input = torch.tensor(float('-inf')),\n",
        "                         other = next_token_logits)\n",
        "print(new_logits)"
      ]
    },
    {
      "cell_type": "code",
      "execution_count": 205,
      "metadata": {
        "id": "wyWDHm5nhH7N",
        "colab": {
          "base_uri": "https://localhost:8080/"
        },
        "outputId": "58dafae5-6624-40dd-ab27-847aa9beb0d6"
      },
      "outputs": [
        {
          "output_type": "stream",
          "name": "stdout",
          "text": [
            "tensor([0.0615, 0.0000, 0.0000, 0.5775, 0.0000, 0.0000, 0.0000, 0.3610, 0.0000])\n"
          ]
        }
      ],
      "source": [
        "topk_probas = torch.softmax(new_logits, dim=0)\n",
        "print(topk_probas)"
      ]
    },
    {
      "cell_type": "markdown",
      "metadata": {
        "id": "s-uuhNmyiCjO"
      },
      "source": [
        "TOPK SAMPLING + TEMPERATURE SCALING"
      ]
    },
    {
      "cell_type": "code",
      "execution_count": 206,
      "metadata": {
        "id": "iPGMoT72mOE4"
      },
      "outputs": [],
      "source": [
        "def generate(model, idx, max_new_tokens, context_size, temperature=0.0, top_k=None, eos_id=None):\n",
        "\n",
        "    # For-loop is the same as before: Get logits, and only focus on last time step\n",
        "    for _ in range(max_new_tokens):\n",
        "        idx_cond = idx[:, -context_size:]\n",
        "        with torch.no_grad():\n",
        "            logits = model(idx_cond)\n",
        "        logits = logits[:, -1, :]\n",
        "\n",
        "        # New: Filter logits with top_k sampling\n",
        "        if top_k is not None:\n",
        "            # Keep only top_k values\n",
        "            top_logits, _ = torch.topk(logits, top_k)\n",
        "            min_val = top_logits[:, -1]\n",
        "            logits = torch.where(logits < min_val, torch.tensor(float(\"-inf\")).to(logits.device), logits)\n",
        "\n",
        "        # New: Apply temperature scaling\n",
        "        if temperature > 0.0:\n",
        "            logits = logits / temperature\n",
        "\n",
        "            # Apply softmax to get probabilities\n",
        "            probs = torch.softmax(logits, dim=-1)  # (batch_size, context_len)\n",
        "\n",
        "            # Sample from the distribution\n",
        "            idx_next = torch.multinomial(probs, num_samples=1)  # (batch_size, 1)\n",
        "\n",
        "        # Otherwise same as before: get idx of the vocab entry with the highest logits value\n",
        "        else:\n",
        "            idx_next = torch.argmax(logits, dim=-1, keepdim=True)  # (batch_size, 1)\n",
        "\n",
        "        if idx_next == eos_id:  # Stop generating early if end-of-sequence token is encountered and eos_id is specified\n",
        "            break\n",
        "\n",
        "        # Same as before: append sampled index to the running sequence\n",
        "        idx = torch.cat((idx, idx_next), dim=1)  # (batch_size, num_tokens+1)\n",
        "\n",
        "    return idx"
      ]
    },
    {
      "cell_type": "code",
      "execution_count": 207,
      "metadata": {
        "id": "6MHfwFsBk3Nb",
        "colab": {
          "base_uri": "https://localhost:8080/"
        },
        "outputId": "d527be20-61ac-4643-f4b8-068db94cc600"
      },
      "outputs": [
        {
          "output_type": "stream",
          "name": "stdout",
          "text": [
            "Output text:\n",
            " Every effort moves you?\"\n",
            "\n",
            "\" surprise, a--because he knew me by his knees\n"
          ]
        }
      ],
      "source": [
        "torch.manual_seed(123)\n",
        "\n",
        "token_ids = generate(model=model,\n",
        "                     idx = text_to_token_ids(\"Every effort moves you\",tokenizer),\n",
        "                     max_new_tokens=15,\n",
        "                     context_size = GPT_CONFIG_124M[\"context_length\"],\n",
        "                     top_k = 25,\n",
        "                     temperature=1.4)\n",
        "\n",
        "print(\"Output text:\\n\",token_ids_to_text(token_ids,tokenizer))"
      ]
    },
    {
      "cell_type": "markdown",
      "metadata": {
        "id": "bXp3nDBTLkI2"
      },
      "source": [
        "LOADING AND SAVING MODEL WEIGHTS IN PYTORCH"
      ]
    },
    {
      "cell_type": "code",
      "execution_count": 208,
      "metadata": {
        "id": "esbWN6HMLiho"
      },
      "outputs": [],
      "source": [
        "model = GPTModel(GPT_CONFIG_124M)\n",
        "torch.save(model.state_dict(),'model.pth')"
      ]
    },
    {
      "cell_type": "markdown",
      "metadata": {
        "id": "THOaMiVCMDg9"
      },
      "source": [
        "LOADING THE MODEL into a new GPT Model"
      ]
    },
    {
      "cell_type": "code",
      "execution_count": 209,
      "metadata": {
        "id": "ef-YKA6PMDLf",
        "colab": {
          "base_uri": "https://localhost:8080/"
        },
        "outputId": "c41fc85d-a9a2-4879-c146-094fdcbbdbc2"
      },
      "outputs": [
        {
          "output_type": "execute_result",
          "data": {
            "text/plain": [
              "GPTModel(\n",
              "  (tok_emb): Embedding(50257, 768)\n",
              "  (pos_emb): Embedding(256, 768)\n",
              "  (drop_emb): Dropout(p=0.1, inplace=False)\n",
              "  (trf_blocks): Sequential(\n",
              "    (0): TransformerBlock(\n",
              "      (attn): MultiHeadAttention(\n",
              "        (W_query): Linear(in_features=768, out_features=768, bias=False)\n",
              "        (W_key): Linear(in_features=768, out_features=768, bias=False)\n",
              "        (W_value): Linear(in_features=768, out_features=768, bias=False)\n",
              "        (out_proj): Linear(in_features=768, out_features=768, bias=True)\n",
              "        (dropout): Dropout(p=0.1, inplace=False)\n",
              "      )\n",
              "      (ff): FeedForward(\n",
              "        (layers): Sequential(\n",
              "          (0): Linear(in_features=768, out_features=3072, bias=True)\n",
              "          (1): GELU()\n",
              "          (2): Linear(in_features=3072, out_features=768, bias=True)\n",
              "        )\n",
              "      )\n",
              "      (norm1): LayerNorm()\n",
              "      (norm2): LayerNorm()\n",
              "      (drop_shortcut): Dropout(p=0.1, inplace=False)\n",
              "    )\n",
              "    (1): TransformerBlock(\n",
              "      (attn): MultiHeadAttention(\n",
              "        (W_query): Linear(in_features=768, out_features=768, bias=False)\n",
              "        (W_key): Linear(in_features=768, out_features=768, bias=False)\n",
              "        (W_value): Linear(in_features=768, out_features=768, bias=False)\n",
              "        (out_proj): Linear(in_features=768, out_features=768, bias=True)\n",
              "        (dropout): Dropout(p=0.1, inplace=False)\n",
              "      )\n",
              "      (ff): FeedForward(\n",
              "        (layers): Sequential(\n",
              "          (0): Linear(in_features=768, out_features=3072, bias=True)\n",
              "          (1): GELU()\n",
              "          (2): Linear(in_features=3072, out_features=768, bias=True)\n",
              "        )\n",
              "      )\n",
              "      (norm1): LayerNorm()\n",
              "      (norm2): LayerNorm()\n",
              "      (drop_shortcut): Dropout(p=0.1, inplace=False)\n",
              "    )\n",
              "    (2): TransformerBlock(\n",
              "      (attn): MultiHeadAttention(\n",
              "        (W_query): Linear(in_features=768, out_features=768, bias=False)\n",
              "        (W_key): Linear(in_features=768, out_features=768, bias=False)\n",
              "        (W_value): Linear(in_features=768, out_features=768, bias=False)\n",
              "        (out_proj): Linear(in_features=768, out_features=768, bias=True)\n",
              "        (dropout): Dropout(p=0.1, inplace=False)\n",
              "      )\n",
              "      (ff): FeedForward(\n",
              "        (layers): Sequential(\n",
              "          (0): Linear(in_features=768, out_features=3072, bias=True)\n",
              "          (1): GELU()\n",
              "          (2): Linear(in_features=3072, out_features=768, bias=True)\n",
              "        )\n",
              "      )\n",
              "      (norm1): LayerNorm()\n",
              "      (norm2): LayerNorm()\n",
              "      (drop_shortcut): Dropout(p=0.1, inplace=False)\n",
              "    )\n",
              "    (3): TransformerBlock(\n",
              "      (attn): MultiHeadAttention(\n",
              "        (W_query): Linear(in_features=768, out_features=768, bias=False)\n",
              "        (W_key): Linear(in_features=768, out_features=768, bias=False)\n",
              "        (W_value): Linear(in_features=768, out_features=768, bias=False)\n",
              "        (out_proj): Linear(in_features=768, out_features=768, bias=True)\n",
              "        (dropout): Dropout(p=0.1, inplace=False)\n",
              "      )\n",
              "      (ff): FeedForward(\n",
              "        (layers): Sequential(\n",
              "          (0): Linear(in_features=768, out_features=3072, bias=True)\n",
              "          (1): GELU()\n",
              "          (2): Linear(in_features=3072, out_features=768, bias=True)\n",
              "        )\n",
              "      )\n",
              "      (norm1): LayerNorm()\n",
              "      (norm2): LayerNorm()\n",
              "      (drop_shortcut): Dropout(p=0.1, inplace=False)\n",
              "    )\n",
              "    (4): TransformerBlock(\n",
              "      (attn): MultiHeadAttention(\n",
              "        (W_query): Linear(in_features=768, out_features=768, bias=False)\n",
              "        (W_key): Linear(in_features=768, out_features=768, bias=False)\n",
              "        (W_value): Linear(in_features=768, out_features=768, bias=False)\n",
              "        (out_proj): Linear(in_features=768, out_features=768, bias=True)\n",
              "        (dropout): Dropout(p=0.1, inplace=False)\n",
              "      )\n",
              "      (ff): FeedForward(\n",
              "        (layers): Sequential(\n",
              "          (0): Linear(in_features=768, out_features=3072, bias=True)\n",
              "          (1): GELU()\n",
              "          (2): Linear(in_features=3072, out_features=768, bias=True)\n",
              "        )\n",
              "      )\n",
              "      (norm1): LayerNorm()\n",
              "      (norm2): LayerNorm()\n",
              "      (drop_shortcut): Dropout(p=0.1, inplace=False)\n",
              "    )\n",
              "    (5): TransformerBlock(\n",
              "      (attn): MultiHeadAttention(\n",
              "        (W_query): Linear(in_features=768, out_features=768, bias=False)\n",
              "        (W_key): Linear(in_features=768, out_features=768, bias=False)\n",
              "        (W_value): Linear(in_features=768, out_features=768, bias=False)\n",
              "        (out_proj): Linear(in_features=768, out_features=768, bias=True)\n",
              "        (dropout): Dropout(p=0.1, inplace=False)\n",
              "      )\n",
              "      (ff): FeedForward(\n",
              "        (layers): Sequential(\n",
              "          (0): Linear(in_features=768, out_features=3072, bias=True)\n",
              "          (1): GELU()\n",
              "          (2): Linear(in_features=3072, out_features=768, bias=True)\n",
              "        )\n",
              "      )\n",
              "      (norm1): LayerNorm()\n",
              "      (norm2): LayerNorm()\n",
              "      (drop_shortcut): Dropout(p=0.1, inplace=False)\n",
              "    )\n",
              "    (6): TransformerBlock(\n",
              "      (attn): MultiHeadAttention(\n",
              "        (W_query): Linear(in_features=768, out_features=768, bias=False)\n",
              "        (W_key): Linear(in_features=768, out_features=768, bias=False)\n",
              "        (W_value): Linear(in_features=768, out_features=768, bias=False)\n",
              "        (out_proj): Linear(in_features=768, out_features=768, bias=True)\n",
              "        (dropout): Dropout(p=0.1, inplace=False)\n",
              "      )\n",
              "      (ff): FeedForward(\n",
              "        (layers): Sequential(\n",
              "          (0): Linear(in_features=768, out_features=3072, bias=True)\n",
              "          (1): GELU()\n",
              "          (2): Linear(in_features=3072, out_features=768, bias=True)\n",
              "        )\n",
              "      )\n",
              "      (norm1): LayerNorm()\n",
              "      (norm2): LayerNorm()\n",
              "      (drop_shortcut): Dropout(p=0.1, inplace=False)\n",
              "    )\n",
              "    (7): TransformerBlock(\n",
              "      (attn): MultiHeadAttention(\n",
              "        (W_query): Linear(in_features=768, out_features=768, bias=False)\n",
              "        (W_key): Linear(in_features=768, out_features=768, bias=False)\n",
              "        (W_value): Linear(in_features=768, out_features=768, bias=False)\n",
              "        (out_proj): Linear(in_features=768, out_features=768, bias=True)\n",
              "        (dropout): Dropout(p=0.1, inplace=False)\n",
              "      )\n",
              "      (ff): FeedForward(\n",
              "        (layers): Sequential(\n",
              "          (0): Linear(in_features=768, out_features=3072, bias=True)\n",
              "          (1): GELU()\n",
              "          (2): Linear(in_features=3072, out_features=768, bias=True)\n",
              "        )\n",
              "      )\n",
              "      (norm1): LayerNorm()\n",
              "      (norm2): LayerNorm()\n",
              "      (drop_shortcut): Dropout(p=0.1, inplace=False)\n",
              "    )\n",
              "    (8): TransformerBlock(\n",
              "      (attn): MultiHeadAttention(\n",
              "        (W_query): Linear(in_features=768, out_features=768, bias=False)\n",
              "        (W_key): Linear(in_features=768, out_features=768, bias=False)\n",
              "        (W_value): Linear(in_features=768, out_features=768, bias=False)\n",
              "        (out_proj): Linear(in_features=768, out_features=768, bias=True)\n",
              "        (dropout): Dropout(p=0.1, inplace=False)\n",
              "      )\n",
              "      (ff): FeedForward(\n",
              "        (layers): Sequential(\n",
              "          (0): Linear(in_features=768, out_features=3072, bias=True)\n",
              "          (1): GELU()\n",
              "          (2): Linear(in_features=3072, out_features=768, bias=True)\n",
              "        )\n",
              "      )\n",
              "      (norm1): LayerNorm()\n",
              "      (norm2): LayerNorm()\n",
              "      (drop_shortcut): Dropout(p=0.1, inplace=False)\n",
              "    )\n",
              "    (9): TransformerBlock(\n",
              "      (attn): MultiHeadAttention(\n",
              "        (W_query): Linear(in_features=768, out_features=768, bias=False)\n",
              "        (W_key): Linear(in_features=768, out_features=768, bias=False)\n",
              "        (W_value): Linear(in_features=768, out_features=768, bias=False)\n",
              "        (out_proj): Linear(in_features=768, out_features=768, bias=True)\n",
              "        (dropout): Dropout(p=0.1, inplace=False)\n",
              "      )\n",
              "      (ff): FeedForward(\n",
              "        (layers): Sequential(\n",
              "          (0): Linear(in_features=768, out_features=3072, bias=True)\n",
              "          (1): GELU()\n",
              "          (2): Linear(in_features=3072, out_features=768, bias=True)\n",
              "        )\n",
              "      )\n",
              "      (norm1): LayerNorm()\n",
              "      (norm2): LayerNorm()\n",
              "      (drop_shortcut): Dropout(p=0.1, inplace=False)\n",
              "    )\n",
              "    (10): TransformerBlock(\n",
              "      (attn): MultiHeadAttention(\n",
              "        (W_query): Linear(in_features=768, out_features=768, bias=False)\n",
              "        (W_key): Linear(in_features=768, out_features=768, bias=False)\n",
              "        (W_value): Linear(in_features=768, out_features=768, bias=False)\n",
              "        (out_proj): Linear(in_features=768, out_features=768, bias=True)\n",
              "        (dropout): Dropout(p=0.1, inplace=False)\n",
              "      )\n",
              "      (ff): FeedForward(\n",
              "        (layers): Sequential(\n",
              "          (0): Linear(in_features=768, out_features=3072, bias=True)\n",
              "          (1): GELU()\n",
              "          (2): Linear(in_features=3072, out_features=768, bias=True)\n",
              "        )\n",
              "      )\n",
              "      (norm1): LayerNorm()\n",
              "      (norm2): LayerNorm()\n",
              "      (drop_shortcut): Dropout(p=0.1, inplace=False)\n",
              "    )\n",
              "    (11): TransformerBlock(\n",
              "      (attn): MultiHeadAttention(\n",
              "        (W_query): Linear(in_features=768, out_features=768, bias=False)\n",
              "        (W_key): Linear(in_features=768, out_features=768, bias=False)\n",
              "        (W_value): Linear(in_features=768, out_features=768, bias=False)\n",
              "        (out_proj): Linear(in_features=768, out_features=768, bias=True)\n",
              "        (dropout): Dropout(p=0.1, inplace=False)\n",
              "      )\n",
              "      (ff): FeedForward(\n",
              "        (layers): Sequential(\n",
              "          (0): Linear(in_features=768, out_features=3072, bias=True)\n",
              "          (1): GELU()\n",
              "          (2): Linear(in_features=3072, out_features=768, bias=True)\n",
              "        )\n",
              "      )\n",
              "      (norm1): LayerNorm()\n",
              "      (norm2): LayerNorm()\n",
              "      (drop_shortcut): Dropout(p=0.1, inplace=False)\n",
              "    )\n",
              "  )\n",
              "  (final_norm): LayerNorm()\n",
              "  (out_head): Linear(in_features=768, out_features=50257, bias=False)\n",
              ")"
            ]
          },
          "metadata": {},
          "execution_count": 209
        }
      ],
      "source": [
        "model = GPTModel(GPT_CONFIG_124M)\n",
        "model.load_state_dict(torch.load(\"model.pth\"))\n",
        "model.eval()"
      ]
    },
    {
      "cell_type": "code",
      "execution_count": 210,
      "metadata": {
        "id": "k8J3CmMXM9Gh"
      },
      "outputs": [],
      "source": [
        "optimizer = torch.optim.AdamW(model.parameters(),lr=0.0004, weight_decay=0.1)\n",
        "torch.save({\n",
        "    \"model_state_dict\":model.state_dict(),\n",
        "    \"optimizer_state_dict\":optimizer.state_dict(),\n",
        "    },\"model_and_optimizer.pth\")"
      ]
    },
    {
      "cell_type": "markdown",
      "metadata": {
        "id": "eQ9cxlXvOCAo"
      },
      "source": [
        "CHECKPOINT"
      ]
    },
    {
      "cell_type": "code",
      "execution_count": 211,
      "metadata": {
        "id": "Ar4rOAouOBnZ",
        "colab": {
          "base_uri": "https://localhost:8080/"
        },
        "outputId": "fc160689-d0a0-4d8f-e962-c2729269430e"
      },
      "outputs": [
        {
          "output_type": "execute_result",
          "data": {
            "text/plain": [
              "GPTModel(\n",
              "  (tok_emb): Embedding(50257, 768)\n",
              "  (pos_emb): Embedding(256, 768)\n",
              "  (drop_emb): Dropout(p=0.1, inplace=False)\n",
              "  (trf_blocks): Sequential(\n",
              "    (0): TransformerBlock(\n",
              "      (attn): MultiHeadAttention(\n",
              "        (W_query): Linear(in_features=768, out_features=768, bias=False)\n",
              "        (W_key): Linear(in_features=768, out_features=768, bias=False)\n",
              "        (W_value): Linear(in_features=768, out_features=768, bias=False)\n",
              "        (out_proj): Linear(in_features=768, out_features=768, bias=True)\n",
              "        (dropout): Dropout(p=0.1, inplace=False)\n",
              "      )\n",
              "      (ff): FeedForward(\n",
              "        (layers): Sequential(\n",
              "          (0): Linear(in_features=768, out_features=3072, bias=True)\n",
              "          (1): GELU()\n",
              "          (2): Linear(in_features=3072, out_features=768, bias=True)\n",
              "        )\n",
              "      )\n",
              "      (norm1): LayerNorm()\n",
              "      (norm2): LayerNorm()\n",
              "      (drop_shortcut): Dropout(p=0.1, inplace=False)\n",
              "    )\n",
              "    (1): TransformerBlock(\n",
              "      (attn): MultiHeadAttention(\n",
              "        (W_query): Linear(in_features=768, out_features=768, bias=False)\n",
              "        (W_key): Linear(in_features=768, out_features=768, bias=False)\n",
              "        (W_value): Linear(in_features=768, out_features=768, bias=False)\n",
              "        (out_proj): Linear(in_features=768, out_features=768, bias=True)\n",
              "        (dropout): Dropout(p=0.1, inplace=False)\n",
              "      )\n",
              "      (ff): FeedForward(\n",
              "        (layers): Sequential(\n",
              "          (0): Linear(in_features=768, out_features=3072, bias=True)\n",
              "          (1): GELU()\n",
              "          (2): Linear(in_features=3072, out_features=768, bias=True)\n",
              "        )\n",
              "      )\n",
              "      (norm1): LayerNorm()\n",
              "      (norm2): LayerNorm()\n",
              "      (drop_shortcut): Dropout(p=0.1, inplace=False)\n",
              "    )\n",
              "    (2): TransformerBlock(\n",
              "      (attn): MultiHeadAttention(\n",
              "        (W_query): Linear(in_features=768, out_features=768, bias=False)\n",
              "        (W_key): Linear(in_features=768, out_features=768, bias=False)\n",
              "        (W_value): Linear(in_features=768, out_features=768, bias=False)\n",
              "        (out_proj): Linear(in_features=768, out_features=768, bias=True)\n",
              "        (dropout): Dropout(p=0.1, inplace=False)\n",
              "      )\n",
              "      (ff): FeedForward(\n",
              "        (layers): Sequential(\n",
              "          (0): Linear(in_features=768, out_features=3072, bias=True)\n",
              "          (1): GELU()\n",
              "          (2): Linear(in_features=3072, out_features=768, bias=True)\n",
              "        )\n",
              "      )\n",
              "      (norm1): LayerNorm()\n",
              "      (norm2): LayerNorm()\n",
              "      (drop_shortcut): Dropout(p=0.1, inplace=False)\n",
              "    )\n",
              "    (3): TransformerBlock(\n",
              "      (attn): MultiHeadAttention(\n",
              "        (W_query): Linear(in_features=768, out_features=768, bias=False)\n",
              "        (W_key): Linear(in_features=768, out_features=768, bias=False)\n",
              "        (W_value): Linear(in_features=768, out_features=768, bias=False)\n",
              "        (out_proj): Linear(in_features=768, out_features=768, bias=True)\n",
              "        (dropout): Dropout(p=0.1, inplace=False)\n",
              "      )\n",
              "      (ff): FeedForward(\n",
              "        (layers): Sequential(\n",
              "          (0): Linear(in_features=768, out_features=3072, bias=True)\n",
              "          (1): GELU()\n",
              "          (2): Linear(in_features=3072, out_features=768, bias=True)\n",
              "        )\n",
              "      )\n",
              "      (norm1): LayerNorm()\n",
              "      (norm2): LayerNorm()\n",
              "      (drop_shortcut): Dropout(p=0.1, inplace=False)\n",
              "    )\n",
              "    (4): TransformerBlock(\n",
              "      (attn): MultiHeadAttention(\n",
              "        (W_query): Linear(in_features=768, out_features=768, bias=False)\n",
              "        (W_key): Linear(in_features=768, out_features=768, bias=False)\n",
              "        (W_value): Linear(in_features=768, out_features=768, bias=False)\n",
              "        (out_proj): Linear(in_features=768, out_features=768, bias=True)\n",
              "        (dropout): Dropout(p=0.1, inplace=False)\n",
              "      )\n",
              "      (ff): FeedForward(\n",
              "        (layers): Sequential(\n",
              "          (0): Linear(in_features=768, out_features=3072, bias=True)\n",
              "          (1): GELU()\n",
              "          (2): Linear(in_features=3072, out_features=768, bias=True)\n",
              "        )\n",
              "      )\n",
              "      (norm1): LayerNorm()\n",
              "      (norm2): LayerNorm()\n",
              "      (drop_shortcut): Dropout(p=0.1, inplace=False)\n",
              "    )\n",
              "    (5): TransformerBlock(\n",
              "      (attn): MultiHeadAttention(\n",
              "        (W_query): Linear(in_features=768, out_features=768, bias=False)\n",
              "        (W_key): Linear(in_features=768, out_features=768, bias=False)\n",
              "        (W_value): Linear(in_features=768, out_features=768, bias=False)\n",
              "        (out_proj): Linear(in_features=768, out_features=768, bias=True)\n",
              "        (dropout): Dropout(p=0.1, inplace=False)\n",
              "      )\n",
              "      (ff): FeedForward(\n",
              "        (layers): Sequential(\n",
              "          (0): Linear(in_features=768, out_features=3072, bias=True)\n",
              "          (1): GELU()\n",
              "          (2): Linear(in_features=3072, out_features=768, bias=True)\n",
              "        )\n",
              "      )\n",
              "      (norm1): LayerNorm()\n",
              "      (norm2): LayerNorm()\n",
              "      (drop_shortcut): Dropout(p=0.1, inplace=False)\n",
              "    )\n",
              "    (6): TransformerBlock(\n",
              "      (attn): MultiHeadAttention(\n",
              "        (W_query): Linear(in_features=768, out_features=768, bias=False)\n",
              "        (W_key): Linear(in_features=768, out_features=768, bias=False)\n",
              "        (W_value): Linear(in_features=768, out_features=768, bias=False)\n",
              "        (out_proj): Linear(in_features=768, out_features=768, bias=True)\n",
              "        (dropout): Dropout(p=0.1, inplace=False)\n",
              "      )\n",
              "      (ff): FeedForward(\n",
              "        (layers): Sequential(\n",
              "          (0): Linear(in_features=768, out_features=3072, bias=True)\n",
              "          (1): GELU()\n",
              "          (2): Linear(in_features=3072, out_features=768, bias=True)\n",
              "        )\n",
              "      )\n",
              "      (norm1): LayerNorm()\n",
              "      (norm2): LayerNorm()\n",
              "      (drop_shortcut): Dropout(p=0.1, inplace=False)\n",
              "    )\n",
              "    (7): TransformerBlock(\n",
              "      (attn): MultiHeadAttention(\n",
              "        (W_query): Linear(in_features=768, out_features=768, bias=False)\n",
              "        (W_key): Linear(in_features=768, out_features=768, bias=False)\n",
              "        (W_value): Linear(in_features=768, out_features=768, bias=False)\n",
              "        (out_proj): Linear(in_features=768, out_features=768, bias=True)\n",
              "        (dropout): Dropout(p=0.1, inplace=False)\n",
              "      )\n",
              "      (ff): FeedForward(\n",
              "        (layers): Sequential(\n",
              "          (0): Linear(in_features=768, out_features=3072, bias=True)\n",
              "          (1): GELU()\n",
              "          (2): Linear(in_features=3072, out_features=768, bias=True)\n",
              "        )\n",
              "      )\n",
              "      (norm1): LayerNorm()\n",
              "      (norm2): LayerNorm()\n",
              "      (drop_shortcut): Dropout(p=0.1, inplace=False)\n",
              "    )\n",
              "    (8): TransformerBlock(\n",
              "      (attn): MultiHeadAttention(\n",
              "        (W_query): Linear(in_features=768, out_features=768, bias=False)\n",
              "        (W_key): Linear(in_features=768, out_features=768, bias=False)\n",
              "        (W_value): Linear(in_features=768, out_features=768, bias=False)\n",
              "        (out_proj): Linear(in_features=768, out_features=768, bias=True)\n",
              "        (dropout): Dropout(p=0.1, inplace=False)\n",
              "      )\n",
              "      (ff): FeedForward(\n",
              "        (layers): Sequential(\n",
              "          (0): Linear(in_features=768, out_features=3072, bias=True)\n",
              "          (1): GELU()\n",
              "          (2): Linear(in_features=3072, out_features=768, bias=True)\n",
              "        )\n",
              "      )\n",
              "      (norm1): LayerNorm()\n",
              "      (norm2): LayerNorm()\n",
              "      (drop_shortcut): Dropout(p=0.1, inplace=False)\n",
              "    )\n",
              "    (9): TransformerBlock(\n",
              "      (attn): MultiHeadAttention(\n",
              "        (W_query): Linear(in_features=768, out_features=768, bias=False)\n",
              "        (W_key): Linear(in_features=768, out_features=768, bias=False)\n",
              "        (W_value): Linear(in_features=768, out_features=768, bias=False)\n",
              "        (out_proj): Linear(in_features=768, out_features=768, bias=True)\n",
              "        (dropout): Dropout(p=0.1, inplace=False)\n",
              "      )\n",
              "      (ff): FeedForward(\n",
              "        (layers): Sequential(\n",
              "          (0): Linear(in_features=768, out_features=3072, bias=True)\n",
              "          (1): GELU()\n",
              "          (2): Linear(in_features=3072, out_features=768, bias=True)\n",
              "        )\n",
              "      )\n",
              "      (norm1): LayerNorm()\n",
              "      (norm2): LayerNorm()\n",
              "      (drop_shortcut): Dropout(p=0.1, inplace=False)\n",
              "    )\n",
              "    (10): TransformerBlock(\n",
              "      (attn): MultiHeadAttention(\n",
              "        (W_query): Linear(in_features=768, out_features=768, bias=False)\n",
              "        (W_key): Linear(in_features=768, out_features=768, bias=False)\n",
              "        (W_value): Linear(in_features=768, out_features=768, bias=False)\n",
              "        (out_proj): Linear(in_features=768, out_features=768, bias=True)\n",
              "        (dropout): Dropout(p=0.1, inplace=False)\n",
              "      )\n",
              "      (ff): FeedForward(\n",
              "        (layers): Sequential(\n",
              "          (0): Linear(in_features=768, out_features=3072, bias=True)\n",
              "          (1): GELU()\n",
              "          (2): Linear(in_features=3072, out_features=768, bias=True)\n",
              "        )\n",
              "      )\n",
              "      (norm1): LayerNorm()\n",
              "      (norm2): LayerNorm()\n",
              "      (drop_shortcut): Dropout(p=0.1, inplace=False)\n",
              "    )\n",
              "    (11): TransformerBlock(\n",
              "      (attn): MultiHeadAttention(\n",
              "        (W_query): Linear(in_features=768, out_features=768, bias=False)\n",
              "        (W_key): Linear(in_features=768, out_features=768, bias=False)\n",
              "        (W_value): Linear(in_features=768, out_features=768, bias=False)\n",
              "        (out_proj): Linear(in_features=768, out_features=768, bias=True)\n",
              "        (dropout): Dropout(p=0.1, inplace=False)\n",
              "      )\n",
              "      (ff): FeedForward(\n",
              "        (layers): Sequential(\n",
              "          (0): Linear(in_features=768, out_features=3072, bias=True)\n",
              "          (1): GELU()\n",
              "          (2): Linear(in_features=3072, out_features=768, bias=True)\n",
              "        )\n",
              "      )\n",
              "      (norm1): LayerNorm()\n",
              "      (norm2): LayerNorm()\n",
              "      (drop_shortcut): Dropout(p=0.1, inplace=False)\n",
              "    )\n",
              "  )\n",
              "  (final_norm): LayerNorm()\n",
              "  (out_head): Linear(in_features=768, out_features=50257, bias=False)\n",
              ")"
            ]
          },
          "metadata": {},
          "execution_count": 211
        }
      ],
      "source": [
        "checkpoint = torch.load(\"model_and_optimizer.pth\")\n",
        "model = GPTModel(GPT_CONFIG_124M)\n",
        "model.load_state_dict(checkpoint[\"model_state_dict\"])\n",
        "optimizer = torch.optim.AdamW(model.parameters(),lr=5e-4,weight_decay=0.1)\n",
        "optimizer.load_state_dict(checkpoint[\"optimizer_state_dict\"])\n",
        "model.train()"
      ]
    },
    {
      "cell_type": "markdown",
      "metadata": {
        "id": "ZQmWpQjHooEk"
      },
      "source": [
        "LOADING PRETRAINED WEIGHTS FROM OPENAI"
      ]
    },
    {
      "cell_type": "code",
      "execution_count": 212,
      "metadata": {
        "id": "JPObA3gtox3o"
      },
      "outputs": [],
      "source": [
        "pip install tensorflow>=2.15.0 tqdm>=4.66"
      ]
    },
    {
      "cell_type": "code",
      "execution_count": 213,
      "metadata": {
        "id": "NrSxskrhof2_",
        "colab": {
          "base_uri": "https://localhost:8080/"
        },
        "outputId": "815e4d13-dbb3-4aa4-a513-71b2294de20b"
      },
      "outputs": [
        {
          "output_type": "stream",
          "name": "stdout",
          "text": [
            "Tensor flow version 2.19.0\n",
            "tqdm version 4.67.1\n"
          ]
        }
      ],
      "source": [
        "import tensorflow as tf\n",
        "import tqdm\n",
        "\n",
        "print(\"Tensor flow version\",tf.__version__)\n",
        "print(\"tqdm version\",tqdm.__version__)\n",
        "\n"
      ]
    },
    {
      "cell_type": "code",
      "execution_count": 214,
      "metadata": {
        "id": "wQrz9_5Etv-t",
        "colab": {
          "base_uri": "https://localhost:8080/"
        },
        "outputId": "db01676e-0916-4798-8a71-50e176d04ee8"
      },
      "outputs": [
        {
          "output_type": "stream",
          "name": "stderr",
          "text": [
            "/usr/local/lib/python3.12/dist-packages/urllib3/connectionpool.py:1097: InsecureRequestWarning: Unverified HTTPS request is being made to host 'openaipublic.blob.core.windows.net'. Adding certificate verification is strongly advised. See: https://urllib3.readthedocs.io/en/latest/advanced-usage.html#tls-warnings\n",
            "  warnings.warn(\n"
          ]
        },
        {
          "output_type": "stream",
          "name": "stdout",
          "text": [
            "File already exists and is up-to-date: gpt2/124M/checkpoint\n"
          ]
        },
        {
          "output_type": "stream",
          "name": "stderr",
          "text": [
            "/usr/local/lib/python3.12/dist-packages/urllib3/connectionpool.py:1097: InsecureRequestWarning: Unverified HTTPS request is being made to host 'openaipublic.blob.core.windows.net'. Adding certificate verification is strongly advised. See: https://urllib3.readthedocs.io/en/latest/advanced-usage.html#tls-warnings\n",
            "  warnings.warn(\n"
          ]
        },
        {
          "output_type": "stream",
          "name": "stdout",
          "text": [
            "File already exists and is up-to-date: gpt2/124M/encoder.json\n"
          ]
        },
        {
          "output_type": "stream",
          "name": "stderr",
          "text": [
            "/usr/local/lib/python3.12/dist-packages/urllib3/connectionpool.py:1097: InsecureRequestWarning: Unverified HTTPS request is being made to host 'openaipublic.blob.core.windows.net'. Adding certificate verification is strongly advised. See: https://urllib3.readthedocs.io/en/latest/advanced-usage.html#tls-warnings\n",
            "  warnings.warn(\n"
          ]
        },
        {
          "output_type": "stream",
          "name": "stdout",
          "text": [
            "File already exists and is up-to-date: gpt2/124M/hparams.json\n"
          ]
        },
        {
          "output_type": "stream",
          "name": "stderr",
          "text": [
            "/usr/local/lib/python3.12/dist-packages/urllib3/connectionpool.py:1097: InsecureRequestWarning: Unverified HTTPS request is being made to host 'openaipublic.blob.core.windows.net'. Adding certificate verification is strongly advised. See: https://urllib3.readthedocs.io/en/latest/advanced-usage.html#tls-warnings\n",
            "  warnings.warn(\n"
          ]
        },
        {
          "output_type": "stream",
          "name": "stdout",
          "text": [
            "File already exists and is up-to-date: gpt2/124M/model.ckpt.data-00000-of-00001\n"
          ]
        },
        {
          "output_type": "stream",
          "name": "stderr",
          "text": [
            "/usr/local/lib/python3.12/dist-packages/urllib3/connectionpool.py:1097: InsecureRequestWarning: Unverified HTTPS request is being made to host 'openaipublic.blob.core.windows.net'. Adding certificate verification is strongly advised. See: https://urllib3.readthedocs.io/en/latest/advanced-usage.html#tls-warnings\n",
            "  warnings.warn(\n"
          ]
        },
        {
          "output_type": "stream",
          "name": "stdout",
          "text": [
            "File already exists and is up-to-date: gpt2/124M/model.ckpt.index\n"
          ]
        },
        {
          "output_type": "stream",
          "name": "stderr",
          "text": [
            "/usr/local/lib/python3.12/dist-packages/urllib3/connectionpool.py:1097: InsecureRequestWarning: Unverified HTTPS request is being made to host 'openaipublic.blob.core.windows.net'. Adding certificate verification is strongly advised. See: https://urllib3.readthedocs.io/en/latest/advanced-usage.html#tls-warnings\n",
            "  warnings.warn(\n"
          ]
        },
        {
          "output_type": "stream",
          "name": "stdout",
          "text": [
            "File already exists and is up-to-date: gpt2/124M/model.ckpt.meta\n"
          ]
        },
        {
          "output_type": "stream",
          "name": "stderr",
          "text": [
            "/usr/local/lib/python3.12/dist-packages/urllib3/connectionpool.py:1097: InsecureRequestWarning: Unverified HTTPS request is being made to host 'openaipublic.blob.core.windows.net'. Adding certificate verification is strongly advised. See: https://urllib3.readthedocs.io/en/latest/advanced-usage.html#tls-warnings\n",
            "  warnings.warn(\n"
          ]
        },
        {
          "output_type": "stream",
          "name": "stdout",
          "text": [
            "File already exists and is up-to-date: gpt2/124M/vocab.bpe\n"
          ]
        }
      ],
      "source": [
        "from gpt_download3 import download_and_load_gpt2\n",
        "settings, params = download_and_load_gpt2(model_size=\"124M\", models_dir=\"gpt2\")"
      ]
    },
    {
      "cell_type": "markdown",
      "metadata": {
        "id": "aYqu5anWonaB"
      },
      "source": [
        "INSPECTING SETTINGS AND PARAMETERS\n"
      ]
    },
    {
      "cell_type": "code",
      "execution_count": 215,
      "metadata": {
        "id": "2K1d8PosG1Rv",
        "colab": {
          "base_uri": "https://localhost:8080/"
        },
        "outputId": "23f89023-cd08-4fde-cb2e-b598ab94f106"
      },
      "outputs": [
        {
          "output_type": "stream",
          "name": "stdout",
          "text": [
            "Settings: {'n_vocab': 50257, 'n_ctx': 1024, 'n_embd': 768, 'n_head': 12, 'n_layer': 12}\n",
            "Parameter dictionary keys: dict_keys(['blocks', 'b', 'g', 'wpe', 'wte'])\n"
          ]
        }
      ],
      "source": [
        "print(\"Settings:\",settings)\n",
        "print(\"Parameter dictionary keys:\",params.keys())"
      ]
    },
    {
      "cell_type": "code",
      "execution_count": 216,
      "metadata": {
        "id": "Fx5IF8BcHMi9",
        "colab": {
          "base_uri": "https://localhost:8080/"
        },
        "outputId": "4dfc9639-0f5f-4a24-c35e-87d8c4113879"
      },
      "outputs": [
        {
          "output_type": "stream",
          "name": "stdout",
          "text": [
            "[[-0.11010301 -0.03926672  0.03310751 ... -0.1363697   0.01506208\n",
            "   0.04531523]\n",
            " [ 0.04034033 -0.04861503  0.04624869 ...  0.08605453  0.00253983\n",
            "   0.04318958]\n",
            " [-0.12746179  0.04793796  0.18410145 ...  0.08991534 -0.12972379\n",
            "  -0.08785918]\n",
            " ...\n",
            " [-0.04453601 -0.05483596  0.01225674 ...  0.10435229  0.09783269\n",
            "  -0.06952604]\n",
            " [ 0.1860082   0.01665728  0.04611587 ... -0.09625227  0.07847701\n",
            "  -0.02245961]\n",
            " [ 0.05135201 -0.02768905  0.0499369  ...  0.00704835  0.15519823\n",
            "   0.12067825]]\n",
            "Token embedding weight tensor dimensions: (50257, 768)\n"
          ]
        }
      ],
      "source": [
        "print(params[\"wte\"])\n",
        "print(\"Token embedding weight tensor dimensions:\",params[\"wte\"].shape)"
      ]
    },
    {
      "cell_type": "code",
      "execution_count": 217,
      "metadata": {
        "id": "wqBADYNZHmev",
        "colab": {
          "base_uri": "https://localhost:8080/"
        },
        "outputId": "19c7d334-30c3-4ac9-a458-2f7b964bd5a1"
      },
      "outputs": [
        {
          "output_type": "stream",
          "name": "stdout",
          "text": [
            "{'vocab_size': 50257, 'context_length': 256, 'emb_dim': 768, 'n_heads': 12, 'n_layers': 12, 'drop_rate': 0.1, 'qkv_bias': False}\n"
          ]
        }
      ],
      "source": [
        "model_configs = {\n",
        "    \"gpt2-small (124M)\": {\"emb_dim\":768,\"n_layers\":12,\"n_heads\":12},\n",
        "    \"gpt2-medium (355M)\": {\"emb_dim\":1024,\"n_layers\":24,\"n_heads\":16},\n",
        "    \"gpt2-large (774M)\": {\"emb_dim\":1280,\"n_layers\":36,\"n_heads\":20},\n",
        "    \"gpt2-xl (1558M)\": {\"emb_dim\":1600,\"n_layers\":48,\"n_heads\":25}\n",
        "}\n",
        "\n",
        "model_name = \"gpt2-small (124M)\"\n",
        "NEW_CONFIG = GPT_CONFIG_124M.copy()\n",
        "NEW_CONFIG.update(model_configs[model_name])\n",
        "print(NEW_CONFIG)\n"
      ]
    },
    {
      "cell_type": "code",
      "execution_count": 218,
      "metadata": {
        "id": "rdYZOMjjIFKG",
        "colab": {
          "base_uri": "https://localhost:8080/"
        },
        "outputId": "19debe0b-b6d9-42ee-8028-4ca3d7e2a9a6"
      },
      "outputs": [
        {
          "output_type": "execute_result",
          "data": {
            "text/plain": [
              "GPTModel(\n",
              "  (tok_emb): Embedding(50257, 768)\n",
              "  (pos_emb): Embedding(1024, 768)\n",
              "  (drop_emb): Dropout(p=0.1, inplace=False)\n",
              "  (trf_blocks): Sequential(\n",
              "    (0): TransformerBlock(\n",
              "      (attn): MultiHeadAttention(\n",
              "        (W_query): Linear(in_features=768, out_features=768, bias=True)\n",
              "        (W_key): Linear(in_features=768, out_features=768, bias=True)\n",
              "        (W_value): Linear(in_features=768, out_features=768, bias=True)\n",
              "        (out_proj): Linear(in_features=768, out_features=768, bias=True)\n",
              "        (dropout): Dropout(p=0.1, inplace=False)\n",
              "      )\n",
              "      (ff): FeedForward(\n",
              "        (layers): Sequential(\n",
              "          (0): Linear(in_features=768, out_features=3072, bias=True)\n",
              "          (1): GELU()\n",
              "          (2): Linear(in_features=3072, out_features=768, bias=True)\n",
              "        )\n",
              "      )\n",
              "      (norm1): LayerNorm()\n",
              "      (norm2): LayerNorm()\n",
              "      (drop_shortcut): Dropout(p=0.1, inplace=False)\n",
              "    )\n",
              "    (1): TransformerBlock(\n",
              "      (attn): MultiHeadAttention(\n",
              "        (W_query): Linear(in_features=768, out_features=768, bias=True)\n",
              "        (W_key): Linear(in_features=768, out_features=768, bias=True)\n",
              "        (W_value): Linear(in_features=768, out_features=768, bias=True)\n",
              "        (out_proj): Linear(in_features=768, out_features=768, bias=True)\n",
              "        (dropout): Dropout(p=0.1, inplace=False)\n",
              "      )\n",
              "      (ff): FeedForward(\n",
              "        (layers): Sequential(\n",
              "          (0): Linear(in_features=768, out_features=3072, bias=True)\n",
              "          (1): GELU()\n",
              "          (2): Linear(in_features=3072, out_features=768, bias=True)\n",
              "        )\n",
              "      )\n",
              "      (norm1): LayerNorm()\n",
              "      (norm2): LayerNorm()\n",
              "      (drop_shortcut): Dropout(p=0.1, inplace=False)\n",
              "    )\n",
              "    (2): TransformerBlock(\n",
              "      (attn): MultiHeadAttention(\n",
              "        (W_query): Linear(in_features=768, out_features=768, bias=True)\n",
              "        (W_key): Linear(in_features=768, out_features=768, bias=True)\n",
              "        (W_value): Linear(in_features=768, out_features=768, bias=True)\n",
              "        (out_proj): Linear(in_features=768, out_features=768, bias=True)\n",
              "        (dropout): Dropout(p=0.1, inplace=False)\n",
              "      )\n",
              "      (ff): FeedForward(\n",
              "        (layers): Sequential(\n",
              "          (0): Linear(in_features=768, out_features=3072, bias=True)\n",
              "          (1): GELU()\n",
              "          (2): Linear(in_features=3072, out_features=768, bias=True)\n",
              "        )\n",
              "      )\n",
              "      (norm1): LayerNorm()\n",
              "      (norm2): LayerNorm()\n",
              "      (drop_shortcut): Dropout(p=0.1, inplace=False)\n",
              "    )\n",
              "    (3): TransformerBlock(\n",
              "      (attn): MultiHeadAttention(\n",
              "        (W_query): Linear(in_features=768, out_features=768, bias=True)\n",
              "        (W_key): Linear(in_features=768, out_features=768, bias=True)\n",
              "        (W_value): Linear(in_features=768, out_features=768, bias=True)\n",
              "        (out_proj): Linear(in_features=768, out_features=768, bias=True)\n",
              "        (dropout): Dropout(p=0.1, inplace=False)\n",
              "      )\n",
              "      (ff): FeedForward(\n",
              "        (layers): Sequential(\n",
              "          (0): Linear(in_features=768, out_features=3072, bias=True)\n",
              "          (1): GELU()\n",
              "          (2): Linear(in_features=3072, out_features=768, bias=True)\n",
              "        )\n",
              "      )\n",
              "      (norm1): LayerNorm()\n",
              "      (norm2): LayerNorm()\n",
              "      (drop_shortcut): Dropout(p=0.1, inplace=False)\n",
              "    )\n",
              "    (4): TransformerBlock(\n",
              "      (attn): MultiHeadAttention(\n",
              "        (W_query): Linear(in_features=768, out_features=768, bias=True)\n",
              "        (W_key): Linear(in_features=768, out_features=768, bias=True)\n",
              "        (W_value): Linear(in_features=768, out_features=768, bias=True)\n",
              "        (out_proj): Linear(in_features=768, out_features=768, bias=True)\n",
              "        (dropout): Dropout(p=0.1, inplace=False)\n",
              "      )\n",
              "      (ff): FeedForward(\n",
              "        (layers): Sequential(\n",
              "          (0): Linear(in_features=768, out_features=3072, bias=True)\n",
              "          (1): GELU()\n",
              "          (2): Linear(in_features=3072, out_features=768, bias=True)\n",
              "        )\n",
              "      )\n",
              "      (norm1): LayerNorm()\n",
              "      (norm2): LayerNorm()\n",
              "      (drop_shortcut): Dropout(p=0.1, inplace=False)\n",
              "    )\n",
              "    (5): TransformerBlock(\n",
              "      (attn): MultiHeadAttention(\n",
              "        (W_query): Linear(in_features=768, out_features=768, bias=True)\n",
              "        (W_key): Linear(in_features=768, out_features=768, bias=True)\n",
              "        (W_value): Linear(in_features=768, out_features=768, bias=True)\n",
              "        (out_proj): Linear(in_features=768, out_features=768, bias=True)\n",
              "        (dropout): Dropout(p=0.1, inplace=False)\n",
              "      )\n",
              "      (ff): FeedForward(\n",
              "        (layers): Sequential(\n",
              "          (0): Linear(in_features=768, out_features=3072, bias=True)\n",
              "          (1): GELU()\n",
              "          (2): Linear(in_features=3072, out_features=768, bias=True)\n",
              "        )\n",
              "      )\n",
              "      (norm1): LayerNorm()\n",
              "      (norm2): LayerNorm()\n",
              "      (drop_shortcut): Dropout(p=0.1, inplace=False)\n",
              "    )\n",
              "    (6): TransformerBlock(\n",
              "      (attn): MultiHeadAttention(\n",
              "        (W_query): Linear(in_features=768, out_features=768, bias=True)\n",
              "        (W_key): Linear(in_features=768, out_features=768, bias=True)\n",
              "        (W_value): Linear(in_features=768, out_features=768, bias=True)\n",
              "        (out_proj): Linear(in_features=768, out_features=768, bias=True)\n",
              "        (dropout): Dropout(p=0.1, inplace=False)\n",
              "      )\n",
              "      (ff): FeedForward(\n",
              "        (layers): Sequential(\n",
              "          (0): Linear(in_features=768, out_features=3072, bias=True)\n",
              "          (1): GELU()\n",
              "          (2): Linear(in_features=3072, out_features=768, bias=True)\n",
              "        )\n",
              "      )\n",
              "      (norm1): LayerNorm()\n",
              "      (norm2): LayerNorm()\n",
              "      (drop_shortcut): Dropout(p=0.1, inplace=False)\n",
              "    )\n",
              "    (7): TransformerBlock(\n",
              "      (attn): MultiHeadAttention(\n",
              "        (W_query): Linear(in_features=768, out_features=768, bias=True)\n",
              "        (W_key): Linear(in_features=768, out_features=768, bias=True)\n",
              "        (W_value): Linear(in_features=768, out_features=768, bias=True)\n",
              "        (out_proj): Linear(in_features=768, out_features=768, bias=True)\n",
              "        (dropout): Dropout(p=0.1, inplace=False)\n",
              "      )\n",
              "      (ff): FeedForward(\n",
              "        (layers): Sequential(\n",
              "          (0): Linear(in_features=768, out_features=3072, bias=True)\n",
              "          (1): GELU()\n",
              "          (2): Linear(in_features=3072, out_features=768, bias=True)\n",
              "        )\n",
              "      )\n",
              "      (norm1): LayerNorm()\n",
              "      (norm2): LayerNorm()\n",
              "      (drop_shortcut): Dropout(p=0.1, inplace=False)\n",
              "    )\n",
              "    (8): TransformerBlock(\n",
              "      (attn): MultiHeadAttention(\n",
              "        (W_query): Linear(in_features=768, out_features=768, bias=True)\n",
              "        (W_key): Linear(in_features=768, out_features=768, bias=True)\n",
              "        (W_value): Linear(in_features=768, out_features=768, bias=True)\n",
              "        (out_proj): Linear(in_features=768, out_features=768, bias=True)\n",
              "        (dropout): Dropout(p=0.1, inplace=False)\n",
              "      )\n",
              "      (ff): FeedForward(\n",
              "        (layers): Sequential(\n",
              "          (0): Linear(in_features=768, out_features=3072, bias=True)\n",
              "          (1): GELU()\n",
              "          (2): Linear(in_features=3072, out_features=768, bias=True)\n",
              "        )\n",
              "      )\n",
              "      (norm1): LayerNorm()\n",
              "      (norm2): LayerNorm()\n",
              "      (drop_shortcut): Dropout(p=0.1, inplace=False)\n",
              "    )\n",
              "    (9): TransformerBlock(\n",
              "      (attn): MultiHeadAttention(\n",
              "        (W_query): Linear(in_features=768, out_features=768, bias=True)\n",
              "        (W_key): Linear(in_features=768, out_features=768, bias=True)\n",
              "        (W_value): Linear(in_features=768, out_features=768, bias=True)\n",
              "        (out_proj): Linear(in_features=768, out_features=768, bias=True)\n",
              "        (dropout): Dropout(p=0.1, inplace=False)\n",
              "      )\n",
              "      (ff): FeedForward(\n",
              "        (layers): Sequential(\n",
              "          (0): Linear(in_features=768, out_features=3072, bias=True)\n",
              "          (1): GELU()\n",
              "          (2): Linear(in_features=3072, out_features=768, bias=True)\n",
              "        )\n",
              "      )\n",
              "      (norm1): LayerNorm()\n",
              "      (norm2): LayerNorm()\n",
              "      (drop_shortcut): Dropout(p=0.1, inplace=False)\n",
              "    )\n",
              "    (10): TransformerBlock(\n",
              "      (attn): MultiHeadAttention(\n",
              "        (W_query): Linear(in_features=768, out_features=768, bias=True)\n",
              "        (W_key): Linear(in_features=768, out_features=768, bias=True)\n",
              "        (W_value): Linear(in_features=768, out_features=768, bias=True)\n",
              "        (out_proj): Linear(in_features=768, out_features=768, bias=True)\n",
              "        (dropout): Dropout(p=0.1, inplace=False)\n",
              "      )\n",
              "      (ff): FeedForward(\n",
              "        (layers): Sequential(\n",
              "          (0): Linear(in_features=768, out_features=3072, bias=True)\n",
              "          (1): GELU()\n",
              "          (2): Linear(in_features=3072, out_features=768, bias=True)\n",
              "        )\n",
              "      )\n",
              "      (norm1): LayerNorm()\n",
              "      (norm2): LayerNorm()\n",
              "      (drop_shortcut): Dropout(p=0.1, inplace=False)\n",
              "    )\n",
              "    (11): TransformerBlock(\n",
              "      (attn): MultiHeadAttention(\n",
              "        (W_query): Linear(in_features=768, out_features=768, bias=True)\n",
              "        (W_key): Linear(in_features=768, out_features=768, bias=True)\n",
              "        (W_value): Linear(in_features=768, out_features=768, bias=True)\n",
              "        (out_proj): Linear(in_features=768, out_features=768, bias=True)\n",
              "        (dropout): Dropout(p=0.1, inplace=False)\n",
              "      )\n",
              "      (ff): FeedForward(\n",
              "        (layers): Sequential(\n",
              "          (0): Linear(in_features=768, out_features=3072, bias=True)\n",
              "          (1): GELU()\n",
              "          (2): Linear(in_features=3072, out_features=768, bias=True)\n",
              "        )\n",
              "      )\n",
              "      (norm1): LayerNorm()\n",
              "      (norm2): LayerNorm()\n",
              "      (drop_shortcut): Dropout(p=0.1, inplace=False)\n",
              "    )\n",
              "  )\n",
              "  (final_norm): LayerNorm()\n",
              "  (out_head): Linear(in_features=768, out_features=50257, bias=False)\n",
              ")"
            ]
          },
          "metadata": {},
          "execution_count": 218
        }
      ],
      "source": [
        "NEW_CONFIG.update({\"context_length\":1024,\"qkv_bias\":True}) # Bias not generally used as they don't improve model performance, however used here to match original gpt settings.\n",
        "gpt = GPTModel(NEW_CONFIG)\n",
        "gpt.eval()"
      ]
    },
    {
      "cell_type": "code",
      "execution_count": 219,
      "metadata": {
        "id": "wO_FF-_GLkOT"
      },
      "outputs": [],
      "source": [
        "import numpy as np\n",
        "\n",
        "def assign(left, right):\n",
        "  if left.shape != right.shape:\n",
        "    raise ValueError(f\"Shape mismatch. Leff :{left.shape}, Right: {right.shape}\")\n",
        "  return torch.nn.Parameter(torch.tensor(right))"
      ]
    },
    {
      "cell_type": "code",
      "execution_count": 220,
      "metadata": {
        "id": "oG4e98hZO10k"
      },
      "outputs": [],
      "source": [
        "import numpy as np\n",
        "\n",
        "def load_weights_into_gpt(gpt, params):\n",
        "    gpt.pos_emb.weight = assign(gpt.pos_emb.weight, params['wpe'])\n",
        "    gpt.tok_emb.weight = assign(gpt.tok_emb.weight, params['wte'])\n",
        "\n",
        "    for b in range(len(params[\"blocks\"])):\n",
        "        q_w, k_w, v_w = np.split(\n",
        "            (params[\"blocks\"][b][\"attn\"][\"c_attn\"])[\"w\"], 3, axis=-1)\n",
        "        gpt.trf_blocks[b].attn.W_query.weight = assign(\n",
        "            gpt.trf_blocks[b].attn.W_query.weight, q_w.T)\n",
        "        gpt.trf_blocks[b].attn.W_key.weight = assign(\n",
        "            gpt.trf_blocks[b].attn.W_key.weight, k_w.T)\n",
        "        gpt.trf_blocks[b].attn.W_value.weight = assign(\n",
        "            gpt.trf_blocks[b].attn.W_value.weight, v_w.T)\n",
        "\n",
        "        q_b, k_b, v_b = np.split(\n",
        "            (params[\"blocks\"][b][\"attn\"][\"c_attn\"])[\"b\"], 3, axis=-1)\n",
        "        gpt.trf_blocks[b].attn.W_query.bias = assign(\n",
        "            gpt.trf_blocks[b].attn.W_query.bias, q_b)\n",
        "        gpt.trf_blocks[b].attn.W_key.bias = assign(\n",
        "            gpt.trf_blocks[b].attn.W_key.bias, k_b)\n",
        "        gpt.trf_blocks[b].attn.W_value.bias = assign(\n",
        "            gpt.trf_blocks[b].attn.W_value.bias, v_b)\n",
        "\n",
        "        gpt.trf_blocks[b].attn.out_proj.weight = assign(\n",
        "            gpt.trf_blocks[b].attn.out_proj.weight,\n",
        "            params[\"blocks\"][b][\"attn\"][\"c_proj\"][\"w\"].T)\n",
        "        gpt.trf_blocks[b].attn.out_proj.bias = assign(\n",
        "            gpt.trf_blocks[b].attn.out_proj.bias,\n",
        "            params[\"blocks\"][b][\"attn\"][\"c_proj\"][\"b\"])\n",
        "\n",
        "        gpt.trf_blocks[b].ff.layers[0].weight = assign(\n",
        "            gpt.trf_blocks[b].ff.layers[0].weight,\n",
        "            params[\"blocks\"][b][\"mlp\"][\"c_fc\"][\"w\"].T)\n",
        "        gpt.trf_blocks[b].ff.layers[0].bias = assign(\n",
        "            gpt.trf_blocks[b].ff.layers[0].bias,\n",
        "            params[\"blocks\"][b][\"mlp\"][\"c_fc\"][\"b\"])\n",
        "        gpt.trf_blocks[b].ff.layers[2].weight = assign(\n",
        "            gpt.trf_blocks[b].ff.layers[2].weight,\n",
        "            params[\"blocks\"][b][\"mlp\"][\"c_proj\"][\"w\"].T)\n",
        "        gpt.trf_blocks[b].ff.layers[2].bias = assign(\n",
        "            gpt.trf_blocks[b].ff.layers[2].bias,\n",
        "            params[\"blocks\"][b][\"mlp\"][\"c_proj\"][\"b\"])\n",
        "\n",
        "        gpt.trf_blocks[b].norm1.scale = assign(\n",
        "            gpt.trf_blocks[b].norm1.scale,\n",
        "            params[\"blocks\"][b][\"ln_1\"][\"g\"])\n",
        "        gpt.trf_blocks[b].norm1.shift = assign(\n",
        "            gpt.trf_blocks[b].norm1.shift,\n",
        "            params[\"blocks\"][b][\"ln_1\"][\"b\"])\n",
        "        gpt.trf_blocks[b].norm2.scale = assign(\n",
        "            gpt.trf_blocks[b].norm2.scale,\n",
        "            params[\"blocks\"][b][\"ln_2\"][\"g\"])\n",
        "        gpt.trf_blocks[b].norm2.shift = assign(\n",
        "            gpt.trf_blocks[b].norm2.shift,\n",
        "            params[\"blocks\"][b][\"ln_2\"][\"b\"])\n",
        "\n",
        "    gpt.final_norm.scale = assign(gpt.final_norm.scale, params[\"g\"])\n",
        "    gpt.final_norm.shift = assign(gpt.final_norm.shift, params[\"b\"])\n",
        "    gpt.out_head.weight = assign(gpt.out_head.weight, params[\"wte\"])\n",
        "\n"
      ]
    },
    {
      "cell_type": "code",
      "execution_count": 221,
      "metadata": {
        "id": "qBWdDDhiPayX",
        "colab": {
          "base_uri": "https://localhost:8080/"
        },
        "outputId": "4b81ac7f-c66b-4bca-cd74-8e10d46b5f1e"
      },
      "outputs": [
        {
          "output_type": "execute_result",
          "data": {
            "text/plain": [
              "GPTModel(\n",
              "  (tok_emb): Embedding(50257, 768)\n",
              "  (pos_emb): Embedding(1024, 768)\n",
              "  (drop_emb): Dropout(p=0.1, inplace=False)\n",
              "  (trf_blocks): Sequential(\n",
              "    (0): TransformerBlock(\n",
              "      (attn): MultiHeadAttention(\n",
              "        (W_query): Linear(in_features=768, out_features=768, bias=True)\n",
              "        (W_key): Linear(in_features=768, out_features=768, bias=True)\n",
              "        (W_value): Linear(in_features=768, out_features=768, bias=True)\n",
              "        (out_proj): Linear(in_features=768, out_features=768, bias=True)\n",
              "        (dropout): Dropout(p=0.1, inplace=False)\n",
              "      )\n",
              "      (ff): FeedForward(\n",
              "        (layers): Sequential(\n",
              "          (0): Linear(in_features=768, out_features=3072, bias=True)\n",
              "          (1): GELU()\n",
              "          (2): Linear(in_features=3072, out_features=768, bias=True)\n",
              "        )\n",
              "      )\n",
              "      (norm1): LayerNorm()\n",
              "      (norm2): LayerNorm()\n",
              "      (drop_shortcut): Dropout(p=0.1, inplace=False)\n",
              "    )\n",
              "    (1): TransformerBlock(\n",
              "      (attn): MultiHeadAttention(\n",
              "        (W_query): Linear(in_features=768, out_features=768, bias=True)\n",
              "        (W_key): Linear(in_features=768, out_features=768, bias=True)\n",
              "        (W_value): Linear(in_features=768, out_features=768, bias=True)\n",
              "        (out_proj): Linear(in_features=768, out_features=768, bias=True)\n",
              "        (dropout): Dropout(p=0.1, inplace=False)\n",
              "      )\n",
              "      (ff): FeedForward(\n",
              "        (layers): Sequential(\n",
              "          (0): Linear(in_features=768, out_features=3072, bias=True)\n",
              "          (1): GELU()\n",
              "          (2): Linear(in_features=3072, out_features=768, bias=True)\n",
              "        )\n",
              "      )\n",
              "      (norm1): LayerNorm()\n",
              "      (norm2): LayerNorm()\n",
              "      (drop_shortcut): Dropout(p=0.1, inplace=False)\n",
              "    )\n",
              "    (2): TransformerBlock(\n",
              "      (attn): MultiHeadAttention(\n",
              "        (W_query): Linear(in_features=768, out_features=768, bias=True)\n",
              "        (W_key): Linear(in_features=768, out_features=768, bias=True)\n",
              "        (W_value): Linear(in_features=768, out_features=768, bias=True)\n",
              "        (out_proj): Linear(in_features=768, out_features=768, bias=True)\n",
              "        (dropout): Dropout(p=0.1, inplace=False)\n",
              "      )\n",
              "      (ff): FeedForward(\n",
              "        (layers): Sequential(\n",
              "          (0): Linear(in_features=768, out_features=3072, bias=True)\n",
              "          (1): GELU()\n",
              "          (2): Linear(in_features=3072, out_features=768, bias=True)\n",
              "        )\n",
              "      )\n",
              "      (norm1): LayerNorm()\n",
              "      (norm2): LayerNorm()\n",
              "      (drop_shortcut): Dropout(p=0.1, inplace=False)\n",
              "    )\n",
              "    (3): TransformerBlock(\n",
              "      (attn): MultiHeadAttention(\n",
              "        (W_query): Linear(in_features=768, out_features=768, bias=True)\n",
              "        (W_key): Linear(in_features=768, out_features=768, bias=True)\n",
              "        (W_value): Linear(in_features=768, out_features=768, bias=True)\n",
              "        (out_proj): Linear(in_features=768, out_features=768, bias=True)\n",
              "        (dropout): Dropout(p=0.1, inplace=False)\n",
              "      )\n",
              "      (ff): FeedForward(\n",
              "        (layers): Sequential(\n",
              "          (0): Linear(in_features=768, out_features=3072, bias=True)\n",
              "          (1): GELU()\n",
              "          (2): Linear(in_features=3072, out_features=768, bias=True)\n",
              "        )\n",
              "      )\n",
              "      (norm1): LayerNorm()\n",
              "      (norm2): LayerNorm()\n",
              "      (drop_shortcut): Dropout(p=0.1, inplace=False)\n",
              "    )\n",
              "    (4): TransformerBlock(\n",
              "      (attn): MultiHeadAttention(\n",
              "        (W_query): Linear(in_features=768, out_features=768, bias=True)\n",
              "        (W_key): Linear(in_features=768, out_features=768, bias=True)\n",
              "        (W_value): Linear(in_features=768, out_features=768, bias=True)\n",
              "        (out_proj): Linear(in_features=768, out_features=768, bias=True)\n",
              "        (dropout): Dropout(p=0.1, inplace=False)\n",
              "      )\n",
              "      (ff): FeedForward(\n",
              "        (layers): Sequential(\n",
              "          (0): Linear(in_features=768, out_features=3072, bias=True)\n",
              "          (1): GELU()\n",
              "          (2): Linear(in_features=3072, out_features=768, bias=True)\n",
              "        )\n",
              "      )\n",
              "      (norm1): LayerNorm()\n",
              "      (norm2): LayerNorm()\n",
              "      (drop_shortcut): Dropout(p=0.1, inplace=False)\n",
              "    )\n",
              "    (5): TransformerBlock(\n",
              "      (attn): MultiHeadAttention(\n",
              "        (W_query): Linear(in_features=768, out_features=768, bias=True)\n",
              "        (W_key): Linear(in_features=768, out_features=768, bias=True)\n",
              "        (W_value): Linear(in_features=768, out_features=768, bias=True)\n",
              "        (out_proj): Linear(in_features=768, out_features=768, bias=True)\n",
              "        (dropout): Dropout(p=0.1, inplace=False)\n",
              "      )\n",
              "      (ff): FeedForward(\n",
              "        (layers): Sequential(\n",
              "          (0): Linear(in_features=768, out_features=3072, bias=True)\n",
              "          (1): GELU()\n",
              "          (2): Linear(in_features=3072, out_features=768, bias=True)\n",
              "        )\n",
              "      )\n",
              "      (norm1): LayerNorm()\n",
              "      (norm2): LayerNorm()\n",
              "      (drop_shortcut): Dropout(p=0.1, inplace=False)\n",
              "    )\n",
              "    (6): TransformerBlock(\n",
              "      (attn): MultiHeadAttention(\n",
              "        (W_query): Linear(in_features=768, out_features=768, bias=True)\n",
              "        (W_key): Linear(in_features=768, out_features=768, bias=True)\n",
              "        (W_value): Linear(in_features=768, out_features=768, bias=True)\n",
              "        (out_proj): Linear(in_features=768, out_features=768, bias=True)\n",
              "        (dropout): Dropout(p=0.1, inplace=False)\n",
              "      )\n",
              "      (ff): FeedForward(\n",
              "        (layers): Sequential(\n",
              "          (0): Linear(in_features=768, out_features=3072, bias=True)\n",
              "          (1): GELU()\n",
              "          (2): Linear(in_features=3072, out_features=768, bias=True)\n",
              "        )\n",
              "      )\n",
              "      (norm1): LayerNorm()\n",
              "      (norm2): LayerNorm()\n",
              "      (drop_shortcut): Dropout(p=0.1, inplace=False)\n",
              "    )\n",
              "    (7): TransformerBlock(\n",
              "      (attn): MultiHeadAttention(\n",
              "        (W_query): Linear(in_features=768, out_features=768, bias=True)\n",
              "        (W_key): Linear(in_features=768, out_features=768, bias=True)\n",
              "        (W_value): Linear(in_features=768, out_features=768, bias=True)\n",
              "        (out_proj): Linear(in_features=768, out_features=768, bias=True)\n",
              "        (dropout): Dropout(p=0.1, inplace=False)\n",
              "      )\n",
              "      (ff): FeedForward(\n",
              "        (layers): Sequential(\n",
              "          (0): Linear(in_features=768, out_features=3072, bias=True)\n",
              "          (1): GELU()\n",
              "          (2): Linear(in_features=3072, out_features=768, bias=True)\n",
              "        )\n",
              "      )\n",
              "      (norm1): LayerNorm()\n",
              "      (norm2): LayerNorm()\n",
              "      (drop_shortcut): Dropout(p=0.1, inplace=False)\n",
              "    )\n",
              "    (8): TransformerBlock(\n",
              "      (attn): MultiHeadAttention(\n",
              "        (W_query): Linear(in_features=768, out_features=768, bias=True)\n",
              "        (W_key): Linear(in_features=768, out_features=768, bias=True)\n",
              "        (W_value): Linear(in_features=768, out_features=768, bias=True)\n",
              "        (out_proj): Linear(in_features=768, out_features=768, bias=True)\n",
              "        (dropout): Dropout(p=0.1, inplace=False)\n",
              "      )\n",
              "      (ff): FeedForward(\n",
              "        (layers): Sequential(\n",
              "          (0): Linear(in_features=768, out_features=3072, bias=True)\n",
              "          (1): GELU()\n",
              "          (2): Linear(in_features=3072, out_features=768, bias=True)\n",
              "        )\n",
              "      )\n",
              "      (norm1): LayerNorm()\n",
              "      (norm2): LayerNorm()\n",
              "      (drop_shortcut): Dropout(p=0.1, inplace=False)\n",
              "    )\n",
              "    (9): TransformerBlock(\n",
              "      (attn): MultiHeadAttention(\n",
              "        (W_query): Linear(in_features=768, out_features=768, bias=True)\n",
              "        (W_key): Linear(in_features=768, out_features=768, bias=True)\n",
              "        (W_value): Linear(in_features=768, out_features=768, bias=True)\n",
              "        (out_proj): Linear(in_features=768, out_features=768, bias=True)\n",
              "        (dropout): Dropout(p=0.1, inplace=False)\n",
              "      )\n",
              "      (ff): FeedForward(\n",
              "        (layers): Sequential(\n",
              "          (0): Linear(in_features=768, out_features=3072, bias=True)\n",
              "          (1): GELU()\n",
              "          (2): Linear(in_features=3072, out_features=768, bias=True)\n",
              "        )\n",
              "      )\n",
              "      (norm1): LayerNorm()\n",
              "      (norm2): LayerNorm()\n",
              "      (drop_shortcut): Dropout(p=0.1, inplace=False)\n",
              "    )\n",
              "    (10): TransformerBlock(\n",
              "      (attn): MultiHeadAttention(\n",
              "        (W_query): Linear(in_features=768, out_features=768, bias=True)\n",
              "        (W_key): Linear(in_features=768, out_features=768, bias=True)\n",
              "        (W_value): Linear(in_features=768, out_features=768, bias=True)\n",
              "        (out_proj): Linear(in_features=768, out_features=768, bias=True)\n",
              "        (dropout): Dropout(p=0.1, inplace=False)\n",
              "      )\n",
              "      (ff): FeedForward(\n",
              "        (layers): Sequential(\n",
              "          (0): Linear(in_features=768, out_features=3072, bias=True)\n",
              "          (1): GELU()\n",
              "          (2): Linear(in_features=3072, out_features=768, bias=True)\n",
              "        )\n",
              "      )\n",
              "      (norm1): LayerNorm()\n",
              "      (norm2): LayerNorm()\n",
              "      (drop_shortcut): Dropout(p=0.1, inplace=False)\n",
              "    )\n",
              "    (11): TransformerBlock(\n",
              "      (attn): MultiHeadAttention(\n",
              "        (W_query): Linear(in_features=768, out_features=768, bias=True)\n",
              "        (W_key): Linear(in_features=768, out_features=768, bias=True)\n",
              "        (W_value): Linear(in_features=768, out_features=768, bias=True)\n",
              "        (out_proj): Linear(in_features=768, out_features=768, bias=True)\n",
              "        (dropout): Dropout(p=0.1, inplace=False)\n",
              "      )\n",
              "      (ff): FeedForward(\n",
              "        (layers): Sequential(\n",
              "          (0): Linear(in_features=768, out_features=3072, bias=True)\n",
              "          (1): GELU()\n",
              "          (2): Linear(in_features=3072, out_features=768, bias=True)\n",
              "        )\n",
              "      )\n",
              "      (norm1): LayerNorm()\n",
              "      (norm2): LayerNorm()\n",
              "      (drop_shortcut): Dropout(p=0.1, inplace=False)\n",
              "    )\n",
              "  )\n",
              "  (final_norm): LayerNorm()\n",
              "  (out_head): Linear(in_features=768, out_features=50257, bias=False)\n",
              ")"
            ]
          },
          "metadata": {},
          "execution_count": 221
        }
      ],
      "source": [
        "load_weights_into_gpt(gpt,params)\n",
        "gpt.to(device)"
      ]
    },
    {
      "cell_type": "code",
      "execution_count": 222,
      "metadata": {
        "id": "3Sq6prtZQI1y",
        "colab": {
          "base_uri": "https://localhost:8080/"
        },
        "outputId": "022d8c53-d36e-4717-9001-8d499994ae90"
      },
      "outputs": [
        {
          "output_type": "stream",
          "name": "stdout",
          "text": [
            "Output text:\n",
            " Every effort moves you as far as the hand can go until the end of your turn unless something happens\n",
            "\n",
            "This would remove you from a battle\n"
          ]
        }
      ],
      "source": [
        "torch.manual_seed(123)\n",
        "\n",
        "token_ids = generate(model=gpt,\n",
        "                     idx = text_to_token_ids(\"Every effort moves you\",tokenizer).to(device),\n",
        "                     max_new_tokens=25,\n",
        "                     context_size = GPT_CONFIG_124M[\"context_length\"],\n",
        "                     top_k = 50,\n",
        "                     temperature=1.5)\n",
        "\n",
        "print(\"Output text:\\n\",token_ids_to_text(token_ids,tokenizer))"
      ]
    },
    {
      "cell_type": "code",
      "execution_count": 223,
      "metadata": {
        "id": "LJtmTDx-RUBd",
        "colab": {
          "base_uri": "https://localhost:8080/"
        },
        "outputId": "1e1645d4-83f4-4670-b68f-75ceb07287bd"
      },
      "outputs": [
        {
          "output_type": "stream",
          "name": "stdout",
          "text": [
            "Output text:\n",
            " Life is like the old game – you're trapped where the rules of your world of living are wrong, stuck somewhere else; you're trapped\n"
          ]
        }
      ],
      "source": [
        "torch.manual_seed(123)\n",
        "\n",
        "token_ids = generate(model=gpt,\n",
        "                     idx = text_to_token_ids(\"Life is like\",tokenizer).to(device),\n",
        "                     max_new_tokens=25,\n",
        "                     context_size = GPT_CONFIG_124M[\"context_length\"],\n",
        "                     top_k = 50,\n",
        "                     temperature=1.4)\n",
        "\n",
        "print(\"Output text:\\n\",token_ids_to_text(token_ids,tokenizer))"
      ]
    },
    {
      "cell_type": "markdown",
      "metadata": {
        "id": "ZuvCrsWY52xl"
      },
      "source": [
        "FINETUNING LLM"
      ]
    },
    {
      "cell_type": "code",
      "execution_count": 224,
      "metadata": {
        "id": "cnFwWYxB56qk",
        "colab": {
          "base_uri": "https://localhost:8080/"
        },
        "outputId": "923e14ba-dad6-433b-aa29-c229759e8ac4"
      },
      "outputs": [
        {
          "output_type": "stream",
          "name": "stdout",
          "text": [
            "sms_spam_collection/SMSSpamCollection.tsv already exists. Skipping download and extraction.\n"
          ]
        }
      ],
      "source": [
        "import urllib.request\n",
        "import ssl\n",
        "import zipfile\n",
        "import os\n",
        "from pathlib import Path\n",
        "\n",
        "url = \"https://archive.ics.uci.edu/static/public/228/sms+spam+collection.zip\"\n",
        "zip_path = \"sms_spam_collection.zip\"\n",
        "extracted_path = \"sms_spam_collection\"\n",
        "data_file_path = Path(extracted_path) / \"SMSSpamCollection.tsv\"\n",
        "\n",
        "def download_and_unzip_spam_data(url, zip_path, extracted_path, data_file_path):\n",
        "    if data_file_path.exists():\n",
        "        print(f\"{data_file_path} already exists. Skipping download and extraction.\")\n",
        "        return\n",
        "\n",
        "    # Create an unverified SSL context\n",
        "    ssl_context = ssl._create_unverified_context()\n",
        "\n",
        "    # Downloading the file\n",
        "    with urllib.request.urlopen(url, context=ssl_context) as response:\n",
        "        with open(zip_path, \"wb\") as out_file:\n",
        "            out_file.write(response.read())\n",
        "\n",
        "    # Unzipping the file\n",
        "    with zipfile.ZipFile(zip_path, \"r\") as zip_ref:\n",
        "        zip_ref.extractall(extracted_path)\n",
        "\n",
        "    # Add .tsv file extension\n",
        "    original_file_path = Path(extracted_path) / \"SMSSpamCollection\"\n",
        "    os.rename(original_file_path, data_file_path)\n",
        "    print(f\"File downloaded and saved as {data_file_path}\")\n",
        "\n",
        "download_and_unzip_spam_data(url, zip_path, extracted_path, data_file_path)\n"
      ]
    },
    {
      "cell_type": "code",
      "execution_count": 225,
      "metadata": {
        "id": "-sAbLDJg7gBe",
        "colab": {
          "base_uri": "https://localhost:8080/",
          "height": 423
        },
        "outputId": "1cc01914-150c-4541-cae3-e73ad751f04a"
      },
      "outputs": [
        {
          "output_type": "execute_result",
          "data": {
            "text/plain": [
              "     Label                                               Text\n",
              "0      ham  Go until jurong point, crazy.. Available only ...\n",
              "1      ham                      Ok lar... Joking wif u oni...\n",
              "2     spam  Free entry in 2 a wkly comp to win FA Cup fina...\n",
              "3      ham  U dun say so early hor... U c already then say...\n",
              "4      ham  Nah I don't think he goes to usf, he lives aro...\n",
              "...    ...                                                ...\n",
              "5567  spam  This is the 2nd time we have tried 2 contact u...\n",
              "5568   ham               Will ü b going to esplanade fr home?\n",
              "5569   ham  Pity, * was in mood for that. So...any other s...\n",
              "5570   ham  The guy did some bitching but I acted like i'd...\n",
              "5571   ham                         Rofl. Its true to its name\n",
              "\n",
              "[5572 rows x 2 columns]"
            ],
            "text/html": [
              "\n",
              "  <div id=\"df-05cc22c5-be2b-4ef9-b1d5-ceaf6925d93a\" class=\"colab-df-container\">\n",
              "    <div>\n",
              "<style scoped>\n",
              "    .dataframe tbody tr th:only-of-type {\n",
              "        vertical-align: middle;\n",
              "    }\n",
              "\n",
              "    .dataframe tbody tr th {\n",
              "        vertical-align: top;\n",
              "    }\n",
              "\n",
              "    .dataframe thead th {\n",
              "        text-align: right;\n",
              "    }\n",
              "</style>\n",
              "<table border=\"1\" class=\"dataframe\">\n",
              "  <thead>\n",
              "    <tr style=\"text-align: right;\">\n",
              "      <th></th>\n",
              "      <th>Label</th>\n",
              "      <th>Text</th>\n",
              "    </tr>\n",
              "  </thead>\n",
              "  <tbody>\n",
              "    <tr>\n",
              "      <th>0</th>\n",
              "      <td>ham</td>\n",
              "      <td>Go until jurong point, crazy.. Available only ...</td>\n",
              "    </tr>\n",
              "    <tr>\n",
              "      <th>1</th>\n",
              "      <td>ham</td>\n",
              "      <td>Ok lar... Joking wif u oni...</td>\n",
              "    </tr>\n",
              "    <tr>\n",
              "      <th>2</th>\n",
              "      <td>spam</td>\n",
              "      <td>Free entry in 2 a wkly comp to win FA Cup fina...</td>\n",
              "    </tr>\n",
              "    <tr>\n",
              "      <th>3</th>\n",
              "      <td>ham</td>\n",
              "      <td>U dun say so early hor... U c already then say...</td>\n",
              "    </tr>\n",
              "    <tr>\n",
              "      <th>4</th>\n",
              "      <td>ham</td>\n",
              "      <td>Nah I don't think he goes to usf, he lives aro...</td>\n",
              "    </tr>\n",
              "    <tr>\n",
              "      <th>...</th>\n",
              "      <td>...</td>\n",
              "      <td>...</td>\n",
              "    </tr>\n",
              "    <tr>\n",
              "      <th>5567</th>\n",
              "      <td>spam</td>\n",
              "      <td>This is the 2nd time we have tried 2 contact u...</td>\n",
              "    </tr>\n",
              "    <tr>\n",
              "      <th>5568</th>\n",
              "      <td>ham</td>\n",
              "      <td>Will ü b going to esplanade fr home?</td>\n",
              "    </tr>\n",
              "    <tr>\n",
              "      <th>5569</th>\n",
              "      <td>ham</td>\n",
              "      <td>Pity, * was in mood for that. So...any other s...</td>\n",
              "    </tr>\n",
              "    <tr>\n",
              "      <th>5570</th>\n",
              "      <td>ham</td>\n",
              "      <td>The guy did some bitching but I acted like i'd...</td>\n",
              "    </tr>\n",
              "    <tr>\n",
              "      <th>5571</th>\n",
              "      <td>ham</td>\n",
              "      <td>Rofl. Its true to its name</td>\n",
              "    </tr>\n",
              "  </tbody>\n",
              "</table>\n",
              "<p>5572 rows × 2 columns</p>\n",
              "</div>\n",
              "    <div class=\"colab-df-buttons\">\n",
              "\n",
              "  <div class=\"colab-df-container\">\n",
              "    <button class=\"colab-df-convert\" onclick=\"convertToInteractive('df-05cc22c5-be2b-4ef9-b1d5-ceaf6925d93a')\"\n",
              "            title=\"Convert this dataframe to an interactive table.\"\n",
              "            style=\"display:none;\">\n",
              "\n",
              "  <svg xmlns=\"http://www.w3.org/2000/svg\" height=\"24px\" viewBox=\"0 -960 960 960\">\n",
              "    <path d=\"M120-120v-720h720v720H120Zm60-500h600v-160H180v160Zm220 220h160v-160H400v160Zm0 220h160v-160H400v160ZM180-400h160v-160H180v160Zm440 0h160v-160H620v160ZM180-180h160v-160H180v160Zm440 0h160v-160H620v160Z\"/>\n",
              "  </svg>\n",
              "    </button>\n",
              "\n",
              "  <style>\n",
              "    .colab-df-container {\n",
              "      display:flex;\n",
              "      gap: 12px;\n",
              "    }\n",
              "\n",
              "    .colab-df-convert {\n",
              "      background-color: #E8F0FE;\n",
              "      border: none;\n",
              "      border-radius: 50%;\n",
              "      cursor: pointer;\n",
              "      display: none;\n",
              "      fill: #1967D2;\n",
              "      height: 32px;\n",
              "      padding: 0 0 0 0;\n",
              "      width: 32px;\n",
              "    }\n",
              "\n",
              "    .colab-df-convert:hover {\n",
              "      background-color: #E2EBFA;\n",
              "      box-shadow: 0px 1px 2px rgba(60, 64, 67, 0.3), 0px 1px 3px 1px rgba(60, 64, 67, 0.15);\n",
              "      fill: #174EA6;\n",
              "    }\n",
              "\n",
              "    .colab-df-buttons div {\n",
              "      margin-bottom: 4px;\n",
              "    }\n",
              "\n",
              "    [theme=dark] .colab-df-convert {\n",
              "      background-color: #3B4455;\n",
              "      fill: #D2E3FC;\n",
              "    }\n",
              "\n",
              "    [theme=dark] .colab-df-convert:hover {\n",
              "      background-color: #434B5C;\n",
              "      box-shadow: 0px 1px 3px 1px rgba(0, 0, 0, 0.15);\n",
              "      filter: drop-shadow(0px 1px 2px rgba(0, 0, 0, 0.3));\n",
              "      fill: #FFFFFF;\n",
              "    }\n",
              "  </style>\n",
              "\n",
              "    <script>\n",
              "      const buttonEl =\n",
              "        document.querySelector('#df-05cc22c5-be2b-4ef9-b1d5-ceaf6925d93a button.colab-df-convert');\n",
              "      buttonEl.style.display =\n",
              "        google.colab.kernel.accessAllowed ? 'block' : 'none';\n",
              "\n",
              "      async function convertToInteractive(key) {\n",
              "        const element = document.querySelector('#df-05cc22c5-be2b-4ef9-b1d5-ceaf6925d93a');\n",
              "        const dataTable =\n",
              "          await google.colab.kernel.invokeFunction('convertToInteractive',\n",
              "                                                    [key], {});\n",
              "        if (!dataTable) return;\n",
              "\n",
              "        const docLinkHtml = 'Like what you see? Visit the ' +\n",
              "          '<a target=\"_blank\" href=https://colab.research.google.com/notebooks/data_table.ipynb>data table notebook</a>'\n",
              "          + ' to learn more about interactive tables.';\n",
              "        element.innerHTML = '';\n",
              "        dataTable['output_type'] = 'display_data';\n",
              "        await google.colab.output.renderOutput(dataTable, element);\n",
              "        const docLink = document.createElement('div');\n",
              "        docLink.innerHTML = docLinkHtml;\n",
              "        element.appendChild(docLink);\n",
              "      }\n",
              "    </script>\n",
              "  </div>\n",
              "\n",
              "\n",
              "    <div id=\"df-ac356cea-e7b5-44d9-bd7a-ec94f4fea678\">\n",
              "      <button class=\"colab-df-quickchart\" onclick=\"quickchart('df-ac356cea-e7b5-44d9-bd7a-ec94f4fea678')\"\n",
              "                title=\"Suggest charts\"\n",
              "                style=\"display:none;\">\n",
              "\n",
              "<svg xmlns=\"http://www.w3.org/2000/svg\" height=\"24px\"viewBox=\"0 0 24 24\"\n",
              "     width=\"24px\">\n",
              "    <g>\n",
              "        <path d=\"M19 3H5c-1.1 0-2 .9-2 2v14c0 1.1.9 2 2 2h14c1.1 0 2-.9 2-2V5c0-1.1-.9-2-2-2zM9 17H7v-7h2v7zm4 0h-2V7h2v10zm4 0h-2v-4h2v4z\"/>\n",
              "    </g>\n",
              "</svg>\n",
              "      </button>\n",
              "\n",
              "<style>\n",
              "  .colab-df-quickchart {\n",
              "      --bg-color: #E8F0FE;\n",
              "      --fill-color: #1967D2;\n",
              "      --hover-bg-color: #E2EBFA;\n",
              "      --hover-fill-color: #174EA6;\n",
              "      --disabled-fill-color: #AAA;\n",
              "      --disabled-bg-color: #DDD;\n",
              "  }\n",
              "\n",
              "  [theme=dark] .colab-df-quickchart {\n",
              "      --bg-color: #3B4455;\n",
              "      --fill-color: #D2E3FC;\n",
              "      --hover-bg-color: #434B5C;\n",
              "      --hover-fill-color: #FFFFFF;\n",
              "      --disabled-bg-color: #3B4455;\n",
              "      --disabled-fill-color: #666;\n",
              "  }\n",
              "\n",
              "  .colab-df-quickchart {\n",
              "    background-color: var(--bg-color);\n",
              "    border: none;\n",
              "    border-radius: 50%;\n",
              "    cursor: pointer;\n",
              "    display: none;\n",
              "    fill: var(--fill-color);\n",
              "    height: 32px;\n",
              "    padding: 0;\n",
              "    width: 32px;\n",
              "  }\n",
              "\n",
              "  .colab-df-quickchart:hover {\n",
              "    background-color: var(--hover-bg-color);\n",
              "    box-shadow: 0 1px 2px rgba(60, 64, 67, 0.3), 0 1px 3px 1px rgba(60, 64, 67, 0.15);\n",
              "    fill: var(--button-hover-fill-color);\n",
              "  }\n",
              "\n",
              "  .colab-df-quickchart-complete:disabled,\n",
              "  .colab-df-quickchart-complete:disabled:hover {\n",
              "    background-color: var(--disabled-bg-color);\n",
              "    fill: var(--disabled-fill-color);\n",
              "    box-shadow: none;\n",
              "  }\n",
              "\n",
              "  .colab-df-spinner {\n",
              "    border: 2px solid var(--fill-color);\n",
              "    border-color: transparent;\n",
              "    border-bottom-color: var(--fill-color);\n",
              "    animation:\n",
              "      spin 1s steps(1) infinite;\n",
              "  }\n",
              "\n",
              "  @keyframes spin {\n",
              "    0% {\n",
              "      border-color: transparent;\n",
              "      border-bottom-color: var(--fill-color);\n",
              "      border-left-color: var(--fill-color);\n",
              "    }\n",
              "    20% {\n",
              "      border-color: transparent;\n",
              "      border-left-color: var(--fill-color);\n",
              "      border-top-color: var(--fill-color);\n",
              "    }\n",
              "    30% {\n",
              "      border-color: transparent;\n",
              "      border-left-color: var(--fill-color);\n",
              "      border-top-color: var(--fill-color);\n",
              "      border-right-color: var(--fill-color);\n",
              "    }\n",
              "    40% {\n",
              "      border-color: transparent;\n",
              "      border-right-color: var(--fill-color);\n",
              "      border-top-color: var(--fill-color);\n",
              "    }\n",
              "    60% {\n",
              "      border-color: transparent;\n",
              "      border-right-color: var(--fill-color);\n",
              "    }\n",
              "    80% {\n",
              "      border-color: transparent;\n",
              "      border-right-color: var(--fill-color);\n",
              "      border-bottom-color: var(--fill-color);\n",
              "    }\n",
              "    90% {\n",
              "      border-color: transparent;\n",
              "      border-bottom-color: var(--fill-color);\n",
              "    }\n",
              "  }\n",
              "</style>\n",
              "\n",
              "      <script>\n",
              "        async function quickchart(key) {\n",
              "          const quickchartButtonEl =\n",
              "            document.querySelector('#' + key + ' button');\n",
              "          quickchartButtonEl.disabled = true;  // To prevent multiple clicks.\n",
              "          quickchartButtonEl.classList.add('colab-df-spinner');\n",
              "          try {\n",
              "            const charts = await google.colab.kernel.invokeFunction(\n",
              "                'suggestCharts', [key], {});\n",
              "          } catch (error) {\n",
              "            console.error('Error during call to suggestCharts:', error);\n",
              "          }\n",
              "          quickchartButtonEl.classList.remove('colab-df-spinner');\n",
              "          quickchartButtonEl.classList.add('colab-df-quickchart-complete');\n",
              "        }\n",
              "        (() => {\n",
              "          let quickchartButtonEl =\n",
              "            document.querySelector('#df-ac356cea-e7b5-44d9-bd7a-ec94f4fea678 button');\n",
              "          quickchartButtonEl.style.display =\n",
              "            google.colab.kernel.accessAllowed ? 'block' : 'none';\n",
              "        })();\n",
              "      </script>\n",
              "    </div>\n",
              "\n",
              "  <div id=\"id_e7fd79f9-af0b-4180-8168-039ab2634250\">\n",
              "    <style>\n",
              "      .colab-df-generate {\n",
              "        background-color: #E8F0FE;\n",
              "        border: none;\n",
              "        border-radius: 50%;\n",
              "        cursor: pointer;\n",
              "        display: none;\n",
              "        fill: #1967D2;\n",
              "        height: 32px;\n",
              "        padding: 0 0 0 0;\n",
              "        width: 32px;\n",
              "      }\n",
              "\n",
              "      .colab-df-generate:hover {\n",
              "        background-color: #E2EBFA;\n",
              "        box-shadow: 0px 1px 2px rgba(60, 64, 67, 0.3), 0px 1px 3px 1px rgba(60, 64, 67, 0.15);\n",
              "        fill: #174EA6;\n",
              "      }\n",
              "\n",
              "      [theme=dark] .colab-df-generate {\n",
              "        background-color: #3B4455;\n",
              "        fill: #D2E3FC;\n",
              "      }\n",
              "\n",
              "      [theme=dark] .colab-df-generate:hover {\n",
              "        background-color: #434B5C;\n",
              "        box-shadow: 0px 1px 3px 1px rgba(0, 0, 0, 0.15);\n",
              "        filter: drop-shadow(0px 1px 2px rgba(0, 0, 0, 0.3));\n",
              "        fill: #FFFFFF;\n",
              "      }\n",
              "    </style>\n",
              "    <button class=\"colab-df-generate\" onclick=\"generateWithVariable('df')\"\n",
              "            title=\"Generate code using this dataframe.\"\n",
              "            style=\"display:none;\">\n",
              "\n",
              "  <svg xmlns=\"http://www.w3.org/2000/svg\" height=\"24px\"viewBox=\"0 0 24 24\"\n",
              "       width=\"24px\">\n",
              "    <path d=\"M7,19H8.4L18.45,9,17,7.55,7,17.6ZM5,21V16.75L18.45,3.32a2,2,0,0,1,2.83,0l1.4,1.43a1.91,1.91,0,0,1,.58,1.4,1.91,1.91,0,0,1-.58,1.4L9.25,21ZM18.45,9,17,7.55Zm-12,3A5.31,5.31,0,0,0,4.9,8.1,5.31,5.31,0,0,0,1,6.5,5.31,5.31,0,0,0,4.9,4.9,5.31,5.31,0,0,0,6.5,1,5.31,5.31,0,0,0,8.1,4.9,5.31,5.31,0,0,0,12,6.5,5.46,5.46,0,0,0,6.5,12Z\"/>\n",
              "  </svg>\n",
              "    </button>\n",
              "    <script>\n",
              "      (() => {\n",
              "      const buttonEl =\n",
              "        document.querySelector('#id_e7fd79f9-af0b-4180-8168-039ab2634250 button.colab-df-generate');\n",
              "      buttonEl.style.display =\n",
              "        google.colab.kernel.accessAllowed ? 'block' : 'none';\n",
              "\n",
              "      buttonEl.onclick = () => {\n",
              "        google.colab.notebook.generateWithVariable('df');\n",
              "      }\n",
              "      })();\n",
              "    </script>\n",
              "  </div>\n",
              "\n",
              "    </div>\n",
              "  </div>\n"
            ],
            "application/vnd.google.colaboratory.intrinsic+json": {
              "type": "dataframe",
              "variable_name": "df",
              "summary": "{\n  \"name\": \"df\",\n  \"rows\": 5572,\n  \"fields\": [\n    {\n      \"column\": \"Label\",\n      \"properties\": {\n        \"dtype\": \"category\",\n        \"num_unique_values\": 2,\n        \"samples\": [\n          \"spam\",\n          \"ham\"\n        ],\n        \"semantic_type\": \"\",\n        \"description\": \"\"\n      }\n    },\n    {\n      \"column\": \"Text\",\n      \"properties\": {\n        \"dtype\": \"string\",\n        \"num_unique_values\": 5169,\n        \"samples\": [\n          \"K, makes sense, btw carlos is being difficult so you guys are gonna smoke while I go pick up the second batch and get gas\",\n          \"URGENT! Your mobile No *********** WON a \\u00a32,000 Bonus Caller Prize on 02/06/03! This is the 2nd attempt to reach YOU! Call 09066362220 ASAP! BOX97N7QP, 150ppm\"\n        ],\n        \"semantic_type\": \"\",\n        \"description\": \"\"\n      }\n    }\n  ]\n}"
            }
          },
          "metadata": {},
          "execution_count": 225
        }
      ],
      "source": [
        "import pandas as pd\n",
        "df = pd.read_csv(data_file_path, sep=\"\\t\",header=None, names=[\"Label\",\"Text\"])\n",
        "df"
      ]
    },
    {
      "cell_type": "code",
      "execution_count": 226,
      "metadata": {
        "id": "FUNxqLo_7uWM",
        "colab": {
          "base_uri": "https://localhost:8080/"
        },
        "outputId": "9b784c16-0c87-408c-a751-3b6858030e97"
      },
      "outputs": [
        {
          "output_type": "stream",
          "name": "stdout",
          "text": [
            "Label\n",
            "ham     4825\n",
            "spam     747\n",
            "Name: count, dtype: int64\n"
          ]
        }
      ],
      "source": [
        "print(df[\"Label\"].value_counts())"
      ]
    },
    {
      "cell_type": "code",
      "execution_count": 227,
      "metadata": {
        "id": "MuAQlZdM7zHN",
        "colab": {
          "base_uri": "https://localhost:8080/"
        },
        "outputId": "0344dda1-ec68-4aaf-9fd6-d734809c288e"
      },
      "outputs": [
        {
          "output_type": "stream",
          "name": "stdout",
          "text": [
            "Label\n",
            "ham     747\n",
            "spam    747\n",
            "Name: count, dtype: int64\n"
          ]
        }
      ],
      "source": [
        "def create_balanced_dataset(df):\n",
        "  num_spam = df[df[\"Label\"] ==\"spam\"].shape[0]\n",
        "  ham_subset = df[df[\"Label\"]==\"ham\"].sample(num_spam,random_state=123)\n",
        "  balanced_df = pd.concat([ham_subset,df[df[\"Label\"]==\"spam\"]])\n",
        "  return balanced_df\n",
        "\n",
        "balanced_df = create_balanced_dataset(df)\n",
        "print(balanced_df[\"Label\"].value_counts())"
      ]
    },
    {
      "cell_type": "code",
      "execution_count": 228,
      "metadata": {
        "id": "8g-faCkT8bEJ"
      },
      "outputs": [],
      "source": [
        "balanced_df[\"Label\"]= balanced_df[\"Label\"].map({\"ham\":0,\"spam\":1})"
      ]
    },
    {
      "cell_type": "code",
      "execution_count": 229,
      "metadata": {
        "id": "0J3bqc2j9AEA"
      },
      "outputs": [],
      "source": [
        "# 70% training , 10% validation , 20% testing\n",
        "def random_split(df, train_frac, validation_frac):\n",
        "  df = df.sample(frac=1, random_state=123).reset_index(drop=True)\n",
        "\n",
        "  #Calculate split indices\n",
        "  train_end = int(len(df) * train_frac)\n",
        "  validation_end = train_end + int(len(df) * validation_frac)\n",
        "  train_df = df[:train_end]\n",
        "  validation_df = df[train_end:validation_end]\n",
        "  test_df = df[validation_end:]\n",
        "\n",
        "  return train_df, validation_df, test_df\n",
        "\n",
        "\n",
        "train_df, validation_df, test_df = random_split(balanced_df,0.7,0.1)"
      ]
    },
    {
      "cell_type": "code",
      "execution_count": 230,
      "metadata": {
        "id": "Pr0rvFDZ981k",
        "colab": {
          "base_uri": "https://localhost:8080/"
        },
        "outputId": "8f2711ac-5824-4bf6-e465-73960209eee4"
      },
      "outputs": [
        {
          "output_type": "stream",
          "name": "stdout",
          "text": [
            "1045\n",
            "149\n",
            "300\n"
          ]
        }
      ],
      "source": [
        "print(len(train_df))\n",
        "print(len(validation_df))\n",
        "print(len(test_df))"
      ]
    },
    {
      "cell_type": "code",
      "execution_count": 231,
      "metadata": {
        "id": "ftpxR3jn-DGH"
      },
      "outputs": [],
      "source": [
        "train_df.to_csv(\"train.csv\",index=False)\n",
        "validation_df.to_csv(\"validation.csv\",index=False)\n",
        "test_df.to_csv(\"test.csv\",index=False)"
      ]
    },
    {
      "cell_type": "markdown",
      "metadata": {
        "id": "uYvCZ-AkDpfm"
      },
      "source": [
        "DATALOADERS"
      ]
    },
    {
      "cell_type": "code",
      "execution_count": 232,
      "metadata": {
        "id": "ELH_pyRrDiwj"
      },
      "outputs": [],
      "source": [
        "import torch\n",
        "from torch.utils.data import Dataset\n",
        "\n",
        "class SpamDataSet(Dataset):\n",
        "  def __init__(self,csv_file, tokenizer, max_length=None, pad_token_id = 50256):\n",
        "    self.data = pd.read_csv(csv_file)\n",
        "\n",
        "    self.encoded_texts = [\n",
        "        tokenizer.encode(text) for text in self.data[\"Text\"]\n",
        "    ]\n",
        "\n",
        "    if max_length is None:\n",
        "      self.max_length = self._longest_encoded_length()\n",
        "    else:\n",
        "      self.max_length = max_length\n",
        "\n",
        "      self.encoded_texts = {encoded_text[:self.max_length]\n",
        "                            for encoded_text in self.encoded_texts}\n",
        "\n",
        "    self.encoded_texts = [\n",
        "        encoded_text + [pad_token_id] * (self.max_length - len(encoded_text))\n",
        "        for encoded_text in self.encoded_texts\n",
        "    ]\n",
        "\n",
        "  def __getitem__(self,index):\n",
        "    encoded = self.encoded_texts[index]\n",
        "    label = self.data.iloc[index][\"Label\"]\n",
        "    return (\n",
        "        torch.tensor(encoded, dtype = torch.long),\n",
        "        torch.tensor(label, dtype=torch.long)\n",
        "    )\n",
        "\n",
        "  def _longest_encoded_length(self):\n",
        "    max_length = 0\n",
        "    for encoded_text in self.encoded_texts:\n",
        "      encoded_length = len(encoded_text)\n",
        "      if encoded_length > max_length:\n",
        "        max_length = encoded_length\n",
        "    return max_length\n",
        "\n",
        "  def __len__(self):\n",
        "    return len(self.data)\n",
        "\n"
      ]
    },
    {
      "cell_type": "code",
      "execution_count": 233,
      "metadata": {
        "id": "3N6hFxVpGWZq",
        "colab": {
          "base_uri": "https://localhost:8080/"
        },
        "outputId": "3b744b03-9224-46a2-a7cc-d43acddf96e0"
      },
      "outputs": [
        {
          "output_type": "stream",
          "name": "stdout",
          "text": [
            "120\n",
            "71\n",
            "92\n"
          ]
        }
      ],
      "source": [
        "train_dataset = SpamDataSet(csv_file = \"train.csv\",\n",
        "                            max_length = None,\n",
        "                            tokenizer = tokenizer)\n",
        "print(train_dataset.max_length)\n",
        "\n",
        "val_dataset = SpamDataSet(csv_file = \"validation.csv\",\n",
        "                            max_length = None,\n",
        "                            tokenizer = tokenizer)\n",
        "print(val_dataset.max_length)\n",
        "\n",
        "test_dataset = SpamDataSet(csv_file = \"test.csv\",\n",
        "                            max_length = None,\n",
        "                            tokenizer = tokenizer)\n",
        "print(test_dataset.max_length)"
      ]
    },
    {
      "cell_type": "code",
      "execution_count": 234,
      "metadata": {
        "id": "913237b9"
      },
      "outputs": [],
      "source": [
        "from torch.utils.data import DataLoader\n",
        "\n",
        "batch_size = 16 # Choose an appropriate batch size\n",
        "train_loader = DataLoader(train_dataset, batch_size=batch_size, shuffle=True)\n",
        "\n",
        "batch_size = 16 # Choose an appropriate batch size\n",
        "test_loader = DataLoader(test_dataset, batch_size=batch_size, shuffle=True)\n",
        "\n",
        "batch_size = 16 # Choose an appropriate batch size\n",
        "val_loader = DataLoader(val_dataset, batch_size=batch_size, shuffle=True)"
      ]
    },
    {
      "cell_type": "markdown",
      "source": [
        "INITIALIZING A MODEL WITH PRETRAINED WEIGHTS\n",
        "\n"
      ],
      "metadata": {
        "id": "tzVMbkiEvGLg"
      }
    },
    {
      "cell_type": "code",
      "execution_count": 235,
      "metadata": {
        "id": "Kxc-Y5lOGV8a",
        "colab": {
          "base_uri": "https://localhost:8080/"
        },
        "outputId": "4e77a885-1391-4b06-9e3c-ff773fdc8fea"
      },
      "outputs": [
        {
          "output_type": "execute_result",
          "data": {
            "text/plain": [
              "GPTModel(\n",
              "  (tok_emb): Embedding(50257, 768)\n",
              "  (pos_emb): Embedding(1024, 768)\n",
              "  (drop_emb): Dropout(p=0.0, inplace=False)\n",
              "  (trf_blocks): Sequential(\n",
              "    (0): TransformerBlock(\n",
              "      (attn): MultiHeadAttention(\n",
              "        (W_query): Linear(in_features=768, out_features=768, bias=True)\n",
              "        (W_key): Linear(in_features=768, out_features=768, bias=True)\n",
              "        (W_value): Linear(in_features=768, out_features=768, bias=True)\n",
              "        (out_proj): Linear(in_features=768, out_features=768, bias=True)\n",
              "        (dropout): Dropout(p=0.0, inplace=False)\n",
              "      )\n",
              "      (ff): FeedForward(\n",
              "        (layers): Sequential(\n",
              "          (0): Linear(in_features=768, out_features=3072, bias=True)\n",
              "          (1): GELU()\n",
              "          (2): Linear(in_features=3072, out_features=768, bias=True)\n",
              "        )\n",
              "      )\n",
              "      (norm1): LayerNorm()\n",
              "      (norm2): LayerNorm()\n",
              "      (drop_shortcut): Dropout(p=0.0, inplace=False)\n",
              "    )\n",
              "    (1): TransformerBlock(\n",
              "      (attn): MultiHeadAttention(\n",
              "        (W_query): Linear(in_features=768, out_features=768, bias=True)\n",
              "        (W_key): Linear(in_features=768, out_features=768, bias=True)\n",
              "        (W_value): Linear(in_features=768, out_features=768, bias=True)\n",
              "        (out_proj): Linear(in_features=768, out_features=768, bias=True)\n",
              "        (dropout): Dropout(p=0.0, inplace=False)\n",
              "      )\n",
              "      (ff): FeedForward(\n",
              "        (layers): Sequential(\n",
              "          (0): Linear(in_features=768, out_features=3072, bias=True)\n",
              "          (1): GELU()\n",
              "          (2): Linear(in_features=3072, out_features=768, bias=True)\n",
              "        )\n",
              "      )\n",
              "      (norm1): LayerNorm()\n",
              "      (norm2): LayerNorm()\n",
              "      (drop_shortcut): Dropout(p=0.0, inplace=False)\n",
              "    )\n",
              "    (2): TransformerBlock(\n",
              "      (attn): MultiHeadAttention(\n",
              "        (W_query): Linear(in_features=768, out_features=768, bias=True)\n",
              "        (W_key): Linear(in_features=768, out_features=768, bias=True)\n",
              "        (W_value): Linear(in_features=768, out_features=768, bias=True)\n",
              "        (out_proj): Linear(in_features=768, out_features=768, bias=True)\n",
              "        (dropout): Dropout(p=0.0, inplace=False)\n",
              "      )\n",
              "      (ff): FeedForward(\n",
              "        (layers): Sequential(\n",
              "          (0): Linear(in_features=768, out_features=3072, bias=True)\n",
              "          (1): GELU()\n",
              "          (2): Linear(in_features=3072, out_features=768, bias=True)\n",
              "        )\n",
              "      )\n",
              "      (norm1): LayerNorm()\n",
              "      (norm2): LayerNorm()\n",
              "      (drop_shortcut): Dropout(p=0.0, inplace=False)\n",
              "    )\n",
              "    (3): TransformerBlock(\n",
              "      (attn): MultiHeadAttention(\n",
              "        (W_query): Linear(in_features=768, out_features=768, bias=True)\n",
              "        (W_key): Linear(in_features=768, out_features=768, bias=True)\n",
              "        (W_value): Linear(in_features=768, out_features=768, bias=True)\n",
              "        (out_proj): Linear(in_features=768, out_features=768, bias=True)\n",
              "        (dropout): Dropout(p=0.0, inplace=False)\n",
              "      )\n",
              "      (ff): FeedForward(\n",
              "        (layers): Sequential(\n",
              "          (0): Linear(in_features=768, out_features=3072, bias=True)\n",
              "          (1): GELU()\n",
              "          (2): Linear(in_features=3072, out_features=768, bias=True)\n",
              "        )\n",
              "      )\n",
              "      (norm1): LayerNorm()\n",
              "      (norm2): LayerNorm()\n",
              "      (drop_shortcut): Dropout(p=0.0, inplace=False)\n",
              "    )\n",
              "    (4): TransformerBlock(\n",
              "      (attn): MultiHeadAttention(\n",
              "        (W_query): Linear(in_features=768, out_features=768, bias=True)\n",
              "        (W_key): Linear(in_features=768, out_features=768, bias=True)\n",
              "        (W_value): Linear(in_features=768, out_features=768, bias=True)\n",
              "        (out_proj): Linear(in_features=768, out_features=768, bias=True)\n",
              "        (dropout): Dropout(p=0.0, inplace=False)\n",
              "      )\n",
              "      (ff): FeedForward(\n",
              "        (layers): Sequential(\n",
              "          (0): Linear(in_features=768, out_features=3072, bias=True)\n",
              "          (1): GELU()\n",
              "          (2): Linear(in_features=3072, out_features=768, bias=True)\n",
              "        )\n",
              "      )\n",
              "      (norm1): LayerNorm()\n",
              "      (norm2): LayerNorm()\n",
              "      (drop_shortcut): Dropout(p=0.0, inplace=False)\n",
              "    )\n",
              "    (5): TransformerBlock(\n",
              "      (attn): MultiHeadAttention(\n",
              "        (W_query): Linear(in_features=768, out_features=768, bias=True)\n",
              "        (W_key): Linear(in_features=768, out_features=768, bias=True)\n",
              "        (W_value): Linear(in_features=768, out_features=768, bias=True)\n",
              "        (out_proj): Linear(in_features=768, out_features=768, bias=True)\n",
              "        (dropout): Dropout(p=0.0, inplace=False)\n",
              "      )\n",
              "      (ff): FeedForward(\n",
              "        (layers): Sequential(\n",
              "          (0): Linear(in_features=768, out_features=3072, bias=True)\n",
              "          (1): GELU()\n",
              "          (2): Linear(in_features=3072, out_features=768, bias=True)\n",
              "        )\n",
              "      )\n",
              "      (norm1): LayerNorm()\n",
              "      (norm2): LayerNorm()\n",
              "      (drop_shortcut): Dropout(p=0.0, inplace=False)\n",
              "    )\n",
              "    (6): TransformerBlock(\n",
              "      (attn): MultiHeadAttention(\n",
              "        (W_query): Linear(in_features=768, out_features=768, bias=True)\n",
              "        (W_key): Linear(in_features=768, out_features=768, bias=True)\n",
              "        (W_value): Linear(in_features=768, out_features=768, bias=True)\n",
              "        (out_proj): Linear(in_features=768, out_features=768, bias=True)\n",
              "        (dropout): Dropout(p=0.0, inplace=False)\n",
              "      )\n",
              "      (ff): FeedForward(\n",
              "        (layers): Sequential(\n",
              "          (0): Linear(in_features=768, out_features=3072, bias=True)\n",
              "          (1): GELU()\n",
              "          (2): Linear(in_features=3072, out_features=768, bias=True)\n",
              "        )\n",
              "      )\n",
              "      (norm1): LayerNorm()\n",
              "      (norm2): LayerNorm()\n",
              "      (drop_shortcut): Dropout(p=0.0, inplace=False)\n",
              "    )\n",
              "    (7): TransformerBlock(\n",
              "      (attn): MultiHeadAttention(\n",
              "        (W_query): Linear(in_features=768, out_features=768, bias=True)\n",
              "        (W_key): Linear(in_features=768, out_features=768, bias=True)\n",
              "        (W_value): Linear(in_features=768, out_features=768, bias=True)\n",
              "        (out_proj): Linear(in_features=768, out_features=768, bias=True)\n",
              "        (dropout): Dropout(p=0.0, inplace=False)\n",
              "      )\n",
              "      (ff): FeedForward(\n",
              "        (layers): Sequential(\n",
              "          (0): Linear(in_features=768, out_features=3072, bias=True)\n",
              "          (1): GELU()\n",
              "          (2): Linear(in_features=3072, out_features=768, bias=True)\n",
              "        )\n",
              "      )\n",
              "      (norm1): LayerNorm()\n",
              "      (norm2): LayerNorm()\n",
              "      (drop_shortcut): Dropout(p=0.0, inplace=False)\n",
              "    )\n",
              "    (8): TransformerBlock(\n",
              "      (attn): MultiHeadAttention(\n",
              "        (W_query): Linear(in_features=768, out_features=768, bias=True)\n",
              "        (W_key): Linear(in_features=768, out_features=768, bias=True)\n",
              "        (W_value): Linear(in_features=768, out_features=768, bias=True)\n",
              "        (out_proj): Linear(in_features=768, out_features=768, bias=True)\n",
              "        (dropout): Dropout(p=0.0, inplace=False)\n",
              "      )\n",
              "      (ff): FeedForward(\n",
              "        (layers): Sequential(\n",
              "          (0): Linear(in_features=768, out_features=3072, bias=True)\n",
              "          (1): GELU()\n",
              "          (2): Linear(in_features=3072, out_features=768, bias=True)\n",
              "        )\n",
              "      )\n",
              "      (norm1): LayerNorm()\n",
              "      (norm2): LayerNorm()\n",
              "      (drop_shortcut): Dropout(p=0.0, inplace=False)\n",
              "    )\n",
              "    (9): TransformerBlock(\n",
              "      (attn): MultiHeadAttention(\n",
              "        (W_query): Linear(in_features=768, out_features=768, bias=True)\n",
              "        (W_key): Linear(in_features=768, out_features=768, bias=True)\n",
              "        (W_value): Linear(in_features=768, out_features=768, bias=True)\n",
              "        (out_proj): Linear(in_features=768, out_features=768, bias=True)\n",
              "        (dropout): Dropout(p=0.0, inplace=False)\n",
              "      )\n",
              "      (ff): FeedForward(\n",
              "        (layers): Sequential(\n",
              "          (0): Linear(in_features=768, out_features=3072, bias=True)\n",
              "          (1): GELU()\n",
              "          (2): Linear(in_features=3072, out_features=768, bias=True)\n",
              "        )\n",
              "      )\n",
              "      (norm1): LayerNorm()\n",
              "      (norm2): LayerNorm()\n",
              "      (drop_shortcut): Dropout(p=0.0, inplace=False)\n",
              "    )\n",
              "    (10): TransformerBlock(\n",
              "      (attn): MultiHeadAttention(\n",
              "        (W_query): Linear(in_features=768, out_features=768, bias=True)\n",
              "        (W_key): Linear(in_features=768, out_features=768, bias=True)\n",
              "        (W_value): Linear(in_features=768, out_features=768, bias=True)\n",
              "        (out_proj): Linear(in_features=768, out_features=768, bias=True)\n",
              "        (dropout): Dropout(p=0.0, inplace=False)\n",
              "      )\n",
              "      (ff): FeedForward(\n",
              "        (layers): Sequential(\n",
              "          (0): Linear(in_features=768, out_features=3072, bias=True)\n",
              "          (1): GELU()\n",
              "          (2): Linear(in_features=3072, out_features=768, bias=True)\n",
              "        )\n",
              "      )\n",
              "      (norm1): LayerNorm()\n",
              "      (norm2): LayerNorm()\n",
              "      (drop_shortcut): Dropout(p=0.0, inplace=False)\n",
              "    )\n",
              "    (11): TransformerBlock(\n",
              "      (attn): MultiHeadAttention(\n",
              "        (W_query): Linear(in_features=768, out_features=768, bias=True)\n",
              "        (W_key): Linear(in_features=768, out_features=768, bias=True)\n",
              "        (W_value): Linear(in_features=768, out_features=768, bias=True)\n",
              "        (out_proj): Linear(in_features=768, out_features=768, bias=True)\n",
              "        (dropout): Dropout(p=0.0, inplace=False)\n",
              "      )\n",
              "      (ff): FeedForward(\n",
              "        (layers): Sequential(\n",
              "          (0): Linear(in_features=768, out_features=3072, bias=True)\n",
              "          (1): GELU()\n",
              "          (2): Linear(in_features=3072, out_features=768, bias=True)\n",
              "        )\n",
              "      )\n",
              "      (norm1): LayerNorm()\n",
              "      (norm2): LayerNorm()\n",
              "      (drop_shortcut): Dropout(p=0.0, inplace=False)\n",
              "    )\n",
              "  )\n",
              "  (final_norm): LayerNorm()\n",
              "  (out_head): Linear(in_features=768, out_features=50257, bias=False)\n",
              ")"
            ]
          },
          "metadata": {},
          "execution_count": 235
        }
      ],
      "source": [
        "CHOOSE_MODEL = \"gpt2-small (124M)\"\n",
        "INPUT_PROMT = \"Every effort moves\"\n",
        "\n",
        "BASE_CONFIG = {\n",
        "    \"vocab_size\": 50257,\n",
        "    \"context_length\":1024,\n",
        "    \"drop_rate\":0.0,\n",
        "    \"qkv_bias\":True\n",
        "}\n",
        "\n",
        "model_configs = {\n",
        "    \"gpt2-small (124M)\": {\"emb_dim\":768,\"n_layers\":12,\"n_heads\":12},\n",
        "    \"gpt2-medium (355M)\": {\"emb_dim\":1024,\"n_layers\":24,\"n_heads\":16},\n",
        "    \"gpt2-large (774M)\": {\"emb_dim\":1280,\"n_layers\":36,\"n_heads\":20},\n",
        "    \"gpt2-xl (1558M)\": {\"emb_dim\":1600,\"n_layers\":48,\"n_heads\":25},\n",
        "}\n",
        "\n",
        "BASE_CONFIG.update(model_configs[CHOOSE_MODEL])\n",
        "\n",
        "assert train_dataset.max_length <= BASE_CONFIG[\"context_length\"],(\n",
        "    f\"Dataset length {train_dataset.max_length} exceeds model's context\"\n",
        "    f\"length {BASE_CONFIG['context_length']}. Reinitialize data sets with\"\n",
        "    f\"max_length = {BASE_CONFIG['context_length']}\"\n",
        ")\n",
        "\n",
        "model = GPTModel(BASE_CONFIG)\n",
        "model.load_state_dict(gpt.state_dict())\n",
        "model.eval()\n"
      ]
    },
    {
      "cell_type": "code",
      "execution_count": 236,
      "metadata": {
        "id": "cyOYhOgKKq4S",
        "colab": {
          "base_uri": "https://localhost:8080/"
        },
        "outputId": "4a73af86-b9a2-44a7-8a41-2d7fa3d778b9"
      },
      "outputs": [
        {
          "output_type": "stream",
          "name": "stdout",
          "text": [
            "Every effort moves you forward.\n",
            "\n",
            "The first step is to understand the importance of your work\n"
          ]
        }
      ],
      "source": [
        "text1 = \"Every effort moves you\"\n",
        "\n",
        "token_ids = generate_text_simple(model = model, idx = text_to_token_ids(text1, tokenizer), max_new_tokens = 15, context_size = BASE_CONFIG[\"context_length\"])\n",
        "print(token_ids_to_text(token_ids,tokenizer))"
      ]
    },
    {
      "cell_type": "code",
      "source": [
        "text2 = \"Is the following text 'spam'? Answer with 'yes' or 'no':\"\n",
        "\"'You are a winner you have been specially selected to receive $1000 cash or a $2000 award\"\n",
        "\n",
        "token_ids = generate_text_simple(model = model, idx = text_to_token_ids(text2, tokenizer), max_new_tokens = 23, context_size = BASE_CONFIG[\"context_length\"])\n",
        "print(token_ids_to_text(token_ids,tokenizer))"
      ],
      "metadata": {
        "id": "uJKApozuyOzQ",
        "colab": {
          "base_uri": "https://localhost:8080/"
        },
        "outputId": "23b3be07-a128-42fe-ef1d-395c901d3401"
      },
      "execution_count": 237,
      "outputs": [
        {
          "output_type": "stream",
          "name": "stdout",
          "text": [
            "Is the following text 'spam'? Answer with 'yes' or 'no':\n",
            "\n",
            "'spam' is a term used to describe a type of spam that is not spamming.\n",
            "\n"
          ]
        }
      ]
    },
    {
      "cell_type": "markdown",
      "source": [
        "ADDING A CLASSIFICATION HEAD"
      ],
      "metadata": {
        "id": "b0etsIxh3jKx"
      }
    },
    {
      "cell_type": "code",
      "source": [
        "print(model)"
      ],
      "metadata": {
        "id": "3tFpM7hV3sPQ",
        "colab": {
          "base_uri": "https://localhost:8080/"
        },
        "outputId": "cd53ab6f-1abd-479c-8291-22d9ce1e329e"
      },
      "execution_count": 238,
      "outputs": [
        {
          "output_type": "stream",
          "name": "stdout",
          "text": [
            "GPTModel(\n",
            "  (tok_emb): Embedding(50257, 768)\n",
            "  (pos_emb): Embedding(1024, 768)\n",
            "  (drop_emb): Dropout(p=0.0, inplace=False)\n",
            "  (trf_blocks): Sequential(\n",
            "    (0): TransformerBlock(\n",
            "      (attn): MultiHeadAttention(\n",
            "        (W_query): Linear(in_features=768, out_features=768, bias=True)\n",
            "        (W_key): Linear(in_features=768, out_features=768, bias=True)\n",
            "        (W_value): Linear(in_features=768, out_features=768, bias=True)\n",
            "        (out_proj): Linear(in_features=768, out_features=768, bias=True)\n",
            "        (dropout): Dropout(p=0.0, inplace=False)\n",
            "      )\n",
            "      (ff): FeedForward(\n",
            "        (layers): Sequential(\n",
            "          (0): Linear(in_features=768, out_features=3072, bias=True)\n",
            "          (1): GELU()\n",
            "          (2): Linear(in_features=3072, out_features=768, bias=True)\n",
            "        )\n",
            "      )\n",
            "      (norm1): LayerNorm()\n",
            "      (norm2): LayerNorm()\n",
            "      (drop_shortcut): Dropout(p=0.0, inplace=False)\n",
            "    )\n",
            "    (1): TransformerBlock(\n",
            "      (attn): MultiHeadAttention(\n",
            "        (W_query): Linear(in_features=768, out_features=768, bias=True)\n",
            "        (W_key): Linear(in_features=768, out_features=768, bias=True)\n",
            "        (W_value): Linear(in_features=768, out_features=768, bias=True)\n",
            "        (out_proj): Linear(in_features=768, out_features=768, bias=True)\n",
            "        (dropout): Dropout(p=0.0, inplace=False)\n",
            "      )\n",
            "      (ff): FeedForward(\n",
            "        (layers): Sequential(\n",
            "          (0): Linear(in_features=768, out_features=3072, bias=True)\n",
            "          (1): GELU()\n",
            "          (2): Linear(in_features=3072, out_features=768, bias=True)\n",
            "        )\n",
            "      )\n",
            "      (norm1): LayerNorm()\n",
            "      (norm2): LayerNorm()\n",
            "      (drop_shortcut): Dropout(p=0.0, inplace=False)\n",
            "    )\n",
            "    (2): TransformerBlock(\n",
            "      (attn): MultiHeadAttention(\n",
            "        (W_query): Linear(in_features=768, out_features=768, bias=True)\n",
            "        (W_key): Linear(in_features=768, out_features=768, bias=True)\n",
            "        (W_value): Linear(in_features=768, out_features=768, bias=True)\n",
            "        (out_proj): Linear(in_features=768, out_features=768, bias=True)\n",
            "        (dropout): Dropout(p=0.0, inplace=False)\n",
            "      )\n",
            "      (ff): FeedForward(\n",
            "        (layers): Sequential(\n",
            "          (0): Linear(in_features=768, out_features=3072, bias=True)\n",
            "          (1): GELU()\n",
            "          (2): Linear(in_features=3072, out_features=768, bias=True)\n",
            "        )\n",
            "      )\n",
            "      (norm1): LayerNorm()\n",
            "      (norm2): LayerNorm()\n",
            "      (drop_shortcut): Dropout(p=0.0, inplace=False)\n",
            "    )\n",
            "    (3): TransformerBlock(\n",
            "      (attn): MultiHeadAttention(\n",
            "        (W_query): Linear(in_features=768, out_features=768, bias=True)\n",
            "        (W_key): Linear(in_features=768, out_features=768, bias=True)\n",
            "        (W_value): Linear(in_features=768, out_features=768, bias=True)\n",
            "        (out_proj): Linear(in_features=768, out_features=768, bias=True)\n",
            "        (dropout): Dropout(p=0.0, inplace=False)\n",
            "      )\n",
            "      (ff): FeedForward(\n",
            "        (layers): Sequential(\n",
            "          (0): Linear(in_features=768, out_features=3072, bias=True)\n",
            "          (1): GELU()\n",
            "          (2): Linear(in_features=3072, out_features=768, bias=True)\n",
            "        )\n",
            "      )\n",
            "      (norm1): LayerNorm()\n",
            "      (norm2): LayerNorm()\n",
            "      (drop_shortcut): Dropout(p=0.0, inplace=False)\n",
            "    )\n",
            "    (4): TransformerBlock(\n",
            "      (attn): MultiHeadAttention(\n",
            "        (W_query): Linear(in_features=768, out_features=768, bias=True)\n",
            "        (W_key): Linear(in_features=768, out_features=768, bias=True)\n",
            "        (W_value): Linear(in_features=768, out_features=768, bias=True)\n",
            "        (out_proj): Linear(in_features=768, out_features=768, bias=True)\n",
            "        (dropout): Dropout(p=0.0, inplace=False)\n",
            "      )\n",
            "      (ff): FeedForward(\n",
            "        (layers): Sequential(\n",
            "          (0): Linear(in_features=768, out_features=3072, bias=True)\n",
            "          (1): GELU()\n",
            "          (2): Linear(in_features=3072, out_features=768, bias=True)\n",
            "        )\n",
            "      )\n",
            "      (norm1): LayerNorm()\n",
            "      (norm2): LayerNorm()\n",
            "      (drop_shortcut): Dropout(p=0.0, inplace=False)\n",
            "    )\n",
            "    (5): TransformerBlock(\n",
            "      (attn): MultiHeadAttention(\n",
            "        (W_query): Linear(in_features=768, out_features=768, bias=True)\n",
            "        (W_key): Linear(in_features=768, out_features=768, bias=True)\n",
            "        (W_value): Linear(in_features=768, out_features=768, bias=True)\n",
            "        (out_proj): Linear(in_features=768, out_features=768, bias=True)\n",
            "        (dropout): Dropout(p=0.0, inplace=False)\n",
            "      )\n",
            "      (ff): FeedForward(\n",
            "        (layers): Sequential(\n",
            "          (0): Linear(in_features=768, out_features=3072, bias=True)\n",
            "          (1): GELU()\n",
            "          (2): Linear(in_features=3072, out_features=768, bias=True)\n",
            "        )\n",
            "      )\n",
            "      (norm1): LayerNorm()\n",
            "      (norm2): LayerNorm()\n",
            "      (drop_shortcut): Dropout(p=0.0, inplace=False)\n",
            "    )\n",
            "    (6): TransformerBlock(\n",
            "      (attn): MultiHeadAttention(\n",
            "        (W_query): Linear(in_features=768, out_features=768, bias=True)\n",
            "        (W_key): Linear(in_features=768, out_features=768, bias=True)\n",
            "        (W_value): Linear(in_features=768, out_features=768, bias=True)\n",
            "        (out_proj): Linear(in_features=768, out_features=768, bias=True)\n",
            "        (dropout): Dropout(p=0.0, inplace=False)\n",
            "      )\n",
            "      (ff): FeedForward(\n",
            "        (layers): Sequential(\n",
            "          (0): Linear(in_features=768, out_features=3072, bias=True)\n",
            "          (1): GELU()\n",
            "          (2): Linear(in_features=3072, out_features=768, bias=True)\n",
            "        )\n",
            "      )\n",
            "      (norm1): LayerNorm()\n",
            "      (norm2): LayerNorm()\n",
            "      (drop_shortcut): Dropout(p=0.0, inplace=False)\n",
            "    )\n",
            "    (7): TransformerBlock(\n",
            "      (attn): MultiHeadAttention(\n",
            "        (W_query): Linear(in_features=768, out_features=768, bias=True)\n",
            "        (W_key): Linear(in_features=768, out_features=768, bias=True)\n",
            "        (W_value): Linear(in_features=768, out_features=768, bias=True)\n",
            "        (out_proj): Linear(in_features=768, out_features=768, bias=True)\n",
            "        (dropout): Dropout(p=0.0, inplace=False)\n",
            "      )\n",
            "      (ff): FeedForward(\n",
            "        (layers): Sequential(\n",
            "          (0): Linear(in_features=768, out_features=3072, bias=True)\n",
            "          (1): GELU()\n",
            "          (2): Linear(in_features=3072, out_features=768, bias=True)\n",
            "        )\n",
            "      )\n",
            "      (norm1): LayerNorm()\n",
            "      (norm2): LayerNorm()\n",
            "      (drop_shortcut): Dropout(p=0.0, inplace=False)\n",
            "    )\n",
            "    (8): TransformerBlock(\n",
            "      (attn): MultiHeadAttention(\n",
            "        (W_query): Linear(in_features=768, out_features=768, bias=True)\n",
            "        (W_key): Linear(in_features=768, out_features=768, bias=True)\n",
            "        (W_value): Linear(in_features=768, out_features=768, bias=True)\n",
            "        (out_proj): Linear(in_features=768, out_features=768, bias=True)\n",
            "        (dropout): Dropout(p=0.0, inplace=False)\n",
            "      )\n",
            "      (ff): FeedForward(\n",
            "        (layers): Sequential(\n",
            "          (0): Linear(in_features=768, out_features=3072, bias=True)\n",
            "          (1): GELU()\n",
            "          (2): Linear(in_features=3072, out_features=768, bias=True)\n",
            "        )\n",
            "      )\n",
            "      (norm1): LayerNorm()\n",
            "      (norm2): LayerNorm()\n",
            "      (drop_shortcut): Dropout(p=0.0, inplace=False)\n",
            "    )\n",
            "    (9): TransformerBlock(\n",
            "      (attn): MultiHeadAttention(\n",
            "        (W_query): Linear(in_features=768, out_features=768, bias=True)\n",
            "        (W_key): Linear(in_features=768, out_features=768, bias=True)\n",
            "        (W_value): Linear(in_features=768, out_features=768, bias=True)\n",
            "        (out_proj): Linear(in_features=768, out_features=768, bias=True)\n",
            "        (dropout): Dropout(p=0.0, inplace=False)\n",
            "      )\n",
            "      (ff): FeedForward(\n",
            "        (layers): Sequential(\n",
            "          (0): Linear(in_features=768, out_features=3072, bias=True)\n",
            "          (1): GELU()\n",
            "          (2): Linear(in_features=3072, out_features=768, bias=True)\n",
            "        )\n",
            "      )\n",
            "      (norm1): LayerNorm()\n",
            "      (norm2): LayerNorm()\n",
            "      (drop_shortcut): Dropout(p=0.0, inplace=False)\n",
            "    )\n",
            "    (10): TransformerBlock(\n",
            "      (attn): MultiHeadAttention(\n",
            "        (W_query): Linear(in_features=768, out_features=768, bias=True)\n",
            "        (W_key): Linear(in_features=768, out_features=768, bias=True)\n",
            "        (W_value): Linear(in_features=768, out_features=768, bias=True)\n",
            "        (out_proj): Linear(in_features=768, out_features=768, bias=True)\n",
            "        (dropout): Dropout(p=0.0, inplace=False)\n",
            "      )\n",
            "      (ff): FeedForward(\n",
            "        (layers): Sequential(\n",
            "          (0): Linear(in_features=768, out_features=3072, bias=True)\n",
            "          (1): GELU()\n",
            "          (2): Linear(in_features=3072, out_features=768, bias=True)\n",
            "        )\n",
            "      )\n",
            "      (norm1): LayerNorm()\n",
            "      (norm2): LayerNorm()\n",
            "      (drop_shortcut): Dropout(p=0.0, inplace=False)\n",
            "    )\n",
            "    (11): TransformerBlock(\n",
            "      (attn): MultiHeadAttention(\n",
            "        (W_query): Linear(in_features=768, out_features=768, bias=True)\n",
            "        (W_key): Linear(in_features=768, out_features=768, bias=True)\n",
            "        (W_value): Linear(in_features=768, out_features=768, bias=True)\n",
            "        (out_proj): Linear(in_features=768, out_features=768, bias=True)\n",
            "        (dropout): Dropout(p=0.0, inplace=False)\n",
            "      )\n",
            "      (ff): FeedForward(\n",
            "        (layers): Sequential(\n",
            "          (0): Linear(in_features=768, out_features=3072, bias=True)\n",
            "          (1): GELU()\n",
            "          (2): Linear(in_features=3072, out_features=768, bias=True)\n",
            "        )\n",
            "      )\n",
            "      (norm1): LayerNorm()\n",
            "      (norm2): LayerNorm()\n",
            "      (drop_shortcut): Dropout(p=0.0, inplace=False)\n",
            "    )\n",
            "  )\n",
            "  (final_norm): LayerNorm()\n",
            "  (out_head): Linear(in_features=768, out_features=50257, bias=False)\n",
            ")\n"
          ]
        }
      ]
    },
    {
      "cell_type": "markdown",
      "source": [
        "FREESING THE MODEL"
      ],
      "metadata": {
        "id": "PWRyI0v5yx3o"
      }
    },
    {
      "cell_type": "code",
      "source": [
        "for param in model.parameters():\n",
        "  param.requires_grad = False"
      ],
      "metadata": {
        "id": "jZZ0WFj94DH2"
      },
      "execution_count": 239,
      "outputs": []
    },
    {
      "cell_type": "code",
      "source": [
        "torch.manual_seed(123)\n",
        "num_classes = 2\n",
        "model.out_head = torch.nn.Linear(in_features=BASE_CONFIG[\"emb_dim\"],out_features=num_classes)\n",
        "\n",
        "for param in model.trf_blocks[-1].parameters():\n",
        "  param.requires_grad = True\n",
        "\n",
        "for param in model.final_norm.parameters():\n",
        "  param.requires_grad = True"
      ],
      "metadata": {
        "id": "a6NS5apJ4H_4"
      },
      "execution_count": 240,
      "outputs": []
    },
    {
      "cell_type": "code",
      "source": [
        "inputs = tokenizer.encode(\"Do you have time\")\n",
        "inputs = torch.tensor(inputs).unsqueeze(0)\n",
        "print(\"Inputs\",inputs)\n",
        "print(\"Inputs dimensions:\",inputs.shape)"
      ],
      "metadata": {
        "id": "sBZ25QZiAOJX",
        "colab": {
          "base_uri": "https://localhost:8080/"
        },
        "outputId": "ac7cb67b-ee31-47dc-bf69-42e28d09bcba"
      },
      "execution_count": 241,
      "outputs": [
        {
          "output_type": "stream",
          "name": "stdout",
          "text": [
            "Inputs tensor([[5211,  345,  423,  640]])\n",
            "Inputs dimensions: torch.Size([1, 4])\n"
          ]
        }
      ]
    },
    {
      "cell_type": "code",
      "source": [
        "with torch.no_grad():\n",
        "  outputs = model(inputs)\n",
        "\n",
        "print(\"Outputs:\\n\",outputs)\n",
        "print(\"Outputs dimensions\",outputs.shape)"
      ],
      "metadata": {
        "id": "XLFAActKAll5",
        "colab": {
          "base_uri": "https://localhost:8080/"
        },
        "outputId": "6f905078-e3dc-4766-dc6f-71c0ffad1126"
      },
      "execution_count": 242,
      "outputs": [
        {
          "output_type": "stream",
          "name": "stdout",
          "text": [
            "Outputs:\n",
            " tensor([[[-1.5854,  0.9904],\n",
            "         [-3.7235,  7.4548],\n",
            "         [-2.2661,  6.6049],\n",
            "         [-3.5983,  3.9902]]])\n",
            "Outputs dimensions torch.Size([1, 4, 2])\n"
          ]
        }
      ]
    },
    {
      "cell_type": "code",
      "source": [
        "print(\"Last output token:\",outputs[:,-1,:])"
      ],
      "metadata": {
        "id": "secKeY6DBeyc",
        "colab": {
          "base_uri": "https://localhost:8080/"
        },
        "outputId": "48d2e6ca-e741-422c-cc5d-0dfe762411f4"
      },
      "execution_count": 243,
      "outputs": [
        {
          "output_type": "stream",
          "name": "stdout",
          "text": [
            "Last output token: tensor([[-3.5983,  3.9902]])\n"
          ]
        }
      ]
    },
    {
      "cell_type": "markdown",
      "source": [
        "OBTAINING CLASS LABEL"
      ],
      "metadata": {
        "id": "Kksy9zZL2x_8"
      }
    },
    {
      "cell_type": "code",
      "source": [
        "probas = torch.softmax(outputs[:,-1,:], dim=-1)\n",
        "label = torch.argmax(probas)\n",
        "print(\"Class label:\",label.item())"
      ],
      "metadata": {
        "id": "ZsYpfOr-20Ah",
        "colab": {
          "base_uri": "https://localhost:8080/"
        },
        "outputId": "5a25bc18-8efb-4b90-e73f-6b481db4b125"
      },
      "execution_count": 244,
      "outputs": [
        {
          "output_type": "stream",
          "name": "stdout",
          "text": [
            "Class label: 1\n"
          ]
        }
      ]
    },
    {
      "cell_type": "code",
      "source": [
        "logits = outputs[:,-1,:]\n",
        "label = torch.argmax(logits)\n",
        "print(\"Class label:\",label.item())"
      ],
      "metadata": {
        "colab": {
          "base_uri": "https://localhost:8080/"
        },
        "id": "0cGmpMAR3uwg",
        "outputId": "839a318e-3446-4b03-fbb6-1b67a270c286"
      },
      "execution_count": 245,
      "outputs": [
        {
          "output_type": "stream",
          "name": "stdout",
          "text": [
            "Class label: 1\n"
          ]
        }
      ]
    },
    {
      "cell_type": "markdown",
      "source": [
        "CALCULATING ACCURACY"
      ],
      "metadata": {
        "id": "lH10kBoa4Nro"
      }
    },
    {
      "cell_type": "code",
      "source": [
        "def calc_accuracy_loader(data_loader, model, device, num_batches=None):\n",
        "  model.eval()\n",
        "  correct_predictions, num_examples = 0, 0\n",
        "\n",
        "  if num_batches is None:\n",
        "    num_batches = len(data_loader)\n",
        "  else:\n",
        "    num_batches = min(num_batches, len(data_loader))\n",
        "  for i , (input_batch, target_batch) in enumerate(data_loader):\n",
        "    if i < num_batches:\n",
        "      input_batch, target_batch = input_batch.to(device), target_batch.to(device)\n",
        "\n",
        "      with torch.no_grad():\n",
        "        logits = model(input_batch)[:,-1,:]\n",
        "      predicted_labels = torch.argmax(logits, dim = -1)\n",
        "\n",
        "      num_examples += predicted_labels.shape[0]\n",
        "      correct_predictions += (predicted_labels == target_batch).sum().item()\n",
        "    else:\n",
        "      break\n",
        "\n",
        "  accuracy = correct_predictions / num_examples\n",
        "  return accuracy\n",
        "\n",
        "\n"
      ],
      "metadata": {
        "id": "_VFwhmXy4Pr2"
      },
      "execution_count": 246,
      "outputs": []
    },
    {
      "cell_type": "code",
      "source": [
        "print(train_loader)\n",
        "print(val_loader)\n",
        "print(test_loader)\n",
        "device = torch.device(\"cuda\" if torch.cuda.is_available() else \"cpu\")\n",
        "model.to(device)\n",
        "\n",
        "torch.manual_seed(123)\n",
        "train_accuracy = calc_accuracy_loader(train_loader, model, device, num_batches = 10)\n",
        "val_accuracy = calc_accuracy_loader(val_loader, model, device, num_batches=10)\n",
        "test_accuracy = calc_accuracy_loader(test_loader, model, device, num_batches=10)\n",
        "\n",
        "print(f\"Train accuracy: {train_accuracy:.4f}\")\n",
        "print(f\"Validation accuracy: {val_accuracy:.4f}\")\n",
        "print(f\"Test accuracy: {test_accuracy:.4f}\")"
      ],
      "metadata": {
        "colab": {
          "base_uri": "https://localhost:8080/"
        },
        "id": "eyc3vfxisNjz",
        "outputId": "15fe09ec-7a3f-401c-b45e-6f3bd9c10df8"
      },
      "execution_count": 247,
      "outputs": [
        {
          "output_type": "stream",
          "name": "stdout",
          "text": [
            "<torch.utils.data.dataloader.DataLoader object at 0x7e7738941d60>\n",
            "<torch.utils.data.dataloader.DataLoader object at 0x7e79464150a0>\n",
            "<torch.utils.data.dataloader.DataLoader object at 0x7e79463fc470>\n",
            "Train accuracy: 0.4875\n",
            "Validation accuracy: 0.5302\n",
            "Test accuracy: 0.5312\n"
          ]
        }
      ]
    },
    {
      "cell_type": "code",
      "source": [
        "def calc_loss_batch(input_batch, target_batch, model, device):\n",
        "  input_batch, target_batch = input_batch.to(device) , target_batch.to(device)\n",
        "  logits = model(input_batch)[:,-1,:]\n",
        "  loss = torch.nn.functional.cross_entropy(logits, target_batch)\n",
        "  return loss"
      ],
      "metadata": {
        "id": "vpzb9LdMVXFP"
      },
      "execution_count": 248,
      "outputs": []
    },
    {
      "cell_type": "code",
      "source": [
        "def calc_loss_loader(data_loader,model, device, num_batches=None):\n",
        "  total_loss = 0\n",
        "  if len(data_loader) ==0:\n",
        "    return float(\"nan\")\n",
        "  elif num_batches is None:\n",
        "    num_batches = len(data_loader)\n",
        "  else:\n",
        "    num_batches = min(num_batches, len(data_loader))\n",
        "\n",
        "  for i, (input_batch, target_batch) in enumerate(data_loader):\n",
        "    if i < num_batches:\n",
        "      loss = calc_loss_batch(input_batch, target_batch, model, device)\n",
        "      total_loss += loss.item()\n",
        "    else:\n",
        "      break\n",
        "  return total_loss / num_batches\n",
        ""
      ],
      "metadata": {
        "id": "MLbFAaStW1s5"
      },
      "execution_count": 249,
      "outputs": []
    },
    {
      "cell_type": "code",
      "source": [
        "with torch.no_grad():\n",
        "  train_loss = calc_loss_loader(train_loader, model, device, num_batches=5)\n",
        "  val_loss = calc_loss_loader(val_loader, model, device, num_batches=5)\n",
        "  test_loss = calc_loss_loader(test_loader, model, device, num_batches=5)"
      ],
      "metadata": {
        "id": "Hya5_42dYFLB"
      },
      "execution_count": 250,
      "outputs": []
    },
    {
      "cell_type": "markdown",
      "source": [
        "FINETUNING THE MODEL ON SUPERVISED DATA"
      ],
      "metadata": {
        "id": "gSQJruq1aLmY"
      }
    },
    {
      "cell_type": "code",
      "source": [
        "def train_classifier_simple(model, train_loader, val_loader, optimizer, device, num_epochs,\n",
        "                            eval_freq, eval_iter):\n",
        "    # Initialize lists to track losses and examples seen\n",
        "    train_losses, val_losses, train_accs, val_accs = [], [], [], []\n",
        "    examples_seen, global_step = 0, -1\n",
        "\n",
        "    # Main training loop\n",
        "    for epoch in range(num_epochs):\n",
        "        model.train()  # Set model to training mode\n",
        "\n",
        "        for input_batch, target_batch in train_loader:\n",
        "            optimizer.zero_grad() # Reset loss gradients from previous batch iteration\n",
        "            loss = calc_loss_batch(input_batch, target_batch, model, device)\n",
        "            loss.backward() # Calculate loss gradients\n",
        "            optimizer.step() # Update model weights using loss gradients\n",
        "            examples_seen += input_batch.shape[0] # New: track examples instead of tokens\n",
        "            global_step += 1\n",
        "\n",
        "            # Optional evaluation step\n",
        "            if global_step % eval_freq == 0:\n",
        "                train_loss, val_loss = evaluate_model(\n",
        "                    model, train_loader, val_loader, device, eval_iter)\n",
        "                train_losses.append(train_loss)\n",
        "                val_losses.append(val_loss)\n",
        "                print(f\"Ep {epoch+1} (Step {global_step:06d}): \"\n",
        "                      f\"Train loss {train_loss:.3f}, Val loss {val_loss:.3f}\")\n",
        "\n",
        "        # Calculate accuracy after each epoch\n",
        "        train_accuracy = calc_accuracy_loader(train_loader, model, device, num_batches=eval_iter)\n",
        "        val_accuracy = calc_accuracy_loader(val_loader, model, device, num_batches=eval_iter)\n",
        "        print(f\"Training accuracy: {train_accuracy*100:.2f}% | \", end=\"\")\n",
        "        print(f\"Validation accuracy: {val_accuracy*100:.2f}%\")\n",
        "        train_accs.append(train_accuracy)\n",
        "        val_accs.append(val_accuracy)\n",
        "\n",
        "    return train_losses, val_losses, train_accs, val_accs, examples_seen"
      ],
      "metadata": {
        "id": "Ycqu9wTVaOQj"
      },
      "execution_count": 251,
      "outputs": []
    },
    {
      "cell_type": "code",
      "source": [
        "def evaluate_model(model, train_loader, val_loader, device, eval_iter):\n",
        "    model.eval()\n",
        "    with torch.no_grad():\n",
        "        train_loss = calc_loss_loader(train_loader, model, device, num_batches=eval_iter)\n",
        "        val_loss = calc_loss_loader(val_loader, model, device, num_batches=eval_iter)\n",
        "    model.train()\n",
        "    return train_loss, val_loss"
      ],
      "metadata": {
        "id": "kurbyB6Ww1ww"
      },
      "execution_count": 252,
      "outputs": []
    },
    {
      "cell_type": "code",
      "source": [
        "import time\n",
        "\n",
        "start_time = time.time()\n",
        "\n",
        "torch.manual_seed(123)\n",
        "\n",
        "optimizer = torch.optim.AdamW(model.parameters(), lr=5e-5, weight_decay=0.1)\n",
        "\n",
        "num_epochs = 15\n",
        "train_losses, val_losses, train_accs, val_accs, examples_seen = train_classifier_simple(\n",
        "    model, train_loader, val_loader, optimizer, device,\n",
        "    num_epochs=num_epochs, eval_freq=50, eval_iter=5,\n",
        ")\n",
        "\n",
        "end_time = time.time()\n",
        "execution_time_minutes = (end_time - start_time) / 60\n",
        "print(f\"Training completed in {execution_time_minutes:.2f} minutes.\")"
      ],
      "metadata": {
        "colab": {
          "base_uri": "https://localhost:8080/"
        },
        "id": "FMUkaecFw8hc",
        "outputId": "1a32bea0-2f6a-4f71-f594-01622a00910a"
      },
      "execution_count": 253,
      "outputs": [
        {
          "output_type": "stream",
          "name": "stdout",
          "text": [
            "Ep 1 (Step 000000): Train loss 2.559, Val loss 2.583\n",
            "Ep 1 (Step 000050): Train loss 0.631, Val loss 0.608\n",
            "Training accuracy: 37.50% | Validation accuracy: 82.50%\n",
            "Ep 2 (Step 000100): Train loss 0.519, Val loss 0.645\n",
            "Training accuracy: 72.50% | Validation accuracy: 62.50%\n",
            "Ep 3 (Step 000150): Train loss 0.393, Val loss 0.705\n",
            "Training accuracy: 85.00% | Validation accuracy: 66.25%\n",
            "Ep 4 (Step 000200): Train loss 0.459, Val loss 0.726\n",
            "Ep 4 (Step 000250): Train loss 0.288, Val loss 0.484\n",
            "Training accuracy: 82.50% | Validation accuracy: 85.00%\n",
            "Ep 5 (Step 000300): Train loss 0.136, Val loss 0.333\n",
            "Training accuracy: 85.00% | Validation accuracy: 77.50%\n",
            "Ep 6 (Step 000350): Train loss 0.243, Val loss 0.376\n",
            "Training accuracy: 98.75% | Validation accuracy: 91.25%\n",
            "Ep 7 (Step 000400): Train loss 0.075, Val loss 0.211\n",
            "Ep 7 (Step 000450): Train loss 0.058, Val loss 0.230\n",
            "Training accuracy: 97.50% | Validation accuracy: 91.25%\n",
            "Ep 8 (Step 000500): Train loss 0.056, Val loss 0.222\n",
            "Training accuracy: 93.75% | Validation accuracy: 95.00%\n",
            "Ep 9 (Step 000550): Train loss 0.104, Val loss 0.063\n",
            "Training accuracy: 95.00% | Validation accuracy: 95.00%\n",
            "Ep 10 (Step 000600): Train loss 0.069, Val loss 0.110\n",
            "Ep 10 (Step 000650): Train loss 0.108, Val loss 0.198\n",
            "Training accuracy: 98.75% | Validation accuracy: 97.50%\n",
            "Ep 11 (Step 000700): Train loss 0.139, Val loss 0.157\n",
            "Training accuracy: 98.75% | Validation accuracy: 96.25%\n",
            "Ep 12 (Step 000750): Train loss 0.021, Val loss 0.163\n",
            "Training accuracy: 100.00% | Validation accuracy: 97.50%\n",
            "Ep 13 (Step 000800): Train loss 0.003, Val loss 0.115\n",
            "Ep 13 (Step 000850): Train loss 0.044, Val loss 0.142\n",
            "Training accuracy: 98.75% | Validation accuracy: 93.75%\n",
            "Ep 14 (Step 000900): Train loss 0.019, Val loss 0.212\n",
            "Training accuracy: 96.25% | Validation accuracy: 96.25%\n",
            "Ep 15 (Step 000950): Train loss 0.010, Val loss 0.037\n",
            "Training accuracy: 100.00% | Validation accuracy: 93.75%\n",
            "Training completed in 3.10 minutes.\n"
          ]
        }
      ]
    },
    {
      "cell_type": "code",
      "source": [
        "import matplotlib.pyplot as plt\n",
        "\n",
        "def plot_values(epochs_seen, examples_seen, train_values, val_values, label=\"loss\"):\n",
        "    fig, ax1 = plt.subplots(figsize=(5, 3))\n",
        "\n",
        "    # Plot training and validation loss against epochs\n",
        "    ax1.plot(epochs_seen, train_values, label=f\"Training {label}\")\n",
        "    ax1.plot(epochs_seen, val_values, linestyle=\"-.\", label=f\"Validation {label}\")\n",
        "    ax1.set_xlabel(\"Epochs\")\n",
        "    ax1.set_ylabel(label.capitalize())\n",
        "    ax1.legend()\n",
        "\n",
        "    # Create a second x-axis for examples seen\n",
        "    ax2 = ax1.twiny()  # Create a second x-axis that shares the same y-axis\n",
        "    ax2.plot(examples_seen, train_values, alpha=0)  # Invisible plot for aligning ticks\n",
        "    ax2.set_xlabel(\"Examples seen\")\n",
        "\n",
        "    fig.tight_layout()  # Adjust layout to make room\n",
        "    plt.savefig(f\"{label}-plot.pdf\")\n",
        "    plt.show()"
      ],
      "metadata": {
        "id": "_c4RxzD4xxSg"
      },
      "execution_count": 254,
      "outputs": []
    },
    {
      "cell_type": "code",
      "source": [
        "epochs_tensor = torch.linspace(0, num_epochs, len(train_losses))\n",
        "examples_seen_tensor = torch.linspace(0, examples_seen, len(train_losses))\n",
        "\n",
        "plot_values(epochs_tensor, examples_seen_tensor, train_losses, val_losses)"
      ],
      "metadata": {
        "colab": {
          "base_uri": "https://localhost:8080/",
          "height": 307
        },
        "id": "kAqTyJeKx1wd",
        "outputId": "c5836752-cf59-449f-d6bd-3091a83b7be9"
      },
      "execution_count": 255,
      "outputs": [
        {
          "output_type": "display_data",
          "data": {
            "text/plain": [
              "<Figure size 500x300 with 2 Axes>"
            ],
            "image/png": "[encoded data removed]"
          },
          "metadata": {}
        }
      ]
    },
    {
      "cell_type": "code",
      "source": [
        "epochs_tensor = torch.linspace(0, num_epochs, len(train_accs))\n",
        "examples_seen_tensor = torch.linspace(0, examples_seen, len(train_accs))\n",
        "\n",
        "plot_values(epochs_tensor, examples_seen_tensor, train_accs, val_accs, label=\"accuracy\")"
      ],
      "metadata": {
        "colab": {
          "base_uri": "https://localhost:8080/",
          "height": 307
        },
        "id": "nu8AWJ_Rx54e",
        "outputId": "cb959dff-0892-44e7-c364-b6ad742e4633"
      },
      "execution_count": 256,
      "outputs": [
        {
          "output_type": "display_data",
          "data": {
            "text/plain": [
              "<Figure size 500x300 with 2 Axes>"
            ],
            "image/png": "[encoded data removed]"
          },
          "metadata": {}
        }
      ]
    },
    {
      "cell_type": "code",
      "source": [
        "train_accuracy = calc_accuracy_loader(train_loader, model, device)\n",
        "val_accuracy = calc_accuracy_loader(val_loader, model, device)\n",
        "test_accuracy = calc_accuracy_loader(test_loader, model, device)\n",
        "\n",
        "print(f\"Training accuracy: {train_accuracy*100:.2f}%\")\n",
        "print(f\"Validation accuracy: {val_accuracy*100:.2f}%\")\n",
        "print(f\"Test accuracy: {test_accuracy*100:.2f}%\")"
      ],
      "metadata": {
        "colab": {
          "base_uri": "https://localhost:8080/"
        },
        "id": "YYNxMmIoyAfD",
        "outputId": "f8d21e4e-2ed2-46fd-acdc-84e2b2abd12c"
      },
      "execution_count": 257,
      "outputs": [
        {
          "output_type": "stream",
          "name": "stdout",
          "text": [
            "Training accuracy: 99.43%\n",
            "Validation accuracy: 95.30%\n",
            "Test accuracy: 95.00%\n"
          ]
        }
      ]
    },
    {
      "cell_type": "code",
      "source": [
        "def classify_review(text, model, tokenizer, device, max_length=None, pad_token_id = 50256):\n",
        "  input_ids = tokenizer.encode(text)\n",
        "  supported_context_length = model.pos_emb.weight.shape[0]\n",
        "\n",
        "  input_ids = input_ids[:min(max_length, supported_context_length)]\n",
        "\n",
        "  input_ids += [pad_token_id] * (max_length - len(input_ids))\n",
        "  input_tensor = torch.tensor(input_ids, device = device).unsqueeze(0)\n",
        "\n",
        "  with torch.no_grad():\n",
        "    logits = model(input_tensor)[:,-1,:]\n",
        "  predicted_label = torch.argmax(logits, dim=-1).item()\n",
        "\n",
        "  return \"spam\" if predicted_label == 1 else \"ham\"\n",
        "\n"
      ],
      "metadata": {
        "id": "9YMNb94f25zy"
      },
      "execution_count": 258,
      "outputs": []
    },
    {
      "cell_type": "code",
      "source": [
        "text1= (\n",
        "    \"You are a winner you have specially\"\n",
        "    \" selected to receive $2000 cash or a $500 reward\"\n",
        ")\n",
        "\n",
        "print(classify_review(text1,model, tokenizer, device, max_length=train_dataset.max_length))"
      ],
      "metadata": {
        "colab": {
          "base_uri": "https://localhost:8080/"
        },
        "id": "EUgzr5In4Y6c",
        "outputId": "6b423dc1-a222-4488-a3a2-9be636285921"
      },
      "execution_count": 259,
      "outputs": [
        {
          "output_type": "stream",
          "name": "stdout",
          "text": [
            "spam\n"
          ]
        }
      ]
    },
    {
      "cell_type": "code",
      "source": [
        "text2 = (\"Hey, lets have dinner tonight \")\n",
        "print(classify_review(text2,model, tokenizer, device, max_length=train_dataset.max_length))"
      ],
      "metadata": {
        "colab": {
          "base_uri": "https://localhost:8080/"
        },
        "id": "aM-CrUsl4vcK",
        "outputId": "a839291f-8878-424d-9dc5-4fa6b1ee2d87"
      },
      "execution_count": 260,
      "outputs": [
        {
          "output_type": "stream",
          "name": "stdout",
          "text": [
            "ham\n"
          ]
        }
      ]
    }
  ],
  "metadata": {
    "colab": {
      "provenance": [],
      "gpuType": "T4"
    },
    "kernelspec": {
      "display_name": "Python 3",
      "name": "python3"
    },
    "language_info": {
      "name": "python"
    },
    "accelerator": "GPU"
  },
  "nbformat": 4,
  "nbformat_minor": 0
}